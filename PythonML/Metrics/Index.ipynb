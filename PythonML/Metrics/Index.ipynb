{
 "cells": [
  {
   "cell_type": "markdown",
   "metadata": {},
   "source": [
    "## metrics（评估）\n",
    "\n",
    "此处主讲sklearn中的模型评估模块。这些模块都需要从sklearn.metrics中引用，在源码中我们可以看到源文件开口存在大量引用，其中`._classification`是分类有关的函数。`._ranking`是排序有关的函数；`.cluster`为聚类；`._regression`为回归。\n",
    "\n",
    "下面是一个使用案例"
   ]
  },
  {
   "cell_type": "code",
   "execution_count": 1,
   "metadata": {},
   "outputs": [],
   "source": [
    "from sklearn.datasets import load_iris\n",
    "from sklearn.tree import DecisionTreeClassifier\n",
    "from sklearn.model_selection import train_test_split\n",
    "\n",
    "\n",
    "clf = DecisionTreeClassifier(max_depth=3.5,random_state=0,ccp_alpha=0.5)\n",
    "data,target = load_iris(return_X_y=True)\n",
    "\n",
    "train_data, test_data, train_target, test_target = train_test_split(data,target, test_size=0.30, random_state=42)"
   ]
  },
  {
   "cell_type": "code",
   "execution_count": 2,
   "metadata": {},
   "outputs": [],
   "source": [
    "clf.fit(train_data,train_target)\n",
    "prediction = clf.predict(test_data)"
   ]
  },
  {
   "cell_type": "code",
   "execution_count": 3,
   "metadata": {},
   "outputs": [
    {
     "name": "stdout",
     "output_type": "stream",
     "text": [
      "score of train:  0.3523809523809524\n",
      "score of test:  0.28888888888888886\n"
     ]
    }
   ],
   "source": [
    "print(\"score of train: \",clf.score(train_data,train_target))\n",
    "print(\"score of test: \",clf.score(test_data,test_target))"
   ]
  },
  {
   "cell_type": "code",
   "execution_count": 4,
   "metadata": {},
   "outputs": [],
   "source": [
    "from sklearn.metrics import mean_squared_error, zero_one_loss\n",
    "import numpy as np"
   ]
  },
  {
   "cell_type": "code",
   "execution_count": 5,
   "metadata": {},
   "outputs": [
    {
     "name": "stdout",
     "output_type": "stream",
     "text": [
      "RMSE of prediction：  0.8432740427115678\n",
      "MSE of prediction：  0.7111111111111111\n"
     ]
    }
   ],
   "source": [
    "print(\"RMSE of prediction： \", np.sqrt(mean_squared_error(test_target, prediction)))\n",
    "print(\"MSE of prediction： \", mean_squared_error(test_target, prediction))"
   ]
  },
  {
   "cell_type": "markdown",
   "metadata": {},
   "source": [
    "### 分类\n",
    "\n",
    "- accuracy_score\n",
    "- balanced_accuracy_score\n",
    "- classification_report\n",
    "- cohen_kappa_score\n",
    "- confusion_matrix\n",
    "- f1_score\n",
    "- fbeta_score\n",
    "- hamming_loss\n",
    "- hinge_loss\n",
    "- jaccard_score\n",
    "- log_loss\n",
    "- matthews_corrcoef\n",
    "- precision_recall_fscore_support\n",
    "- precision_score\n",
    "- recall_score\n",
    "- zero_one_loss\n",
    "- brier_score_loss\n",
    "- multilabel_confusion_matrix"
   ]
  },
  {
   "cell_type": "code",
   "execution_count": 7,
   "metadata": {},
   "outputs": [
    {
     "name": "stdout",
     "output_type": "stream",
     "text": [
      "accuracy_score：  0.28888888888888886\n",
      "zero_one_loss：  0.7111111111111111\n"
     ]
    }
   ],
   "source": [
    "print(\"accuracy_score： \", accuracy_score(test_target, prediction))\n",
    "print(\"zero_one_loss： \", zero_one_loss(test_target, prediction))"
   ]
  },
  {
   "cell_type": "markdown",
   "metadata": {},
   "source": [
    "### 回归\n",
    "\n",
    "- explained_variance_score\n",
    "- max_error\n",
    "- mean_absolute_error\n",
    "- mean_squared_error\n",
    "- mean_squared_log_error\n",
    "- median_absolute_error\n",
    "- r2_score\n",
    "- mean_tweedie_deviance\n",
    "- mean_poisson_deviance\n",
    "- mean_gamma_deviance"
   ]
  },
  {
   "cell_type": "code",
   "execution_count": 8,
   "metadata": {},
   "outputs": [
    {
     "name": "stdout",
     "output_type": "stream",
     "text": [
      "mean_squared_error：  0.7111111111111111\n",
      "r2_score：  -0.025641025641025772\n"
     ]
    }
   ],
   "source": [
    "print(\"mean_squared_error： \", mean_squared_error(test_target, prediction))\n",
    "print(\"r2_score： \", r2_score(test_target, prediction))"
   ]
  },
  {
   "cell_type": "markdown",
   "metadata": {},
   "source": [
    "## 聚类\n",
    "\n",
    "- adjusted_mutual_info_score\n",
    "- adjusted_rand_score\n",
    "- completeness_score\n",
    "- consensus_score\n",
    "- homogeneity_completeness_v_measure\n",
    "- homogeneity_score\n",
    "- mutual_info_score\n",
    "- normalized_mutual_info_score\n",
    "- fowlkes_mallows_score\n",
    "- silhouette_samples\n",
    "- silhouette_score\n",
    "- calinski_harabasz_score\n",
    "- v_measure_score\n",
    "- davies_bouldin_score"
   ]
  },
  {
   "cell_type": "code",
   "execution_count": null,
   "metadata": {},
   "outputs": [],
   "source": []
  }
 ],
 "metadata": {
  "kernelspec": {
   "display_name": "Python 3",
   "language": "python",
   "name": "python3"
  },
  "language_info": {
   "codemirror_mode": {
    "name": "ipython",
    "version": 3
   },
   "file_extension": ".py",
   "mimetype": "text/x-python",
   "name": "python",
   "nbconvert_exporter": "python",
   "pygments_lexer": "ipython3",
   "version": "3.8.5"
  }
 },
 "nbformat": 4,
 "nbformat_minor": 4
}
