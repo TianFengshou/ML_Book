{
 "cells": [
  {
   "cell_type": "markdown",
   "metadata": {},
   "source": [
    "## 超参数优化\n",
    "\n",
    "\n",
    "超参数是无法在估算器中直接学习的参数。有一些固有方法可以用于超参数的优化，甚至自动优化\n",
    "\n",
    "### 网格搜索（GridSearchCV）\n",
    "\n",
    "网格搜索是一种简单的穷举算法，可以自动计算出我们所填写的参数的组合效果。我们需要通过多次手动调节来获取最佳结果。\n",
    "\n",
    "**参数：**\n",
    "- estimator：学习器\n",
    "\n",
    "### 随机优化（RandomizedSearchCV）"
   ]
  }
 ],
 "metadata": {
  "kernelspec": {
   "display_name": "Python 3 (ipykernel)",
   "language": "python",
   "name": "python3"
  },
  "language_info": {
   "codemirror_mode": {
    "name": "ipython",
    "version": 3
   },
   "file_extension": ".py",
   "mimetype": "text/x-python",
   "name": "python",
   "nbconvert_exporter": "python",
   "pygments_lexer": "ipython3",
   "version": "3.8.12"
  }
 },
 "nbformat": 4,
 "nbformat_minor": 4
}
