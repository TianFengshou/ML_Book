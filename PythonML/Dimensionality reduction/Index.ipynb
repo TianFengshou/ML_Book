{
 "cells": [
  {
   "cell_type": "markdown",
   "metadata": {},
   "source": [
    "## 降维\n",
    "### PCA\n",
    "\n",
    "**参数:**\n",
    " - n_components:int,float,None或者str;要保留的组件数,如果未设置,则保留所有组件;如果使用该参数值为\"mle\"同时\"svd_solver\"等于\"\"full\",将会使用Minka’s MLE来猜测尺寸;如果n_components位于0和1之间同时\"svd_solver\"等于\"full\",则选择组件数，以使需要解释的方差量大于n_components指定的百分比。\"svd_solver\"等于\"arpack\",则组件数必须严格小于n_features和n_samples的最小值\n",
    " - copy:bool,默认为True;如果为False，则传递给fit的数据将被覆盖，并且运行fit（X）.transform（X）将不会产生预期的结果，请改用fit_transform（X）。\n",
    " - whiten:bool,默认为False;如果为True（默认情况下为False），则将components_矢量乘以n_samples的平方根，然后除以奇异值，以确保具有单位分量方差的不相关输出。泛白会从转换后的信号中删除一些信息（组件的相对方差标度），但有时可以通过使下游估计量的数据符合某些固定假设来提高下游估计量的预测准确性。\n",
    " - svd_solver:str{‘auto’, ‘full’, ‘arpack’, ‘randomized’};如果为自动:默认的策略基于X.shape和 选择求解器n_components：如果输入数据大于500x500，并且要提取的组件数小于数据最小维度的80％，则启用更有效的“随机化”方法。否则，将计算出精确的完整SVD，然后选择截断;如果为full,运行完全标准SVD，调用标准LAPACK求解器， 并通过scipy.linalg.svd后处理选择组件,如果是arpack,运行SVD截断为n_components通过调用ACKACK求解器 scipy.sparse.linalg.svds。它严格要求0 <n_components <min（X.shape）;如果是随机,则用Halko等人的方法运行随机SVD。\n",
    " - tol:float>=0,默认为0;svd_solver =='arpack'计算的奇异值的公差。\n",
    " - iterated_power:int>=0,或者 \"auto\";svd_solver =='随机化'计算出的幂方法的迭代次数。\n",
    " - random_state:itn;随机数种子"
   ]
  },
  {
   "cell_type": "code",
   "execution_count": 1,
   "metadata": {},
   "outputs": [
    {
     "data": {
      "text/plain": [
       "PCA(n_components=2)"
      ]
     },
     "execution_count": 1,
     "metadata": {},
     "output_type": "execute_result"
    }
   ],
   "source": [
    "import numpy as np\n",
    "from sklearn.decomposition import PCA\n",
    "X = np.array([[-1, -1], [-2, -1], [-3, -2], [1, 1], [2, 1], [3, 2]])\n",
    "pca = PCA(n_components=2)\n",
    "pca.fit(X)"
   ]
  },
  {
   "cell_type": "code",
   "execution_count": 2,
   "metadata": {},
   "outputs": [
    {
     "name": "stdout",
     "output_type": "stream",
     "text": [
      "[0.99244289 0.00755711]\n"
     ]
    }
   ],
   "source": [
    "print(pca.explained_variance_ratio_)"
   ]
  },
  {
   "cell_type": "code",
   "execution_count": 3,
   "metadata": {},
   "outputs": [
    {
     "name": "stdout",
     "output_type": "stream",
     "text": [
      "[6.30061232 0.54980396]\n"
     ]
    }
   ],
   "source": [
    "print(pca.singular_values_)"
   ]
  },
  {
   "cell_type": "markdown",
   "metadata": {},
   "source": [
    "### TruncatedSVD\n",
    "**参数:**\n",
    " - n_components:int,默认为2;\n",
    " - algorithm:字符串,默认为random;使用SVD求解器,可以使用\"arpack\",由halko(2009)创造的一种算法,实现为`scipy.sparse.linalg.svds`;或者使用\"random\"进行随机化\n",
    " - n_iter:int,默认5;随机SVD求解器的迭代次数\n",
    " - random_state:随机数种子\n",
    " - TOL:float,aprack的公差,0表示机器精度,被随机SVD求解器所忽略;"
   ]
  },
  {
   "cell_type": "code",
   "execution_count": 6,
   "metadata": {},
   "outputs": [
    {
     "data": {
      "text/plain": [
       "TruncatedSVD(n_components=5, n_iter=7, random_state=42)"
      ]
     },
     "execution_count": 6,
     "metadata": {},
     "output_type": "execute_result"
    }
   ],
   "source": [
    "from sklearn.decomposition import TruncatedSVD\n",
    "from scipy.sparse import random as sparse_random\n",
    "from sklearn.random_projection import sparse_random_matrix\n",
    "X = sparse_random(100, 100, density=0.01, format='csr',\n",
    "                  random_state=42)\n",
    "svd = TruncatedSVD(n_components=5, n_iter=7, random_state=42)\n",
    "svd.fit(X)"
   ]
  },
  {
   "cell_type": "code",
   "execution_count": 7,
   "metadata": {},
   "outputs": [
    {
     "name": "stdout",
     "output_type": "stream",
     "text": [
      "[0.0646051  0.06339479 0.06394407 0.05352903 0.04062679]\n"
     ]
    }
   ],
   "source": [
    "print(svd.explained_variance_ratio_)"
   ]
  },
  {
   "cell_type": "code",
   "execution_count": 8,
   "metadata": {},
   "outputs": [
    {
     "name": "stdout",
     "output_type": "stream",
     "text": [
      "0.286099778144858\n"
     ]
    }
   ],
   "source": [
    "print(svd.explained_variance_ratio_.sum())"
   ]
  },
  {
   "cell_type": "code",
   "execution_count": 9,
   "metadata": {},
   "outputs": [
    {
     "name": "stdout",
     "output_type": "stream",
     "text": [
      "[1.55360944 1.5121377  1.51052009 1.37056529 1.19917045]\n"
     ]
    }
   ],
   "source": [
    "print(svd.singular_values_)"
   ]
  },
  {
   "cell_type": "markdown",
   "metadata": {},
   "source": [
    "### Dictionary Learning\n",
    "### Factor Analysis\n",
    "### Independent component analysis (ICA)\n",
    "### Non-negative matrix factorization (NMF or NNMF)\n",
    "### Non-negative matrix factorization (NMF or NNMF)"
   ]
  },
  {
   "cell_type": "code",
   "execution_count": null,
   "metadata": {},
   "outputs": [],
   "source": []
  }
 ],
 "metadata": {
  "kernelspec": {
   "display_name": "Python 3",
   "language": "python",
   "name": "python3"
  },
  "language_info": {
   "codemirror_mode": {
    "name": "ipython",
    "version": 3
   },
   "file_extension": ".py",
   "mimetype": "text/x-python",
   "name": "python",
   "nbconvert_exporter": "python",
   "pygments_lexer": "ipython3",
   "version": "3.8.5"
  }
 },
 "nbformat": 4,
 "nbformat_minor": 4
}
