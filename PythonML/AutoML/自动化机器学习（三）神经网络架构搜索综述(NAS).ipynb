{
 "cells": [
  {
   "cell_type": "markdown",
   "metadata": {},
   "source": [
    "## 技术介绍\n",
    "### 简介\n",
    "自动化机器学习就是能够自动建立机器学习模型的方法，其主要包含三个方面：方面一，超参数优化；方面二，自动特征工程与机器学习算法自动选择；方面三，神经网络结构搜索。本文侧重于方面三，神级网络结构搜索。\n",
    "\n",
    "自动化机器学习的前两个部分，都有一个特点——只对现在已有的算法进行搜索，而不创造新的算法。一般而言机器学习专家在开发机器学习应用或者构建机器学习模型时，都不太可能从头造轮子，直接创造一个新的算法。但是到了深度神经网路的时候，就发生了一些变化。严格意义上来说，神经网络的基本结构都是固定的，有限的。但是每当我们重新创建一个模型的时候，基本单元的不同组合又可以视作是在创建一个新的神经网络模型。在这种基本现实之下，第三种自动化机器学习技术应用而生，那就是神经网络架构搜索综述(NAS)，根据基本的神经网络基本单元创建新的神经网络结构，最终结果就是得到一个非常强大的神经网络。\n",
    "\n",
    "在这方面也已经有大量的科学家进行了深入的研究。不过由于其基本假设就是深度神经网络，而且是在其之上进行架构的搜索，因此对算力的要求往往都比较高。目前比较厉害，且可以单卡运行的算法当要属enas，而enas的作者在发布论文的同时开源了其基于enas的作品——autokeras，任何人都可以下载和使用该类库。\n",
    "\n",
    "autokeras底层都是enas算法，但是根据应用不同其存在可以详细的分为以下类型：\n",
    " - 图像分类\n",
    " - 图像回归\n",
    " - 文本分类\n",
    " - 文本回归\n",
    " - 结构化数据分类\n",
    " - 结构化数据回归\n",
    "我们直接进行比较复杂的操作，使用autokeras进行自动图像分类。\n",
    "\n",
    "### 技术栈\n",
    "\n",
    " - tensorflow\n",
    " - pathlib\n",
    " - numpy\n",
    " - autokeras\n",
    "\n",
    "\n",
    "## 实现\n",
    "### 数据\n",
    "数据我们这里使用的是keras中的flower_photos数据集，该数据集是五类鲜花的图片数据，共有3675张图片。可以直接使用keras自带代下载该数据集。具体命令如下："
   ]
  },
  {
   "cell_type": "code",
   "execution_count": 2,
   "metadata": {},
   "outputs": [
    {
     "name": "stdout",
     "output_type": "stream",
     "text": [
      "This directory:  /home/fonttian/.keras/datasets/flower_photos  have  3670 images\n",
      "CLASS_NAMES ： ['roses' 'dandelion' 'daisy' 'sunflowers' 'tulips'] ,They are the names of the secondary directories\n"
     ]
    }
   ],
   "source": [
    "import tensorflow as tf\n",
    "AUTOTUNE = tf.data.experimental.AUTOTUNE\n",
    "import pathlib\n",
    "import numpy as np\n",
    "import os\n",
    "\n",
    "data_dir = tf.keras.utils.get_file(origin='https://storage.googleapis.com/download.tensorflow.org/example_images/flower_photos.tgz',\n",
    "                                         fname='flower_photos', untar=True)\n",
    "data_dir = pathlib.Path(data_dir)\n",
    "image_count = len(list(data_dir.glob('*/*.jpg')))\n",
    "print(\"This directory: \",data_dir,\" have \",image_count,\"images\")\n",
    "\n",
    "CLASS_NAMES = np.array([item.name for item in data_dir.glob('*') if item.name != \"LICENSE.txt\"])\n",
    "print(\"CLASS_NAMES ：\",CLASS_NAMES,\",They are the names of the secondary directories\")"
   ]
  },
  {
   "cell_type": "markdown",
   "metadata": {},
   "source": [
    "### 数据读取\n",
    "\n",
    "之后我们将数据的读取转化为tfds格式，这样使用效率会高很多，具体实现如下："
   ]
  },
  {
   "cell_type": "code",
   "execution_count": 3,
   "metadata": {},
   "outputs": [
    {
     "name": "stdout",
     "output_type": "stream",
     "text": [
      "----------------- 参数 -----------------\n",
      "----------------- start tfds -----------------\n",
      "type(labeled_ds):  <class 'tensorflow.python.data.ops.dataset_ops.ParallelMapDataset'>\n"
     ]
    }
   ],
   "source": [
    "import warnings\n",
    "warnings.filterwarnings(\"ignore\")\n",
    "\n",
    "print(\"----------------- 参数 -----------------\")\n",
    "\n",
    "BATCH_SIZE = 256\n",
    "IMG_HEIGHT = 224\n",
    "IMG_WIDTH = 224\n",
    "STEPS_PER_EPOCH = np.ceil(image_count/BATCH_SIZE)\n",
    "\n",
    "print(\"----------------- start tfds -----------------\")\n",
    "list_ds = tf.data.Dataset.list_files(str(data_dir/'*/*'))\n",
    "\n",
    "def get_label(file_path):\n",
    "  # convert the path to a list of path components\n",
    "  parts = tf.strings.split(file_path, os.path.sep)\n",
    "  # The second to last is the class-directory\n",
    "  return parts[-2] == CLASS_NAMES\n",
    "\n",
    "def decode_img(img):\n",
    "  # convert the compressed string to a 3D uint8 tensor\n",
    "  img = tf.image.decode_jpeg(img, channels=3)\n",
    "  # Use `convert_image_dtype` to convert to floats in the [0,1] range.\n",
    "  img = tf.image.convert_image_dtype(img, tf.float32)\n",
    "  # resize the image to the desired size.\n",
    "  return tf.image.resize(img, [IMG_HEIGHT, IMG_WIDTH])\n",
    "\n",
    "def process_path(file_path):\n",
    "  label = get_label(file_path)\n",
    "  # load the raw data from the file as a string\n",
    "  img = tf.io.read_file(file_path)\n",
    "  img = decode_img(img)\n",
    "  return img, label\n",
    "\n",
    "# Set `num_parallel_calls` so multiple images are loaded/processed in parallel.\n",
    "labeled_ds = list_ds.map(process_path, num_parallel_calls=AUTOTUNE)\n",
    "print(\"type(labeled_ds): \",type(labeled_ds))"
   ]
  },
  {
   "cell_type": "markdown",
   "metadata": {},
   "source": [
    "### 创建模型并训练\n",
    "之后我们使用几条简单的命令进行模型的创建，然后使用fit方法进行训练。"
   ]
  },
  {
   "cell_type": "code",
   "execution_count": 4,
   "metadata": {},
   "outputs": [
    {
     "name": "stdout",
     "output_type": "stream",
     "text": [
      "----------------- autokeras.fit with tfds -----------------\n",
      "type(clf) : <class 'autokeras.tasks.image.ImageClassifier'>\n"
     ]
    },
    {
     "data": {
      "text/html": [
       "<span style=\"color:#4527A0\"><h1 style=\"font-size:18px\">Starting new trial</h1></span>"
      ],
      "text/plain": [
       "<IPython.core.display.HTML object>"
      ]
     },
     "metadata": {},
     "output_type": "display_data"
    },
    {
     "name": "stdout",
     "output_type": "stream",
     "text": [
      "Epoch 1/10\n",
      "92/92 [==============================] - ETA: 0s - loss: 1.6533 - accuracy: 0.18 - ETA: 5s - loss: 3.6870 - accuracy: 0.18 - ETA: 7s - loss: 12.2507 - accuracy: 0.187 - ETA: 8s - loss: 20.0298 - accuracy: 0.179 - ETA: 8s - loss: 19.0134 - accuracy: 0.181 - ETA: 8s - loss: 17.3803 - accuracy: 0.208 - ETA: 8s - loss: 15.9739 - accuracy: 0.218 - ETA: 8s - loss: 15.4824 - accuracy: 0.203 - ETA: 9s - loss: 14.5257 - accuracy: 0.194 - ETA: 9s - loss: 13.4858 - accuracy: 0.200 - ETA: 8s - loss: 12.6732 - accuracy: 0.201 - ETA: 8s - loss: 11.9021 - accuracy: 0.203 - ETA: 8s - loss: 11.1935 - accuracy: 0.204 - ETA: 8s - loss: 10.5573 - accuracy: 0.214 - ETA: 8s - loss: 9.9689 - accuracy: 0.216 - ETA: 8s - loss: 9.4486 - accuracy: 0.21 - ETA: 8s - loss: 8.9894 - accuracy: 0.21 - ETA: 8s - loss: 8.5781 - accuracy: 0.21 - ETA: 8s - loss: 8.2122 - accuracy: 0.21 - ETA: 8s - loss: 7.8813 - accuracy: 0.21 - ETA: 8s - loss: 7.5818 - accuracy: 0.22 - ETA: 7s - loss: 7.3103 - accuracy: 0.22 - ETA: 7s - loss: 7.0630 - accuracy: 0.22 - ETA: 7s - loss: 6.8359 - accuracy: 0.21 - ETA: 7s - loss: 6.6277 - accuracy: 0.21 - ETA: 7s - loss: 6.4348 - accuracy: 0.21 - ETA: 7s - loss: 6.2560 - accuracy: 0.21 - ETA: 7s - loss: 6.0899 - accuracy: 0.21 - ETA: 7s - loss: 5.9355 - accuracy: 0.21 - ETA: 7s - loss: 5.7913 - accuracy: 0.21 - ETA: 6s - loss: 5.6562 - accuracy: 0.22 - ETA: 6s - loss: 5.5297 - accuracy: 0.22 - ETA: 6s - loss: 5.4107 - accuracy: 0.22 - ETA: 6s - loss: 5.2987 - accuracy: 0.22 - ETA: 6s - loss: 5.1933 - accuracy: 0.22 - ETA: 6s - loss: 5.0939 - accuracy: 0.22 - ETA: 6s - loss: 4.9998 - accuracy: 0.22 - ETA: 6s - loss: 4.9105 - accuracy: 0.23 - ETA: 6s - loss: 4.8259 - accuracy: 0.22 - ETA: 5s - loss: 4.7455 - accuracy: 0.22 - ETA: 5s - loss: 4.6690 - accuracy: 0.22 - ETA: 5s - loss: 4.5962 - accuracy: 0.22 - ETA: 5s - loss: 4.5267 - accuracy: 0.22 - ETA: 5s - loss: 4.4604 - accuracy: 0.22 - ETA: 5s - loss: 4.3970 - accuracy: 0.22 - ETA: 5s - loss: 4.3364 - accuracy: 0.22 - ETA: 5s - loss: 4.2784 - accuracy: 0.22 - ETA: 4s - loss: 4.2228 - accuracy: 0.22 - ETA: 4s - loss: 4.1694 - accuracy: 0.22 - ETA: 4s - loss: 4.1182 - accuracy: 0.22 - ETA: 4s - loss: 4.0690 - accuracy: 0.22 - ETA: 4s - loss: 4.0216 - accuracy: 0.22 - ETA: 4s - loss: 3.9761 - accuracy: 0.22 - ETA: 4s - loss: 3.9322 - accuracy: 0.22 - ETA: 4s - loss: 3.8900 - accuracy: 0.22 - ETA: 4s - loss: 3.8494 - accuracy: 0.22 - ETA: 3s - loss: 3.8100 - accuracy: 0.22 - ETA: 3s - loss: 3.7720 - accuracy: 0.23 - ETA: 3s - loss: 3.7354 - accuracy: 0.23 - ETA: 3s - loss: 3.6999 - accuracy: 0.22 - ETA: 3s - loss: 3.6656 - accuracy: 0.23 - ETA: 3s - loss: 3.6325 - accuracy: 0.23 - ETA: 3s - loss: 3.6005 - accuracy: 0.23 - ETA: 3s - loss: 3.5694 - accuracy: 0.23 - ETA: 3s - loss: 3.5392 - accuracy: 0.23 - ETA: 2s - loss: 3.5100 - accuracy: 0.23 - ETA: 2s - loss: 3.4816 - accuracy: 0.23 - ETA: 2s - loss: 3.4540 - accuracy: 0.23 - ETA: 2s - loss: 3.4272 - accuracy: 0.23 - ETA: 2s - loss: 3.4012 - accuracy: 0.23 - ETA: 2s - loss: 3.3761 - accuracy: 0.22 - ETA: 2s - loss: 3.3515 - accuracy: 0.23 - ETA: 2s - loss: 3.3276 - accuracy: 0.22 - ETA: 2s - loss: 3.3044 - accuracy: 0.22 - ETA: 1s - loss: 3.2817 - accuracy: 0.22 - ETA: 1s - loss: 3.2597 - accuracy: 0.22 - ETA: 1s - loss: 3.2383 - accuracy: 0.22 - ETA: 1s - loss: 3.2174 - accuracy: 0.22 - ETA: 1s - loss: 3.1970 - accuracy: 0.22 - ETA: 1s - loss: 3.1772 - accuracy: 0.22 - ETA: 1s - loss: 3.1579 - accuracy: 0.22 - ETA: 1s - loss: 3.1390 - accuracy: 0.22 - ETA: 1s - loss: 3.1205 - accuracy: 0.22 - ETA: 0s - loss: 3.1025 - accuracy: 0.22 - ETA: 0s - loss: 3.0849 - accuracy: 0.22 - ETA: 0s - loss: 3.0677 - accuracy: 0.22 - ETA: 0s - loss: 3.0509 - accuracy: 0.22 - ETA: 0s - loss: 3.0345 - accuracy: 0.22 - ETA: 0s - loss: 3.0185 - accuracy: 0.22 - ETA: 0s - loss: 3.0028 - accuracy: 0.22 - ETA: 0s - loss: 2.9874 - accuracy: 0.23 - ETA: 0s - loss: 2.9725 - accuracy: 0.23 - 14s 151ms/step - loss: 2.9725 - accuracy: 0.2300 - val_loss: 1.6072 - val_accuracy: 0.2493\n",
      "Epoch 2/10\n",
      "92/92 [==============================] - ETA: 0s - loss: 1.6043 - accuracy: 0.21 - ETA: 5s - loss: 1.6045 - accuracy: 0.26 - ETA: 6s - loss: 1.6062 - accuracy: 0.20 - ETA: 7s - loss: 1.6057 - accuracy: 0.23 - ETA: 8s - loss: 1.6060 - accuracy: 0.23 - ETA: 8s - loss: 1.6065 - accuracy: 0.23 - ETA: 8s - loss: 1.6060 - accuracy: 0.25 - ETA: 8s - loss: 1.6064 - accuracy: 0.25 - ETA: 8s - loss: 1.6069 - accuracy: 0.24 - ETA: 8s - loss: 1.6069 - accuracy: 0.24 - ETA: 8s - loss: 1.6069 - accuracy: 0.25 - ETA: 8s - loss: 1.6065 - accuracy: 0.26 - ETA: 8s - loss: 1.6065 - accuracy: 0.25 - ETA: 8s - loss: 1.6069 - accuracy: 0.25 - ETA: 8s - loss: 1.6069 - accuracy: 0.25 - ETA: 8s - loss: 1.6069 - accuracy: 0.25 - ETA: 8s - loss: 1.6069 - accuracy: 0.25 - ETA: 8s - loss: 1.6071 - accuracy: 0.24 - ETA: 8s - loss: 1.6074 - accuracy: 0.24 - ETA: 8s - loss: 1.6073 - accuracy: 0.24 - ETA: 7s - loss: 1.6072 - accuracy: 0.24 - ETA: 7s - loss: 1.6072 - accuracy: 0.24 - ETA: 7s - loss: 1.6072 - accuracy: 0.24 - ETA: 7s - loss: 1.6071 - accuracy: 0.24 - ETA: 7s - loss: 1.6071 - accuracy: 0.24 - ETA: 7s - loss: 1.6069 - accuracy: 0.24 - ETA: 7s - loss: 1.6067 - accuracy: 0.24 - ETA: 7s - loss: 1.6067 - accuracy: 0.24 - ETA: 7s - loss: 1.6065 - accuracy: 0.25 - ETA: 7s - loss: 1.6068 - accuracy: 0.24 - ETA: 6s - loss: 1.6066 - accuracy: 0.24 - ETA: 6s - loss: 1.6066 - accuracy: 0.24 - ETA: 6s - loss: 1.6068 - accuracy: 0.24 - ETA: 6s - loss: 1.6068 - accuracy: 0.24 - ETA: 6s - loss: 1.6068 - accuracy: 0.24 - ETA: 6s - loss: 1.6070 - accuracy: 0.24 - ETA: 6s - loss: 1.6070 - accuracy: 0.24 - ETA: 6s - loss: 1.6070 - accuracy: 0.24 - ETA: 6s - loss: 1.6066 - accuracy: 0.25 - ETA: 5s - loss: 1.6065 - accuracy: 0.25 - ETA: 5s - loss: 1.6066 - accuracy: 0.25 - ETA: 5s - loss: 1.6066 - accuracy: 0.25 - ETA: 5s - loss: 1.6067 - accuracy: 0.25 - ETA: 5s - loss: 1.6064 - accuracy: 0.25 - ETA: 5s - loss: 1.6064 - accuracy: 0.25 - ETA: 5s - loss: 1.6064 - accuracy: 0.25 - ETA: 5s - loss: 1.6063 - accuracy: 0.25 - ETA: 5s - loss: 1.6061 - accuracy: 0.25 - ETA: 4s - loss: 1.6062 - accuracy: 0.25 - ETA: 4s - loss: 1.6062 - accuracy: 0.25 - ETA: 4s - loss: 1.6060 - accuracy: 0.25 - ETA: 4s - loss: 1.6061 - accuracy: 0.25 - ETA: 4s - loss: 1.6062 - accuracy: 0.25 - ETA: 4s - loss: 1.6063 - accuracy: 0.25 - ETA: 4s - loss: 1.6063 - accuracy: 0.25 - ETA: 4s - loss: 1.6064 - accuracy: 0.25 - ETA: 4s - loss: 1.6064 - accuracy: 0.24 - ETA: 3s - loss: 1.6064 - accuracy: 0.25 - ETA: 3s - loss: 1.6064 - accuracy: 0.24 - ETA: 3s - loss: 1.6064 - accuracy: 0.24 - ETA: 3s - loss: 1.6064 - accuracy: 0.25 - ETA: 3s - loss: 1.6065 - accuracy: 0.24 - ETA: 3s - loss: 1.6064 - accuracy: 0.25 - ETA: 3s - loss: 1.6064 - accuracy: 0.25 - ETA: 3s - loss: 1.6065 - accuracy: 0.24 - ETA: 3s - loss: 1.6065 - accuracy: 0.25 - ETA: 2s - loss: 1.6064 - accuracy: 0.25 - ETA: 2s - loss: 1.6064 - accuracy: 0.25 - ETA: 2s - loss: 1.6062 - accuracy: 0.25 - ETA: 2s - loss: 1.6064 - accuracy: 0.25 - ETA: 2s - loss: 1.6065 - accuracy: 0.25 - ETA: 2s - loss: 1.6064 - accuracy: 0.25 - ETA: 2s - loss: 1.6065 - accuracy: 0.24 - ETA: 2s - loss: 1.6065 - accuracy: 0.25 - ETA: 1s - loss: 1.6065 - accuracy: 0.25 - ETA: 1s - loss: 1.6065 - accuracy: 0.25 - ETA: 1s - loss: 1.6066 - accuracy: 0.24 - ETA: 1s - loss: 1.6066 - accuracy: 0.24 - ETA: 1s - loss: 1.6066 - accuracy: 0.24 - ETA: 1s - loss: 1.6066 - accuracy: 0.24 - ETA: 1s - loss: 1.6064 - accuracy: 0.25 - ETA: 1s - loss: 1.6064 - accuracy: 0.25 - ETA: 1s - loss: 1.6063 - accuracy: 0.25 - ETA: 0s - loss: 1.6063 - accuracy: 0.25 - ETA: 0s - loss: 1.6062 - accuracy: 0.25 - ETA: 0s - loss: 1.6062 - accuracy: 0.25 - ETA: 0s - loss: 1.6062 - accuracy: 0.25 - ETA: 0s - loss: 1.6062 - accuracy: 0.25 - ETA: 0s - loss: 1.6062 - accuracy: 0.25 - ETA: 0s - loss: 1.6062 - accuracy: 0.24 - ETA: 0s - loss: 1.6063 - accuracy: 0.24 - ETA: 0s - loss: 1.6062 - accuracy: 0.24 - 14s 149ms/step - loss: 1.6062 - accuracy: 0.2486 - val_loss: 1.6040 - val_accuracy: 0.2383\n",
      "Epoch 3/10\n",
      "92/92 [==============================] - ETA: 0s - loss: 1.6053 - accuracy: 0.25 - ETA: 5s - loss: 1.6045 - accuracy: 0.25 - ETA: 6s - loss: 1.6069 - accuracy: 0.22 - ETA: 7s - loss: 1.6074 - accuracy: 0.21 - ETA: 8s - loss: 1.6062 - accuracy: 0.23 - ETA: 8s - loss: 1.6070 - accuracy: 0.22 - ETA: 8s - loss: 1.6060 - accuracy: 0.24 - ETA: 8s - loss: 1.6048 - accuracy: 0.25 - ETA: 8s - loss: 1.6050 - accuracy: 0.24 - ETA: 8s - loss: 1.6055 - accuracy: 0.24 - ETA: 8s - loss: 1.6059 - accuracy: 0.23 - ETA: 8s - loss: 1.6058 - accuracy: 0.23 - ETA: 8s - loss: 1.6048 - accuracy: 0.24 - ETA: 8s - loss: 1.6052 - accuracy: 0.24 - ETA: 8s - loss: 1.6052 - accuracy: 0.23 - ETA: 8s - loss: 1.6055 - accuracy: 0.24 - ETA: 8s - loss: 1.6054 - accuracy: 0.24 - ETA: 7s - loss: 1.6061 - accuracy: 0.24 - ETA: 7s - loss: 1.6055 - accuracy: 0.24 - ETA: 7s - loss: 1.6054 - accuracy: 0.24 - ETA: 7s - loss: 1.6054 - accuracy: 0.24 - ETA: 7s - loss: 1.6053 - accuracy: 0.24 - ETA: 7s - loss: 1.6050 - accuracy: 0.24 - ETA: 7s - loss: 1.6047 - accuracy: 0.24 - ETA: 7s - loss: 1.6047 - accuracy: 0.24 - ETA: 7s - loss: 1.6046 - accuracy: 0.24 - ETA: 7s - loss: 1.6043 - accuracy: 0.25 - ETA: 7s - loss: 1.6045 - accuracy: 0.25 - ETA: 7s - loss: 1.6043 - accuracy: 0.25 - ETA: 6s - loss: 1.6044 - accuracy: 0.25 - ETA: 6s - loss: 1.6045 - accuracy: 0.25 - ETA: 6s - loss: 1.6043 - accuracy: 0.25 - ETA: 6s - loss: 1.6042 - accuracy: 0.25 - ETA: 6s - loss: 1.6044 - accuracy: 0.25 - ETA: 6s - loss: 1.6043 - accuracy: 0.25 - ETA: 6s - loss: 1.6042 - accuracy: 0.25 - ETA: 6s - loss: 1.6045 - accuracy: 0.25 - ETA: 6s - loss: 1.6045 - accuracy: 0.25 - ETA: 5s - loss: 1.6045 - accuracy: 0.25 - ETA: 5s - loss: 1.6043 - accuracy: 0.25 - ETA: 5s - loss: 1.6044 - accuracy: 0.25 - ETA: 5s - loss: 1.6040 - accuracy: 0.25 - ETA: 5s - loss: 1.6037 - accuracy: 0.25 - ETA: 5s - loss: 1.6036 - accuracy: 0.25 - ETA: 5s - loss: 1.6037 - accuracy: 0.26 - ETA: 5s - loss: 1.6036 - accuracy: 0.25 - ETA: 5s - loss: 1.6037 - accuracy: 0.25 - ETA: 4s - loss: 1.6037 - accuracy: 0.25 - ETA: 4s - loss: 1.6038 - accuracy: 0.25 - ETA: 4s - loss: 1.6040 - accuracy: 0.25 - ETA: 4s - loss: 1.6040 - accuracy: 0.25 - ETA: 4s - loss: 1.6040 - accuracy: 0.25 - ETA: 4s - loss: 1.6041 - accuracy: 0.25 - ETA: 4s - loss: 1.6041 - accuracy: 0.25 - ETA: 4s - loss: 1.6041 - accuracy: 0.25 - ETA: 4s - loss: 1.6041 - accuracy: 0.25 - ETA: 3s - loss: 1.6043 - accuracy: 0.25 - ETA: 3s - loss: 1.6042 - accuracy: 0.25 - ETA: 3s - loss: 1.6044 - accuracy: 0.25 - ETA: 3s - loss: 1.6041 - accuracy: 0.25 - ETA: 3s - loss: 1.6042 - accuracy: 0.25 - ETA: 3s - loss: 1.6043 - accuracy: 0.25 - ETA: 3s - loss: 1.6042 - accuracy: 0.25 - ETA: 3s - loss: 1.6041 - accuracy: 0.25 - ETA: 3s - loss: 1.6042 - accuracy: 0.25 - ETA: 2s - loss: 1.6043 - accuracy: 0.25 - ETA: 2s - loss: 1.6043 - accuracy: 0.25 - ETA: 2s - loss: 1.6042 - accuracy: 0.25 - ETA: 2s - loss: 1.6039 - accuracy: 0.25 - ETA: 2s - loss: 1.6041 - accuracy: 0.25 - ETA: 2s - loss: 1.6038 - accuracy: 0.25 - ETA: 2s - loss: 1.6048 - accuracy: 0.25 - ETA: 2s - loss: 1.6049 - accuracy: 0.25 - ETA: 2s - loss: 1.6050 - accuracy: 0.25 - ETA: 1s - loss: 1.6049 - accuracy: 0.25 - ETA: 1s - loss: 1.6048 - accuracy: 0.25 - ETA: 1s - loss: 1.6049 - accuracy: 0.25 - ETA: 1s - loss: 1.6048 - accuracy: 0.25 - ETA: 1s - loss: 1.6047 - accuracy: 0.25 - ETA: 1s - loss: 1.6047 - accuracy: 0.24 - ETA: 1s - loss: 1.6049 - accuracy: 0.24 - ETA: 1s - loss: 1.6047 - accuracy: 0.24 - ETA: 1s - loss: 1.6046 - accuracy: 0.24 - ETA: 0s - loss: 1.6045 - accuracy: 0.24 - ETA: 0s - loss: 1.6044 - accuracy: 0.25 - ETA: 0s - loss: 1.6041 - accuracy: 0.25 - ETA: 0s - loss: 1.6042 - accuracy: 0.25 - ETA: 0s - loss: 1.6043 - accuracy: 0.25 - ETA: 0s - loss: 1.6044 - accuracy: 0.25 - ETA: 0s - loss: 1.6047 - accuracy: 0.24 - ETA: 0s - loss: 1.6046 - accuracy: 0.24 - ETA: 0s - loss: 1.6044 - accuracy: 0.25 - 14s 148ms/step - loss: 1.6044 - accuracy: 0.2507 - val_loss: 1.6039 - val_accuracy: 0.2355\n",
      "Epoch 4/10\n",
      "92/92 [==============================] - ETA: 0s - loss: 1.6144 - accuracy: 0.25 - ETA: 5s - loss: 1.6179 - accuracy: 0.18 - ETA: 6s - loss: 1.6140 - accuracy: 0.20 - ETA: 7s - loss: 1.6095 - accuracy: 0.21 - ETA: 7s - loss: 1.6068 - accuracy: 0.21 - ETA: 8s - loss: 1.6076 - accuracy: 0.21 - ETA: 8s - loss: 1.6071 - accuracy: 0.21 - ETA: 8s - loss: 1.6049 - accuracy: 0.22 - ETA: 8s - loss: 1.6050 - accuracy: 0.22 - ETA: 8s - loss: 1.6040 - accuracy: 0.24 - ETA: 8s - loss: 1.6030 - accuracy: 0.24 - ETA: 8s - loss: 1.6014 - accuracy: 0.24 - ETA: 8s - loss: 1.6033 - accuracy: 0.23 - ETA: 8s - loss: 1.6035 - accuracy: 0.24 - ETA: 8s - loss: 1.6037 - accuracy: 0.24 - ETA: 8s - loss: 1.6048 - accuracy: 0.23 - ETA: 8s - loss: 1.6037 - accuracy: 0.24 - ETA: 7s - loss: 1.6033 - accuracy: 0.24 - ETA: 7s - loss: 1.6038 - accuracy: 0.24 - ETA: 7s - loss: 1.6033 - accuracy: 0.25 - ETA: 7s - loss: 1.6028 - accuracy: 0.25 - ETA: 7s - loss: 1.6030 - accuracy: 0.24 - ETA: 7s - loss: 1.6029 - accuracy: 0.24 - ETA: 7s - loss: 1.6035 - accuracy: 0.24 - ETA: 7s - loss: 1.6037 - accuracy: 0.24 - ETA: 7s - loss: 1.6041 - accuracy: 0.24 - ETA: 7s - loss: 1.6029 - accuracy: 0.25 - ETA: 7s - loss: 1.6034 - accuracy: 0.24 - ETA: 6s - loss: 1.6033 - accuracy: 0.24 - ETA: 6s - loss: 1.6029 - accuracy: 0.25 - ETA: 6s - loss: 1.6030 - accuracy: 0.24 - ETA: 6s - loss: 1.6031 - accuracy: 0.24 - ETA: 6s - loss: 1.6034 - accuracy: 0.24 - ETA: 6s - loss: 1.6028 - accuracy: 0.25 - ETA: 6s - loss: 1.6026 - accuracy: 0.25 - ETA: 6s - loss: 1.6027 - accuracy: 0.25 - ETA: 6s - loss: 1.6028 - accuracy: 0.25 - ETA: 5s - loss: 1.6028 - accuracy: 0.25 - ETA: 5s - loss: 1.6034 - accuracy: 0.24 - ETA: 5s - loss: 1.6027 - accuracy: 0.25 - ETA: 5s - loss: 1.6032 - accuracy: 0.25 - ETA: 5s - loss: 1.6030 - accuracy: 0.25 - ETA: 5s - loss: 1.6027 - accuracy: 0.25 - ETA: 5s - loss: 1.6030 - accuracy: 0.25 - ETA: 5s - loss: 1.6031 - accuracy: 0.25 - ETA: 5s - loss: 1.6031 - accuracy: 0.25 - ETA: 5s - loss: 1.6034 - accuracy: 0.25 - ETA: 4s - loss: 1.6035 - accuracy: 0.25 - ETA: 4s - loss: 1.6034 - accuracy: 0.25 - ETA: 4s - loss: 1.6035 - accuracy: 0.25 - ETA: 4s - loss: 1.6035 - accuracy: 0.25 - ETA: 4s - loss: 1.6034 - accuracy: 0.25 - ETA: 4s - loss: 1.6031 - accuracy: 0.25 - ETA: 4s - loss: 1.6029 - accuracy: 0.25 - ETA: 4s - loss: 1.6027 - accuracy: 0.25 - ETA: 4s - loss: 1.6029 - accuracy: 0.25 - ETA: 3s - loss: 1.6032 - accuracy: 0.24 - ETA: 3s - loss: 1.6031 - accuracy: 0.24 - ETA: 3s - loss: 1.6034 - accuracy: 0.24 - ETA: 3s - loss: 1.6032 - accuracy: 0.24 - ETA: 3s - loss: 1.6032 - accuracy: 0.24 - ETA: 3s - loss: 1.6031 - accuracy: 0.24 - ETA: 3s - loss: 1.6035 - accuracy: 0.24 - ETA: 3s - loss: 1.6033 - accuracy: 0.24 - ETA: 3s - loss: 1.6032 - accuracy: 0.24 - ETA: 2s - loss: 1.6034 - accuracy: 0.24 - ETA: 2s - loss: 1.6034 - accuracy: 0.24 - ETA: 2s - loss: 1.6032 - accuracy: 0.24 - ETA: 2s - loss: 1.6032 - accuracy: 0.24 - ETA: 2s - loss: 1.6032 - accuracy: 0.24 - ETA: 2s - loss: 1.6033 - accuracy: 0.24 - ETA: 2s - loss: 1.6034 - accuracy: 0.24 - ETA: 2s - loss: 1.6031 - accuracy: 0.24 - ETA: 2s - loss: 1.6032 - accuracy: 0.24 - ETA: 1s - loss: 1.6033 - accuracy: 0.24 - ETA: 1s - loss: 1.6033 - accuracy: 0.24 - ETA: 1s - loss: 1.6036 - accuracy: 0.24 - ETA: 1s - loss: 1.6037 - accuracy: 0.24 - ETA: 1s - loss: 1.6038 - accuracy: 0.24 - ETA: 1s - loss: 1.6036 - accuracy: 0.24 - ETA: 1s - loss: 1.6035 - accuracy: 0.24 - ETA: 1s - loss: 1.6036 - accuracy: 0.24 - ETA: 1s - loss: 1.6035 - accuracy: 0.24 - ETA: 0s - loss: 1.6034 - accuracy: 0.24 - ETA: 0s - loss: 1.6034 - accuracy: 0.24 - ETA: 0s - loss: 1.6032 - accuracy: 0.24 - ETA: 0s - loss: 1.6033 - accuracy: 0.24 - ETA: 0s - loss: 1.6031 - accuracy: 0.24 - ETA: 0s - loss: 1.6032 - accuracy: 0.24 - ETA: 0s - loss: 1.6031 - accuracy: 0.24 - ETA: 0s - loss: 1.6032 - accuracy: 0.24 - ETA: 0s - loss: 1.6030 - accuracy: 0.24 - 14s 148ms/step - loss: 1.6030 - accuracy: 0.2446 - val_loss: 1.6040 - val_accuracy: 0.2163\n",
      "Epoch 5/10\n"
     ]
    },
    {
     "name": "stdout",
     "output_type": "stream",
     "text": [
      "92/92 [==============================] - ETA: 0s - loss: 1.5793 - accuracy: 0.34 - ETA: 5s - loss: 1.5909 - accuracy: 0.28 - ETA: 7s - loss: 1.5940 - accuracy: 0.25 - ETA: 7s - loss: 1.5989 - accuracy: 0.23 - ETA: 8s - loss: 1.6026 - accuracy: 0.21 - ETA: 8s - loss: 1.6019 - accuracy: 0.21 - ETA: 8s - loss: 1.6001 - accuracy: 0.22 - ETA: 8s - loss: 1.5998 - accuracy: 0.22 - ETA: 8s - loss: 1.6023 - accuracy: 0.21 - ETA: 8s - loss: 1.6030 - accuracy: 0.22 - ETA: 8s - loss: 1.6037 - accuracy: 0.21 - ETA: 8s - loss: 1.6025 - accuracy: 0.22 - ETA: 8s - loss: 1.6033 - accuracy: 0.22 - ETA: 8s - loss: 1.6046 - accuracy: 0.21 - ETA: 8s - loss: 1.6041 - accuracy: 0.21 - ETA: 8s - loss: 1.6054 - accuracy: 0.20 - ETA: 8s - loss: 1.6053 - accuracy: 0.20 - ETA: 8s - loss: 1.6058 - accuracy: 0.20 - ETA: 8s - loss: 1.6056 - accuracy: 0.20 - ETA: 7s - loss: 1.6051 - accuracy: 0.21 - ETA: 7s - loss: 1.6048 - accuracy: 0.22 - ETA: 7s - loss: 1.6060 - accuracy: 0.21 - ETA: 7s - loss: 1.6063 - accuracy: 0.21 - ETA: 7s - loss: 1.6058 - accuracy: 0.21 - ETA: 7s - loss: 1.6057 - accuracy: 0.21 - ETA: 7s - loss: 1.6061 - accuracy: 0.21 - ETA: 7s - loss: 1.6065 - accuracy: 0.21 - ETA: 7s - loss: 1.6064 - accuracy: 0.21 - ETA: 7s - loss: 1.6057 - accuracy: 0.22 - ETA: 6s - loss: 1.6064 - accuracy: 0.21 - ETA: 6s - loss: 1.6058 - accuracy: 0.21 - ETA: 6s - loss: 1.6055 - accuracy: 0.22 - ETA: 6s - loss: 1.6051 - accuracy: 0.22 - ETA: 6s - loss: 1.6049 - accuracy: 0.23 - ETA: 6s - loss: 1.6047 - accuracy: 0.23 - ETA: 6s - loss: 1.6041 - accuracy: 0.23 - ETA: 6s - loss: 1.6039 - accuracy: 0.23 - ETA: 6s - loss: 1.6042 - accuracy: 0.23 - ETA: 5s - loss: 1.6046 - accuracy: 0.23 - ETA: 5s - loss: 1.6051 - accuracy: 0.23 - ETA: 5s - loss: 1.6047 - accuracy: 0.23 - ETA: 5s - loss: 1.6042 - accuracy: 0.23 - ETA: 5s - loss: 1.6042 - accuracy: 0.23 - ETA: 5s - loss: 1.6040 - accuracy: 0.23 - ETA: 5s - loss: 1.6044 - accuracy: 0.23 - ETA: 5s - loss: 1.6038 - accuracy: 0.23 - ETA: 5s - loss: 1.6041 - accuracy: 0.23 - ETA: 4s - loss: 1.6043 - accuracy: 0.23 - ETA: 4s - loss: 1.6043 - accuracy: 0.23 - ETA: 4s - loss: 1.6041 - accuracy: 0.23 - ETA: 4s - loss: 1.6042 - accuracy: 0.23 - ETA: 4s - loss: 1.6043 - accuracy: 0.23 - ETA: 4s - loss: 1.6042 - accuracy: 0.23 - ETA: 4s - loss: 1.6040 - accuracy: 0.23 - ETA: 4s - loss: 1.6039 - accuracy: 0.23 - ETA: 4s - loss: 1.6040 - accuracy: 0.23 - ETA: 3s - loss: 1.6039 - accuracy: 0.23 - ETA: 3s - loss: 1.6037 - accuracy: 0.23 - ETA: 3s - loss: 1.6037 - accuracy: 0.23 - ETA: 3s - loss: 1.6035 - accuracy: 0.23 - ETA: 3s - loss: 1.6036 - accuracy: 0.23 - ETA: 3s - loss: 1.6036 - accuracy: 0.23 - ETA: 3s - loss: 1.6037 - accuracy: 0.23 - ETA: 3s - loss: 1.6035 - accuracy: 0.23 - ETA: 3s - loss: 1.6034 - accuracy: 0.23 - ETA: 2s - loss: 1.6035 - accuracy: 0.23 - ETA: 2s - loss: 1.6035 - accuracy: 0.23 - ETA: 2s - loss: 1.6033 - accuracy: 0.23 - ETA: 2s - loss: 1.6032 - accuracy: 0.24 - ETA: 2s - loss: 1.6031 - accuracy: 0.24 - ETA: 2s - loss: 1.6029 - accuracy: 0.24 - ETA: 2s - loss: 1.6029 - accuracy: 0.24 - ETA: 2s - loss: 1.6029 - accuracy: 0.23 - ETA: 2s - loss: 1.6030 - accuracy: 0.23 - ETA: 1s - loss: 1.6031 - accuracy: 0.23 - ETA: 1s - loss: 1.6029 - accuracy: 0.23 - ETA: 1s - loss: 1.6030 - accuracy: 0.23 - ETA: 1s - loss: 1.6031 - accuracy: 0.23 - ETA: 1s - loss: 1.6030 - accuracy: 0.24 - ETA: 1s - loss: 1.6029 - accuracy: 0.24 - ETA: 1s - loss: 1.6028 - accuracy: 0.24 - ETA: 1s - loss: 1.6025 - accuracy: 0.24 - ETA: 1s - loss: 1.6025 - accuracy: 0.24 - ETA: 0s - loss: 1.6025 - accuracy: 0.24 - ETA: 0s - loss: 1.6024 - accuracy: 0.24 - ETA: 0s - loss: 1.6023 - accuracy: 0.24 - ETA: 0s - loss: 1.6024 - accuracy: 0.24 - ETA: 0s - loss: 1.6023 - accuracy: 0.24 - ETA: 0s - loss: 1.6023 - accuracy: 0.24 - ETA: 0s - loss: 1.6021 - accuracy: 0.24 - ETA: 0s - loss: 1.6020 - accuracy: 0.24 - ETA: 0s - loss: 1.6018 - accuracy: 0.24 - 14s 149ms/step - loss: 1.6018 - accuracy: 0.2459 - val_loss: 1.6082 - val_accuracy: 0.2121\n",
      "Epoch 6/10\n",
      "92/92 [==============================] - ETA: 0s - loss: 1.6019 - accuracy: 0.18 - ETA: 5s - loss: 1.5976 - accuracy: 0.26 - ETA: 7s - loss: 1.5988 - accuracy: 0.27 - ETA: 7s - loss: 1.5983 - accuracy: 0.26 - ETA: 8s - loss: 1.5982 - accuracy: 0.25 - ETA: 8s - loss: 1.5978 - accuracy: 0.24 - ETA: 8s - loss: 1.5973 - accuracy: 0.24 - ETA: 8s - loss: 1.5955 - accuracy: 0.26 - ETA: 8s - loss: 1.5949 - accuracy: 0.27 - ETA: 8s - loss: 1.5982 - accuracy: 0.26 - ETA: 8s - loss: 1.5968 - accuracy: 0.26 - ETA: 8s - loss: 1.5971 - accuracy: 0.26 - ETA: 8s - loss: 1.5977 - accuracy: 0.26 - ETA: 8s - loss: 1.6006 - accuracy: 0.25 - ETA: 8s - loss: 1.5996 - accuracy: 0.25 - ETA: 8s - loss: 1.5995 - accuracy: 0.25 - ETA: 8s - loss: 1.5996 - accuracy: 0.25 - ETA: 8s - loss: 1.5993 - accuracy: 0.25 - ETA: 7s - loss: 1.5996 - accuracy: 0.25 - ETA: 7s - loss: 1.5993 - accuracy: 0.25 - ETA: 7s - loss: 1.6010 - accuracy: 0.25 - ETA: 7s - loss: 1.6005 - accuracy: 0.25 - ETA: 7s - loss: 1.6009 - accuracy: 0.25 - ETA: 7s - loss: 1.5999 - accuracy: 0.25 - ETA: 7s - loss: 1.6000 - accuracy: 0.25 - ETA: 7s - loss: 1.5991 - accuracy: 0.25 - ETA: 7s - loss: 1.6000 - accuracy: 0.24 - ETA: 7s - loss: 1.6004 - accuracy: 0.24 - ETA: 7s - loss: 1.6006 - accuracy: 0.24 - ETA: 6s - loss: 1.6012 - accuracy: 0.24 - ETA: 6s - loss: 1.6005 - accuracy: 0.24 - ETA: 6s - loss: 1.6007 - accuracy: 0.24 - ETA: 6s - loss: 1.6002 - accuracy: 0.24 - ETA: 6s - loss: 1.6002 - accuracy: 0.24 - ETA: 6s - loss: 1.6004 - accuracy: 0.24 - ETA: 6s - loss: 1.6000 - accuracy: 0.24 - ETA: 6s - loss: 1.6000 - accuracy: 0.24 - ETA: 6s - loss: 1.6003 - accuracy: 0.24 - ETA: 5s - loss: 1.6008 - accuracy: 0.24 - ETA: 5s - loss: 1.6009 - accuracy: 0.24 - ETA: 5s - loss: 1.6010 - accuracy: 0.24 - ETA: 5s - loss: 1.6009 - accuracy: 0.24 - ETA: 5s - loss: 1.6010 - accuracy: 0.24 - ETA: 5s - loss: 1.6007 - accuracy: 0.24 - ETA: 5s - loss: 1.6007 - accuracy: 0.24 - ETA: 5s - loss: 1.6010 - accuracy: 0.24 - ETA: 5s - loss: 1.6006 - accuracy: 0.24 - ETA: 4s - loss: 1.6007 - accuracy: 0.24 - ETA: 4s - loss: 1.6003 - accuracy: 0.24 - ETA: 4s - loss: 1.6005 - accuracy: 0.24 - ETA: 4s - loss: 1.6007 - accuracy: 0.24 - ETA: 4s - loss: 1.6006 - accuracy: 0.24 - ETA: 4s - loss: 1.6006 - accuracy: 0.24 - ETA: 4s - loss: 1.6006 - accuracy: 0.24 - ETA: 4s - loss: 1.6004 - accuracy: 0.24 - ETA: 4s - loss: 1.6000 - accuracy: 0.25 - ETA: 3s - loss: 1.5999 - accuracy: 0.25 - ETA: 3s - loss: 1.5997 - accuracy: 0.25 - ETA: 3s - loss: 1.5997 - accuracy: 0.25 - ETA: 3s - loss: 1.5999 - accuracy: 0.25 - ETA: 3s - loss: 1.5999 - accuracy: 0.25 - ETA: 3s - loss: 1.6001 - accuracy: 0.25 - ETA: 3s - loss: 1.6004 - accuracy: 0.24 - ETA: 3s - loss: 1.6005 - accuracy: 0.24 - ETA: 3s - loss: 1.6000 - accuracy: 0.25 - ETA: 2s - loss: 1.6000 - accuracy: 0.25 - ETA: 2s - loss: 1.5999 - accuracy: 0.25 - ETA: 2s - loss: 1.6003 - accuracy: 0.24 - ETA: 2s - loss: 1.6003 - accuracy: 0.24 - ETA: 2s - loss: 1.6005 - accuracy: 0.24 - ETA: 2s - loss: 1.6006 - accuracy: 0.24 - ETA: 2s - loss: 1.6008 - accuracy: 0.25 - ETA: 2s - loss: 1.6008 - accuracy: 0.25 - ETA: 2s - loss: 1.6010 - accuracy: 0.24 - ETA: 1s - loss: 1.6013 - accuracy: 0.24 - ETA: 1s - loss: 1.6012 - accuracy: 0.24 - ETA: 1s - loss: 1.6014 - accuracy: 0.24 - ETA: 1s - loss: 1.6016 - accuracy: 0.24 - ETA: 1s - loss: 1.6012 - accuracy: 0.24 - ETA: 1s - loss: 1.6010 - accuracy: 0.24 - ETA: 1s - loss: 1.6011 - accuracy: 0.24 - ETA: 1s - loss: 1.6013 - accuracy: 0.24 - ETA: 1s - loss: 1.6016 - accuracy: 0.24 - ETA: 0s - loss: 1.6020 - accuracy: 0.24 - ETA: 0s - loss: 1.6018 - accuracy: 0.24 - ETA: 0s - loss: 1.6016 - accuracy: 0.24 - ETA: 0s - loss: 1.6015 - accuracy: 0.24 - ETA: 0s - loss: 1.6016 - accuracy: 0.24 - ETA: 0s - loss: 1.6017 - accuracy: 0.24 - ETA: 0s - loss: 1.6019 - accuracy: 0.24 - ETA: 0s - loss: 1.6021 - accuracy: 0.24 - ETA: 0s - loss: 1.6022 - accuracy: 0.24 - 13s 147ms/step - loss: 1.6022 - accuracy: 0.2408 - val_loss: 1.6072 - val_accuracy: 0.2383\n",
      "Epoch 7/10\n",
      "92/92 [==============================] - ETA: 0s - loss: 1.5993 - accuracy: 0.25 - ETA: 5s - loss: 1.5879 - accuracy: 0.32 - ETA: 7s - loss: 1.5915 - accuracy: 0.29 - ETA: 7s - loss: 1.5867 - accuracy: 0.31 - ETA: 8s - loss: 1.5816 - accuracy: 0.33 - ETA: 8s - loss: 1.5827 - accuracy: 0.32 - ETA: 8s - loss: 1.5833 - accuracy: 0.31 - ETA: 8s - loss: 1.5883 - accuracy: 0.29 - ETA: 8s - loss: 1.5921 - accuracy: 0.28 - ETA: 8s - loss: 1.5931 - accuracy: 0.27 - ETA: 8s - loss: 1.5930 - accuracy: 0.26 - ETA: 8s - loss: 1.5935 - accuracy: 0.26 - ETA: 8s - loss: 1.5941 - accuracy: 0.25 - ETA: 8s - loss: 1.5940 - accuracy: 0.26 - ETA: 8s - loss: 1.5939 - accuracy: 0.26 - ETA: 8s - loss: 1.5944 - accuracy: 0.26 - ETA: 7s - loss: 1.5947 - accuracy: 0.26 - ETA: 7s - loss: 1.5977 - accuracy: 0.25 - ETA: 7s - loss: 1.5983 - accuracy: 0.25 - ETA: 7s - loss: 1.5979 - accuracy: 0.25 - ETA: 7s - loss: 1.5985 - accuracy: 0.25 - ETA: 7s - loss: 1.5997 - accuracy: 0.25 - ETA: 7s - loss: 1.5997 - accuracy: 0.24 - ETA: 7s - loss: 1.5991 - accuracy: 0.24 - ETA: 7s - loss: 1.5986 - accuracy: 0.24 - ETA: 7s - loss: 1.5986 - accuracy: 0.25 - ETA: 7s - loss: 1.5978 - accuracy: 0.25 - ETA: 6s - loss: 1.5980 - accuracy: 0.25 - ETA: 6s - loss: 1.5985 - accuracy: 0.24 - ETA: 6s - loss: 1.5986 - accuracy: 0.25 - ETA: 6s - loss: 1.6001 - accuracy: 0.24 - ETA: 6s - loss: 1.6006 - accuracy: 0.24 - ETA: 6s - loss: 1.6005 - accuracy: 0.24 - ETA: 6s - loss: 1.5994 - accuracy: 0.25 - ETA: 6s - loss: 1.5985 - accuracy: 0.25 - ETA: 6s - loss: 1.5989 - accuracy: 0.25 - ETA: 6s - loss: 1.5987 - accuracy: 0.25 - ETA: 5s - loss: 1.5988 - accuracy: 0.25 - ETA: 5s - loss: 1.5978 - accuracy: 0.25 - ETA: 5s - loss: 1.5977 - accuracy: 0.25 - ETA: 5s - loss: 1.5973 - accuracy: 0.25 - ETA: 5s - loss: 1.5967 - accuracy: 0.26 - ETA: 5s - loss: 1.5959 - accuracy: 0.25 - ETA: 5s - loss: 1.5969 - accuracy: 0.25 - ETA: 5s - loss: 1.5975 - accuracy: 0.25 - ETA: 5s - loss: 1.5966 - accuracy: 0.25 - ETA: 4s - loss: 1.5975 - accuracy: 0.25 - ETA: 4s - loss: 1.5976 - accuracy: 0.25 - ETA: 4s - loss: 1.5972 - accuracy: 0.25 - ETA: 4s - loss: 1.5973 - accuracy: 0.25 - ETA: 4s - loss: 1.5969 - accuracy: 0.25 - ETA: 4s - loss: 1.5973 - accuracy: 0.25 - ETA: 4s - loss: 1.5972 - accuracy: 0.25 - ETA: 4s - loss: 1.5977 - accuracy: 0.25 - ETA: 4s - loss: 1.5980 - accuracy: 0.25 - ETA: 3s - loss: 1.5980 - accuracy: 0.25 - ETA: 3s - loss: 1.5985 - accuracy: 0.25 - ETA: 3s - loss: 1.5984 - accuracy: 0.25 - ETA: 3s - loss: 1.5983 - accuracy: 0.25 - ETA: 3s - loss: 1.5986 - accuracy: 0.25 - ETA: 3s - loss: 1.5995 - accuracy: 0.25 - ETA: 3s - loss: 1.5997 - accuracy: 0.24 - ETA: 3s - loss: 1.6001 - accuracy: 0.24 - ETA: 3s - loss: 1.6000 - accuracy: 0.24 - ETA: 2s - loss: 1.5997 - accuracy: 0.24 - ETA: 2s - loss: 1.5996 - accuracy: 0.24 - ETA: 2s - loss: 1.5997 - accuracy: 0.24 - ETA: 2s - loss: 1.6003 - accuracy: 0.24 - ETA: 2s - loss: 1.6000 - accuracy: 0.24 - ETA: 2s - loss: 1.6005 - accuracy: 0.24 - ETA: 2s - loss: 1.6001 - accuracy: 0.24 - ETA: 2s - loss: 1.6002 - accuracy: 0.24 - ETA: 2s - loss: 1.6000 - accuracy: 0.24 - ETA: 2s - loss: 1.6000 - accuracy: 0.24 - ETA: 1s - loss: 1.6003 - accuracy: 0.24 - ETA: 1s - loss: 1.6004 - accuracy: 0.24 - ETA: 1s - loss: 1.6006 - accuracy: 0.24 - ETA: 1s - loss: 1.6009 - accuracy: 0.24 - ETA: 1s - loss: 1.6006 - accuracy: 0.24 - ETA: 1s - loss: 1.6004 - accuracy: 0.24 - ETA: 1s - loss: 1.6008 - accuracy: 0.24 - ETA: 1s - loss: 1.6005 - accuracy: 0.24 - ETA: 1s - loss: 1.6004 - accuracy: 0.24 - ETA: 0s - loss: 1.6005 - accuracy: 0.24 - ETA: 0s - loss: 1.6002 - accuracy: 0.24 - ETA: 0s - loss: 1.6003 - accuracy: 0.24 - ETA: 0s - loss: 1.6003 - accuracy: 0.24 - ETA: 0s - loss: 1.6006 - accuracy: 0.24 - ETA: 0s - loss: 1.6005 - accuracy: 0.24 - ETA: 0s - loss: 1.6006 - accuracy: 0.24 - ETA: 0s - loss: 1.6004 - accuracy: 0.24 - ETA: 0s - loss: 1.6006 - accuracy: 0.24 - 13s 146ms/step - loss: 1.6006 - accuracy: 0.2439 - val_loss: 1.5966 - val_accuracy: 0.2782\n",
      "Epoch 8/10\n",
      "92/92 [==============================] - ETA: 0s - loss: 1.6328 - accuracy: 0.09 - ETA: 4s - loss: 1.6277 - accuracy: 0.09 - ETA: 6s - loss: 1.6162 - accuracy: 0.16 - ETA: 7s - loss: 1.6098 - accuracy: 0.18 - ETA: 7s - loss: 1.6117 - accuracy: 0.18 - ETA: 8s - loss: 1.6130 - accuracy: 0.18 - ETA: 8s - loss: 1.6069 - accuracy: 0.20 - ETA: 8s - loss: 1.6117 - accuracy: 0.18 - ETA: 8s - loss: 1.6125 - accuracy: 0.19 - ETA: 8s - loss: 1.6121 - accuracy: 0.19 - ETA: 8s - loss: 1.6116 - accuracy: 0.18 - ETA: 8s - loss: 1.6092 - accuracy: 0.20 - ETA: 8s - loss: 1.6073 - accuracy: 0.20 - ETA: 8s - loss: 1.6058 - accuracy: 0.20 - ETA: 8s - loss: 1.6061 - accuracy: 0.21 - ETA: 8s - loss: 1.6051 - accuracy: 0.22 - ETA: 8s - loss: 1.6036 - accuracy: 0.22 - ETA: 7s - loss: 1.6045 - accuracy: 0.22 - ETA: 7s - loss: 1.6059 - accuracy: 0.22 - ETA: 7s - loss: 1.6059 - accuracy: 0.22 - ETA: 7s - loss: 1.6066 - accuracy: 0.22 - ETA: 7s - loss: 1.6051 - accuracy: 0.23 - ETA: 7s - loss: 1.6045 - accuracy: 0.23 - ETA: 7s - loss: 1.6043 - accuracy: 0.24 - ETA: 7s - loss: 1.6047 - accuracy: 0.24 - ETA: 7s - loss: 1.6050 - accuracy: 0.23 - ETA: 7s - loss: 1.6054 - accuracy: 0.23 - ETA: 7s - loss: 1.6056 - accuracy: 0.23 - ETA: 6s - loss: 1.6064 - accuracy: 0.23 - ETA: 6s - loss: 1.6069 - accuracy: 0.23 - ETA: 6s - loss: 1.6072 - accuracy: 0.23 - ETA: 6s - loss: 1.6072 - accuracy: 0.23 - ETA: 6s - loss: 1.6068 - accuracy: 0.23 - ETA: 6s - loss: 1.6061 - accuracy: 0.23 - ETA: 6s - loss: 1.6063 - accuracy: 0.23 - ETA: 6s - loss: 1.6056 - accuracy: 0.23 - ETA: 6s - loss: 1.6060 - accuracy: 0.23 - ETA: 5s - loss: 1.6055 - accuracy: 0.23 - ETA: 5s - loss: 1.6056 - accuracy: 0.23 - ETA: 5s - loss: 1.6049 - accuracy: 0.24 - ETA: 5s - loss: 1.6040 - accuracy: 0.24 - ETA: 5s - loss: 1.6042 - accuracy: 0.24 - ETA: 5s - loss: 1.6035 - accuracy: 0.24 - ETA: 5s - loss: 1.6028 - accuracy: 0.25 - ETA: 5s - loss: 1.6025 - accuracy: 0.25 - ETA: 5s - loss: 1.6024 - accuracy: 0.25 - ETA: 5s - loss: 1.6029 - accuracy: 0.24 - ETA: 4s - loss: 1.6024 - accuracy: 0.25 - ETA: 4s - loss: 1.6028 - accuracy: 0.25 - ETA: 4s - loss: 1.6025 - accuracy: 0.25 - ETA: 4s - loss: 1.6030 - accuracy: 0.24 - ETA: 4s - loss: 1.6033 - accuracy: 0.24 - ETA: 4s - loss: 1.6031 - accuracy: 0.24 - ETA: 4s - loss: 1.6033 - accuracy: 0.24 - ETA: 4s - loss: 1.6032 - accuracy: 0.24 - ETA: 4s - loss: 1.6036 - accuracy: 0.24 - ETA: 3s - loss: 1.6031 - accuracy: 0.24 - ETA: 3s - loss: 1.6034 - accuracy: 0.24 - ETA: 3s - loss: 1.6028 - accuracy: 0.25 - ETA: 3s - loss: 1.6030 - accuracy: 0.24 - ETA: 3s - loss: 1.6027 - accuracy: 0.25 - ETA: 3s - loss: 1.6025 - accuracy: 0.25 - ETA: 3s - loss: 1.6026 - accuracy: 0.25 - ETA: 3s - loss: 1.6023 - accuracy: 0.25 - ETA: 3s - loss: 1.6020 - accuracy: 0.25 - ETA: 2s - loss: 1.6024 - accuracy: 0.25 - ETA: 2s - loss: 1.6023 - accuracy: 0.25 - ETA: 2s - loss: 1.6016 - accuracy: 0.25 - ETA: 2s - loss: 1.6012 - accuracy: 0.25 - ETA: 2s - loss: 1.6006 - accuracy: 0.25 - ETA: 2s - loss: 1.6010 - accuracy: 0.25 - ETA: 2s - loss: 1.6005 - accuracy: 0.25 - ETA: 2s - loss: 1.6009 - accuracy: 0.25 - ETA: 2s - loss: 1.6005 - accuracy: 0.25 - ETA: 1s - loss: 1.6008 - accuracy: 0.25 - ETA: 1s - loss: 1.6008 - accuracy: 0.25 - ETA: 1s - loss: 1.6005 - accuracy: 0.25 - ETA: 1s - loss: 1.6002 - accuracy: 0.25 - ETA: 1s - loss: 1.5999 - accuracy: 0.25 - ETA: 1s - loss: 1.6003 - accuracy: 0.25 - ETA: 1s - loss: 1.6006 - accuracy: 0.25 - ETA: 1s - loss: 1.6006 - accuracy: 0.25 - ETA: 1s - loss: 1.6007 - accuracy: 0.25 - ETA: 0s - loss: 1.6011 - accuracy: 0.24 - ETA: 0s - loss: 1.6014 - accuracy: 0.24 - ETA: 0s - loss: 1.6014 - accuracy: 0.24 - ETA: 0s - loss: 1.6010 - accuracy: 0.24 - ETA: 0s - loss: 1.6009 - accuracy: 0.24 - ETA: 0s - loss: 1.6006 - accuracy: 0.24 - ETA: 0s - loss: 1.6004 - accuracy: 0.25 - ETA: 0s - loss: 1.6002 - accuracy: 0.25 - ETA: 0s - loss: 1.6001 - accuracy: 0.25 - 14s 148ms/step - loss: 1.6001 - accuracy: 0.2503 - val_loss: 1.6037 - val_accuracy: 0.2369\n",
      "Epoch 9/10\n"
     ]
    },
    {
     "name": "stdout",
     "output_type": "stream",
     "text": [
      "92/92 [==============================] - ETA: 0s - loss: 1.5669 - accuracy: 0.37 - ETA: 5s - loss: 1.5777 - accuracy: 0.37 - ETA: 6s - loss: 1.5884 - accuracy: 0.31 - ETA: 7s - loss: 1.5937 - accuracy: 0.28 - ETA: 7s - loss: 1.5961 - accuracy: 0.28 - ETA: 8s - loss: 1.5961 - accuracy: 0.26 - ETA: 8s - loss: 1.5983 - accuracy: 0.25 - ETA: 8s - loss: 1.5968 - accuracy: 0.25 - ETA: 8s - loss: 1.5916 - accuracy: 0.26 - ETA: 8s - loss: 1.5894 - accuracy: 0.27 - ETA: 8s - loss: 1.5896 - accuracy: 0.27 - ETA: 8s - loss: 1.5914 - accuracy: 0.26 - ETA: 8s - loss: 1.5935 - accuracy: 0.26 - ETA: 8s - loss: 1.5954 - accuracy: 0.26 - ETA: 8s - loss: 1.5962 - accuracy: 0.26 - ETA: 7s - loss: 1.5959 - accuracy: 0.26 - ETA: 7s - loss: 1.5970 - accuracy: 0.25 - ETA: 7s - loss: 1.5981 - accuracy: 0.25 - ETA: 7s - loss: 1.6019 - accuracy: 0.24 - ETA: 7s - loss: 1.6028 - accuracy: 0.24 - ETA: 7s - loss: 1.6027 - accuracy: 0.24 - ETA: 7s - loss: 1.6014 - accuracy: 0.24 - ETA: 7s - loss: 1.6012 - accuracy: 0.24 - ETA: 7s - loss: 1.6018 - accuracy: 0.23 - ETA: 7s - loss: 1.6019 - accuracy: 0.24 - ETA: 7s - loss: 1.6018 - accuracy: 0.23 - ETA: 7s - loss: 1.6013 - accuracy: 0.23 - ETA: 7s - loss: 1.6006 - accuracy: 0.24 - ETA: 6s - loss: 1.5999 - accuracy: 0.24 - ETA: 6s - loss: 1.5999 - accuracy: 0.24 - ETA: 6s - loss: 1.6008 - accuracy: 0.24 - ETA: 6s - loss: 1.6020 - accuracy: 0.23 - ETA: 6s - loss: 1.6030 - accuracy: 0.23 - ETA: 6s - loss: 1.6021 - accuracy: 0.23 - ETA: 6s - loss: 1.6023 - accuracy: 0.23 - ETA: 6s - loss: 1.6020 - accuracy: 0.23 - ETA: 6s - loss: 1.6021 - accuracy: 0.23 - ETA: 5s - loss: 1.6030 - accuracy: 0.23 - ETA: 5s - loss: 1.6026 - accuracy: 0.23 - ETA: 5s - loss: 1.6022 - accuracy: 0.23 - ETA: 5s - loss: 1.6021 - accuracy: 0.23 - ETA: 5s - loss: 1.6022 - accuracy: 0.23 - ETA: 5s - loss: 1.6019 - accuracy: 0.23 - ETA: 5s - loss: 1.6028 - accuracy: 0.23 - ETA: 5s - loss: 1.6030 - accuracy: 0.23 - ETA: 5s - loss: 1.6032 - accuracy: 0.23 - ETA: 5s - loss: 1.6024 - accuracy: 0.23 - ETA: 4s - loss: 1.6023 - accuracy: 0.23 - ETA: 4s - loss: 1.6020 - accuracy: 0.23 - ETA: 4s - loss: 1.6021 - accuracy: 0.23 - ETA: 4s - loss: 1.6024 - accuracy: 0.23 - ETA: 4s - loss: 1.6026 - accuracy: 0.23 - ETA: 4s - loss: 1.6017 - accuracy: 0.23 - ETA: 4s - loss: 1.6014 - accuracy: 0.23 - ETA: 4s - loss: 1.6013 - accuracy: 0.23 - ETA: 4s - loss: 1.6014 - accuracy: 0.23 - ETA: 3s - loss: 1.6014 - accuracy: 0.23 - ETA: 3s - loss: 1.6010 - accuracy: 0.24 - ETA: 3s - loss: 1.6009 - accuracy: 0.24 - ETA: 3s - loss: 1.6004 - accuracy: 0.24 - ETA: 3s - loss: 1.6006 - accuracy: 0.24 - ETA: 3s - loss: 1.6008 - accuracy: 0.24 - ETA: 3s - loss: 1.6008 - accuracy: 0.24 - ETA: 3s - loss: 1.6007 - accuracy: 0.24 - ETA: 3s - loss: 1.6004 - accuracy: 0.24 - ETA: 2s - loss: 1.5998 - accuracy: 0.24 - ETA: 2s - loss: 1.5994 - accuracy: 0.24 - ETA: 2s - loss: 1.5999 - accuracy: 0.24 - ETA: 2s - loss: 1.6003 - accuracy: 0.24 - ETA: 2s - loss: 1.6000 - accuracy: 0.24 - ETA: 2s - loss: 1.5999 - accuracy: 0.24 - ETA: 2s - loss: 1.5998 - accuracy: 0.24 - ETA: 2s - loss: 1.5998 - accuracy: 0.24 - ETA: 2s - loss: 1.6000 - accuracy: 0.24 - ETA: 1s - loss: 1.6002 - accuracy: 0.24 - ETA: 1s - loss: 1.6005 - accuracy: 0.24 - ETA: 1s - loss: 1.6003 - accuracy: 0.24 - ETA: 1s - loss: 1.6001 - accuracy: 0.24 - ETA: 1s - loss: 1.6001 - accuracy: 0.24 - ETA: 1s - loss: 1.6003 - accuracy: 0.24 - ETA: 1s - loss: 1.6001 - accuracy: 0.24 - ETA: 1s - loss: 1.6004 - accuracy: 0.24 - ETA: 1s - loss: 1.6003 - accuracy: 0.24 - ETA: 0s - loss: 1.5997 - accuracy: 0.24 - ETA: 0s - loss: 1.5996 - accuracy: 0.24 - ETA: 0s - loss: 1.5996 - accuracy: 0.24 - ETA: 0s - loss: 1.5998 - accuracy: 0.24 - ETA: 0s - loss: 1.5995 - accuracy: 0.24 - ETA: 0s - loss: 1.5996 - accuracy: 0.24 - ETA: 0s - loss: 1.5996 - accuracy: 0.24 - ETA: 0s - loss: 1.6000 - accuracy: 0.24 - ETA: 0s - loss: 1.5999 - accuracy: 0.24 - 14s 147ms/step - loss: 1.5999 - accuracy: 0.2449 - val_loss: 1.6025 - val_accuracy: 0.2438\n",
      "Epoch 10/10\n",
      "92/92 [==============================] - ETA: 0s - loss: 1.5902 - accuracy: 0.25 - ETA: 4s - loss: 1.5824 - accuracy: 0.29 - ETA: 6s - loss: 1.5833 - accuracy: 0.28 - ETA: 7s - loss: 1.5889 - accuracy: 0.27 - ETA: 7s - loss: 1.5894 - accuracy: 0.27 - ETA: 7s - loss: 1.5974 - accuracy: 0.26 - ETA: 8s - loss: 1.5989 - accuracy: 0.25 - ETA: 8s - loss: 1.5981 - accuracy: 0.25 - ETA: 8s - loss: 1.5950 - accuracy: 0.26 - ETA: 8s - loss: 1.5969 - accuracy: 0.26 - ETA: 8s - loss: 1.5966 - accuracy: 0.26 - ETA: 8s - loss: 1.5957 - accuracy: 0.27 - ETA: 8s - loss: 1.5940 - accuracy: 0.27 - ETA: 8s - loss: 1.5973 - accuracy: 0.26 - ETA: 8s - loss: 1.5969 - accuracy: 0.27 - ETA: 8s - loss: 1.5984 - accuracy: 0.26 - ETA: 7s - loss: 1.5965 - accuracy: 0.27 - ETA: 7s - loss: 1.5967 - accuracy: 0.27 - ETA: 7s - loss: 1.5981 - accuracy: 0.27 - ETA: 7s - loss: 1.5982 - accuracy: 0.27 - ETA: 7s - loss: 1.5977 - accuracy: 0.27 - ETA: 7s - loss: 1.5978 - accuracy: 0.26 - ETA: 7s - loss: 1.5976 - accuracy: 0.27 - ETA: 7s - loss: 1.5956 - accuracy: 0.27 - ETA: 7s - loss: 1.5974 - accuracy: 0.27 - ETA: 7s - loss: 1.5979 - accuracy: 0.26 - ETA: 7s - loss: 1.5989 - accuracy: 0.26 - ETA: 6s - loss: 1.5999 - accuracy: 0.26 - ETA: 6s - loss: 1.6000 - accuracy: 0.26 - ETA: 6s - loss: 1.5997 - accuracy: 0.26 - ETA: 6s - loss: 1.6003 - accuracy: 0.26 - ETA: 6s - loss: 1.6004 - accuracy: 0.26 - ETA: 6s - loss: 1.6004 - accuracy: 0.26 - ETA: 6s - loss: 1.6002 - accuracy: 0.26 - ETA: 6s - loss: 1.6005 - accuracy: 0.25 - ETA: 6s - loss: 1.6004 - accuracy: 0.25 - ETA: 6s - loss: 1.6005 - accuracy: 0.25 - ETA: 5s - loss: 1.6008 - accuracy: 0.25 - ETA: 5s - loss: 1.6005 - accuracy: 0.25 - ETA: 5s - loss: 1.5994 - accuracy: 0.25 - ETA: 5s - loss: 1.5993 - accuracy: 0.25 - ETA: 5s - loss: 1.5992 - accuracy: 0.25 - ETA: 5s - loss: 1.5996 - accuracy: 0.25 - ETA: 5s - loss: 1.5999 - accuracy: 0.25 - ETA: 5s - loss: 1.5997 - accuracy: 0.25 - ETA: 5s - loss: 1.5999 - accuracy: 0.25 - ETA: 4s - loss: 1.6002 - accuracy: 0.24 - ETA: 4s - loss: 1.6001 - accuracy: 0.24 - ETA: 4s - loss: 1.6000 - accuracy: 0.24 - ETA: 4s - loss: 1.5996 - accuracy: 0.24 - ETA: 4s - loss: 1.5990 - accuracy: 0.25 - ETA: 4s - loss: 1.5990 - accuracy: 0.25 - ETA: 4s - loss: 1.5988 - accuracy: 0.25 - ETA: 4s - loss: 1.5990 - accuracy: 0.25 - ETA: 4s - loss: 1.5989 - accuracy: 0.25 - ETA: 4s - loss: 1.5989 - accuracy: 0.25 - ETA: 3s - loss: 1.5990 - accuracy: 0.25 - ETA: 3s - loss: 1.5989 - accuracy: 0.25 - ETA: 3s - loss: 1.5991 - accuracy: 0.24 - ETA: 3s - loss: 1.5990 - accuracy: 0.24 - ETA: 3s - loss: 1.5990 - accuracy: 0.25 - ETA: 3s - loss: 1.5991 - accuracy: 0.25 - ETA: 3s - loss: 1.5993 - accuracy: 0.24 - ETA: 3s - loss: 1.5987 - accuracy: 0.25 - ETA: 3s - loss: 1.5984 - accuracy: 0.25 - ETA: 2s - loss: 1.5988 - accuracy: 0.24 - ETA: 2s - loss: 1.5986 - accuracy: 0.25 - ETA: 2s - loss: 1.5980 - accuracy: 0.25 - ETA: 2s - loss: 1.5985 - accuracy: 0.25 - ETA: 2s - loss: 1.5984 - accuracy: 0.25 - ETA: 2s - loss: 1.5983 - accuracy: 0.25 - ETA: 2s - loss: 1.5985 - accuracy: 0.24 - ETA: 2s - loss: 1.5986 - accuracy: 0.24 - ETA: 2s - loss: 1.5985 - accuracy: 0.24 - ETA: 1s - loss: 1.5990 - accuracy: 0.24 - ETA: 1s - loss: 1.5990 - accuracy: 0.24 - ETA: 1s - loss: 1.5989 - accuracy: 0.24 - ETA: 1s - loss: 1.5992 - accuracy: 0.24 - ETA: 1s - loss: 1.5991 - accuracy: 0.24 - ETA: 1s - loss: 1.5996 - accuracy: 0.24 - ETA: 1s - loss: 1.5994 - accuracy: 0.24 - ETA: 1s - loss: 1.5994 - accuracy: 0.24 - ETA: 1s - loss: 1.5996 - accuracy: 0.24 - ETA: 0s - loss: 1.5995 - accuracy: 0.24 - ETA: 0s - loss: 1.5991 - accuracy: 0.24 - ETA: 0s - loss: 1.5993 - accuracy: 0.24 - ETA: 0s - loss: 1.5997 - accuracy: 0.24 - ETA: 0s - loss: 1.5995 - accuracy: 0.24 - ETA: 0s - loss: 1.6003 - accuracy: 0.24 - ETA: 0s - loss: 1.6001 - accuracy: 0.24 - ETA: 0s - loss: 1.6001 - accuracy: 0.24 - ETA: 0s - loss: 1.6002 - accuracy: 0.24 - 14s 148ms/step - loss: 1.6002 - accuracy: 0.2442 - val_loss: 1.6070 - val_accuracy: 0.2287\n"
     ]
    },
    {
     "data": {
      "text/html": [
       "<span style=\"color:#4527A0\"><h1 style=\"font-size:18px\">Trial complete</h1></span>"
      ],
      "text/plain": [
       "<IPython.core.display.HTML object>"
      ]
     },
     "metadata": {},
     "output_type": "display_data"
    },
    {
     "data": {
      "text/html": [
       "<span style=\"color:#4527A0\"><h1 style=\"font-size:18px\">Trial summary</h1></span>"
      ],
      "text/plain": [
       "<IPython.core.display.HTML object>"
      ]
     },
     "metadata": {},
     "output_type": "display_data"
    },
    {
     "data": {
      "text/html": [
       "<span style=\"color:cyan\"> |-Trial ID: c908fe149791b23cd0f4595ec5bde856</span>"
      ],
      "text/plain": [
       "<IPython.core.display.HTML object>"
      ]
     },
     "metadata": {},
     "output_type": "display_data"
    },
    {
     "data": {
      "text/html": [
       "<span style=\"color:cyan\"> |-Score: 1.596627950668335</span>"
      ],
      "text/plain": [
       "<IPython.core.display.HTML object>"
      ]
     },
     "metadata": {},
     "output_type": "display_data"
    },
    {
     "data": {
      "text/html": [
       "<span style=\"color:cyan\"> |-Best step: 6</span>"
      ],
      "text/plain": [
       "<IPython.core.display.HTML object>"
      ]
     },
     "metadata": {},
     "output_type": "display_data"
    },
    {
     "data": {
      "text/html": [
       "<span style=\"color:#7E57C2\"><h2 style=\"font-size:16px\">Hyperparameters:</h2></span>"
      ],
      "text/plain": [
       "<IPython.core.display.HTML object>"
      ]
     },
     "metadata": {},
     "output_type": "display_data"
    },
    {
     "data": {
      "text/html": [
       "<span style=\"color:cyan\"> |-classification_head_1/dropout_rate: 0.5</span>"
      ],
      "text/plain": [
       "<IPython.core.display.HTML object>"
      ]
     },
     "metadata": {},
     "output_type": "display_data"
    },
    {
     "data": {
      "text/html": [
       "<span style=\"color:blue\"> |-classification_head_1/spatial_reduction_1/reduction_type: flatten</span>"
      ],
      "text/plain": [
       "<IPython.core.display.HTML object>"
      ]
     },
     "metadata": {},
     "output_type": "display_data"
    },
    {
     "data": {
      "text/html": [
       "<span style=\"color:cyan\"> |-image_block_1/augment: False</span>"
      ],
      "text/plain": [
       "<IPython.core.display.HTML object>"
      ]
     },
     "metadata": {},
     "output_type": "display_data"
    },
    {
     "data": {
      "text/html": [
       "<span style=\"color:blue\"> |-image_block_1/block_type: vanilla</span>"
      ],
      "text/plain": [
       "<IPython.core.display.HTML object>"
      ]
     },
     "metadata": {},
     "output_type": "display_data"
    },
    {
     "data": {
      "text/html": [
       "<span style=\"color:cyan\"> |-image_block_1/conv_block_1/dropout_rate: 0.25</span>"
      ],
      "text/plain": [
       "<IPython.core.display.HTML object>"
      ]
     },
     "metadata": {},
     "output_type": "display_data"
    },
    {
     "data": {
      "text/html": [
       "<span style=\"color:blue\"> |-image_block_1/conv_block_1/filters_0_0: 32</span>"
      ],
      "text/plain": [
       "<IPython.core.display.HTML object>"
      ]
     },
     "metadata": {},
     "output_type": "display_data"
    },
    {
     "data": {
      "text/html": [
       "<span style=\"color:cyan\"> |-image_block_1/conv_block_1/filters_0_1: 64</span>"
      ],
      "text/plain": [
       "<IPython.core.display.HTML object>"
      ]
     },
     "metadata": {},
     "output_type": "display_data"
    },
    {
     "data": {
      "text/html": [
       "<span style=\"color:blue\"> |-image_block_1/conv_block_1/kernel_size: 3</span>"
      ],
      "text/plain": [
       "<IPython.core.display.HTML object>"
      ]
     },
     "metadata": {},
     "output_type": "display_data"
    },
    {
     "data": {
      "text/html": [
       "<span style=\"color:cyan\"> |-image_block_1/conv_block_1/max_pooling: True</span>"
      ],
      "text/plain": [
       "<IPython.core.display.HTML object>"
      ]
     },
     "metadata": {},
     "output_type": "display_data"
    },
    {
     "data": {
      "text/html": [
       "<span style=\"color:blue\"> |-image_block_1/conv_block_1/num_blocks: 1</span>"
      ],
      "text/plain": [
       "<IPython.core.display.HTML object>"
      ]
     },
     "metadata": {},
     "output_type": "display_data"
    },
    {
     "data": {
      "text/html": [
       "<span style=\"color:cyan\"> |-image_block_1/conv_block_1/num_layers: 2</span>"
      ],
      "text/plain": [
       "<IPython.core.display.HTML object>"
      ]
     },
     "metadata": {},
     "output_type": "display_data"
    },
    {
     "data": {
      "text/html": [
       "<span style=\"color:blue\"> |-image_block_1/conv_block_1/separable: False</span>"
      ],
      "text/plain": [
       "<IPython.core.display.HTML object>"
      ]
     },
     "metadata": {},
     "output_type": "display_data"
    },
    {
     "data": {
      "text/html": [
       "<span style=\"color:cyan\"> |-image_block_1/normalize: True</span>"
      ],
      "text/plain": [
       "<IPython.core.display.HTML object>"
      ]
     },
     "metadata": {},
     "output_type": "display_data"
    },
    {
     "data": {
      "text/html": [
       "<span style=\"color:blue\"> |-optimizer: adam</span>"
      ],
      "text/plain": [
       "<IPython.core.display.HTML object>"
      ]
     },
     "metadata": {},
     "output_type": "display_data"
    },
    {
     "name": "stdout",
     "output_type": "stream",
     "text": [
      "INFO:tensorflow:Oracle triggered exit\n",
      "115/115 [==============================] - ETA: 0s - loss: 1.7198 - accuracy: 0.28 - ETA: 6s - loss: 26.4634 - accuracy: 0.250 - ETA: 8s - loss: 21.2743 - accuracy: 0.239 - ETA: 9s - loss: 20.6605 - accuracy: 0.250 - ETA: 10s - loss: 21.1210 - accuracy: 0.21 - ETA: 10s - loss: 19.7904 - accuracy: 0.19 - ETA: 10s - loss: 18.0614 - accuracy: 0.19 - ETA: 10s - loss: 16.6908 - accuracy: 0.20 - ETA: 10s - loss: 15.4958 - accuracy: 0.21 - ETA: 10s - loss: 14.4523 - accuracy: 0.21 - ETA: 10s - loss: 13.3565 - accuracy: 0.21 - ETA: 10s - loss: 12.4365 - accuracy: 0.22 - ETA: 10s - loss: 11.6612 - accuracy: 0.21 - ETA: 10s - loss: 10.9535 - accuracy: 0.20 - ETA: 10s - loss: 10.3348 - accuracy: 0.21 - ETA: 10s - loss: 9.7954 - accuracy: 0.2109 - ETA: 10s - loss: 9.3231 - accuracy: 0.209 - ETA: 10s - loss: 8.8935 - accuracy: 0.213 - ETA: 10s - loss: 8.5159 - accuracy: 0.208 - ETA: 10s - loss: 8.1719 - accuracy: 0.206 - ETA: 10s - loss: 7.8580 - accuracy: 0.211 - ETA: 10s - loss: 7.5728 - accuracy: 0.213 - ETA: 10s - loss: 7.3132 - accuracy: 0.214 - ETA: 10s - loss: 7.0752 - accuracy: 0.218 - ETA: 9s - loss: 6.8566 - accuracy: 0.221 - ETA: 9s - loss: 6.6545 - accuracy: 0.22 - ETA: 9s - loss: 6.4673 - accuracy: 0.21 - ETA: 9s - loss: 6.2934 - accuracy: 0.21 - ETA: 9s - loss: 6.1319 - accuracy: 0.21 - ETA: 9s - loss: 5.9811 - accuracy: 0.21 - ETA: 9s - loss: 5.8395 - accuracy: 0.21 - ETA: 9s - loss: 5.7069 - accuracy: 0.21 - ETA: 9s - loss: 5.5828 - accuracy: 0.21 - ETA: 8s - loss: 5.4658 - accuracy: 0.21 - ETA: 8s - loss: 5.3558 - accuracy: 0.21 - ETA: 8s - loss: 5.2518 - accuracy: 0.21 - ETA: 8s - loss: 5.1535 - accuracy: 0.21 - ETA: 8s - loss: 5.0600 - accuracy: 0.21 - ETA: 8s - loss: 4.9712 - accuracy: 0.21 - ETA: 8s - loss: 4.8873 - accuracy: 0.21 - ETA: 8s - loss: 4.8070 - accuracy: 0.21 - ETA: 8s - loss: 4.7310 - accuracy: 0.21 - ETA: 7s - loss: 4.6586 - accuracy: 0.21 - ETA: 7s - loss: 4.5891 - accuracy: 0.21 - ETA: 7s - loss: 4.5230 - accuracy: 0.21 - ETA: 7s - loss: 4.4596 - accuracy: 0.21 - ETA: 7s - loss: 4.3987 - accuracy: 0.21 - ETA: 7s - loss: 4.3402 - accuracy: 0.21 - ETA: 7s - loss: 4.2845 - accuracy: 0.21 - ETA: 7s - loss: 4.2310 - accuracy: 0.22 - ETA: 7s - loss: 4.1795 - accuracy: 0.22 - ETA: 7s - loss: 4.1299 - accuracy: 0.22 - ETA: 6s - loss: 4.0823 - accuracy: 0.22 - ETA: 6s - loss: 4.0364 - accuracy: 0.22 - ETA: 6s - loss: 3.9920 - accuracy: 0.22 - ETA: 6s - loss: 3.9494 - accuracy: 0.22 - ETA: 6s - loss: 3.9086 - accuracy: 0.22 - ETA: 6s - loss: 3.8689 - accuracy: 0.22 - ETA: 6s - loss: 3.8306 - accuracy: 0.22 - ETA: 6s - loss: 3.7935 - accuracy: 0.22 - ETA: 6s - loss: 3.7579 - accuracy: 0.22 - ETA: 5s - loss: 3.7237 - accuracy: 0.22 - ETA: 5s - loss: 3.6898 - accuracy: 0.22 - ETA: 5s - loss: 3.6573 - accuracy: 0.22 - ETA: 5s - loss: 3.6258 - accuracy: 0.22 - ETA: 5s - loss: 3.5954 - accuracy: 0.22 - ETA: 5s - loss: 3.5656 - accuracy: 0.22 - ETA: 5s - loss: 3.5367 - accuracy: 0.22 - ETA: 5s - loss: 3.5087 - accuracy: 0.22 - ETA: 5s - loss: 3.4814 - accuracy: 0.23 - ETA: 4s - loss: 3.4549 - accuracy: 0.23 - ETA: 4s - loss: 3.4291 - accuracy: 0.23 - ETA: 4s - loss: 3.4042 - accuracy: 0.23 - ETA: 4s - loss: 3.3800 - accuracy: 0.23 - ETA: 4s - loss: 3.3564 - accuracy: 0.22 - ETA: 4s - loss: 3.3334 - accuracy: 0.23 - ETA: 4s - loss: 3.3108 - accuracy: 0.23 - ETA: 4s - loss: 3.2889 - accuracy: 0.23 - ETA: 4s - loss: 3.2676 - accuracy: 0.23 - ETA: 3s - loss: 3.2469 - accuracy: 0.23 - ETA: 3s - loss: 3.2268 - accuracy: 0.23 - ETA: 3s - loss: 3.2071 - accuracy: 0.23 - ETA: 3s - loss: 3.1879 - accuracy: 0.23 - ETA: 3s - loss: 3.1690 - accuracy: 0.23 - ETA: 3s - loss: 3.1507 - accuracy: 0.23 - ETA: 3s - loss: 3.1328 - accuracy: 0.23 - ETA: 3s - loss: 3.1152 - accuracy: 0.23 - ETA: 3s - loss: 3.0981 - accuracy: 0.23 - ETA: 2s - loss: 3.0816 - accuracy: 0.22 - ETA: 2s - loss: 3.0653 - accuracy: 0.23 - ETA: 2s - loss: 3.0494 - accuracy: 0.23 - ETA: 2s - loss: 3.0337 - accuracy: 0.23 - ETA: 3s - loss: 3.0183 - accuracy: 0.23 - ETA: 2s - loss: 3.0032 - accuracy: 0.23 - ETA: 2s - loss: 2.9883 - accuracy: 0.23 - ETA: 2s - loss: 2.9740 - accuracy: 0.22 - ETA: 2s - loss: 2.9598 - accuracy: 0.22 - ETA: 2s - loss: 2.9459 - accuracy: 0.23 - ETA: 2s - loss: 2.9324 - accuracy: 0.23 - ETA: 2s - loss: 2.9191 - accuracy: 0.23 - ETA: 1s - loss: 2.9061 - accuracy: 0.23 - ETA: 1s - loss: 2.8933 - accuracy: 0.23 - ETA: 1s - loss: 2.8811 - accuracy: 0.23 - ETA: 1s - loss: 2.8688 - accuracy: 0.23 - ETA: 1s - loss: 2.8567 - accuracy: 0.23 - ETA: 1s - loss: 2.8449 - accuracy: 0.23 - ETA: 1s - loss: 2.8334 - accuracy: 0.23 - ETA: 0s - loss: 2.8220 - accuracy: 0.23 - ETA: 0s - loss: 2.8110 - accuracy: 0.23 - ETA: 0s - loss: 2.8000 - accuracy: 0.23 - ETA: 0s - loss: 2.7893 - accuracy: 0.23 - ETA: 0s - loss: 2.7788 - accuracy: 0.23 - ETA: 0s - loss: 2.7684 - accuracy: 0.23 - ETA: 0s - loss: 2.7581 - accuracy: 0.23 - ETA: 0s - loss: 2.7511 - accuracy: 0.23 - 15s 134ms/step - loss: 2.7511 - accuracy: 0.2343\n",
      "End of training\n"
     ]
    }
   ],
   "source": [
    "print(\"----------------- autokeras.fit with tfds -----------------\")\n",
    "\n",
    "import autokeras as ak\n",
    "clf = ak.ImageClassifier(\n",
    "    overwrite=True,\n",
    "    max_trials=1)\n",
    "\n",
    "print(\"type(clf) :\",type(clf))\n",
    "\n",
    "# Feed the tensorflow Dataset to the classifier.\n",
    "# model = clf.fit(train_ds, epochs=10)\n",
    "clf.fit(labeled_ds, epochs=10)\n",
    "print(\"End of training\")"
   ]
  },
  {
   "cell_type": "markdown",
   "metadata": {},
   "source": [
    "### 模型预测与评估\n",
    "\n",
    "模型的训练过程输出了大量的数据，但是使用起来却只需要几行代码。另外模型的预测与导出同样如此，在训练过程，训练过程已经进行了保存，但是想要输出训练好的最佳模型则需要使用export_model方法。"
   ]
  },
  {
   "cell_type": "code",
   "execution_count": 5,
   "metadata": {},
   "outputs": [
    {
     "name": "stdout",
     "output_type": "stream",
     "text": [
      "----------------- Predict with the best model -----------------\n",
      "WARNING:tensorflow:Unresolved object in checkpoint: (root).optimizer.iter\n",
      "WARNING:tensorflow:Unresolved object in checkpoint: (root).optimizer.beta_1\n",
      "WARNING:tensorflow:Unresolved object in checkpoint: (root).optimizer.beta_2\n",
      "WARNING:tensorflow:Unresolved object in checkpoint: (root).optimizer.decay\n",
      "WARNING:tensorflow:Unresolved object in checkpoint: (root).optimizer.learning_rate\n",
      "WARNING:tensorflow:A checkpoint was restored (e.g. tf.train.Checkpoint.restore or tf.keras.Model.load_weights) but not all checkpointed values were used. See above for specific issues. Use expect_partial() on the load status object, e.g. tf.train.Checkpoint.restore(...).expect_partial(), to silence these warnings, or use assert_consumed() to make the check explicit. See https://www.tensorflow.org/guide/checkpoint#loading_mechanics for details.\n",
      "WARNING:tensorflow:Unresolved object in checkpoint: (root).optimizer.iter\n",
      "WARNING:tensorflow:Unresolved object in checkpoint: (root).optimizer.beta_1\n",
      "WARNING:tensorflow:Unresolved object in checkpoint: (root).optimizer.beta_2\n",
      "WARNING:tensorflow:Unresolved object in checkpoint: (root).optimizer.decay\n",
      "WARNING:tensorflow:Unresolved object in checkpoint: (root).optimizer.learning_rate\n",
      "WARNING:tensorflow:A checkpoint was restored (e.g. tf.train.Checkpoint.restore or tf.keras.Model.load_weights) but not all checkpointed values were used. See above for specific issues. Use expect_partial() on the load status object, e.g. tf.train.Checkpoint.restore(...).expect_partial(), to silence these warnings, or use assert_consumed() to make the check explicit. See https://www.tensorflow.org/guide/checkpoint#loading_mechanics for details.\n",
      "115/115 [==============================] - ETA: 0s - loss: 1.6073 - accuracy: 0.28 - ETA: 3s - loss: 1.6060 - accuracy: 0.25 - ETA: 3s - loss: 1.6032 - accuracy: 0.24 - ETA: 3s - loss: 1.6037 - accuracy: 0.23 - ETA: 3s - loss: 1.6034 - accuracy: 0.26 - ETA: 3s - loss: 1.6020 - accuracy: 0.25 - ETA: 4s - loss: 1.6011 - accuracy: 0.26 - ETA: 4s - loss: 1.6001 - accuracy: 0.27 - ETA: 3s - loss: 1.6022 - accuracy: 0.25 - ETA: 3s - loss: 1.6025 - accuracy: 0.26 - ETA: 3s - loss: 1.6021 - accuracy: 0.25 - ETA: 3s - loss: 1.6041 - accuracy: 0.25 - ETA: 3s - loss: 1.6037 - accuracy: 0.25 - ETA: 3s - loss: 1.6037 - accuracy: 0.26 - ETA: 3s - loss: 1.6045 - accuracy: 0.25 - ETA: 3s - loss: 1.6050 - accuracy: 0.25 - ETA: 3s - loss: 1.6048 - accuracy: 0.25 - ETA: 3s - loss: 1.6047 - accuracy: 0.25 - ETA: 3s - loss: 1.6054 - accuracy: 0.25 - ETA: 3s - loss: 1.6055 - accuracy: 0.24 - ETA: 3s - loss: 1.6051 - accuracy: 0.24 - ETA: 3s - loss: 1.6054 - accuracy: 0.24 - ETA: 3s - loss: 1.6058 - accuracy: 0.24 - ETA: 2s - loss: 1.6058 - accuracy: 0.24 - ETA: 2s - loss: 1.6053 - accuracy: 0.24 - ETA: 2s - loss: 1.6056 - accuracy: 0.24 - ETA: 2s - loss: 1.6058 - accuracy: 0.24 - ETA: 2s - loss: 1.6054 - accuracy: 0.24 - ETA: 2s - loss: 1.6057 - accuracy: 0.24 - ETA: 2s - loss: 1.6055 - accuracy: 0.24 - ETA: 2s - loss: 1.6053 - accuracy: 0.24 - ETA: 2s - loss: 1.6053 - accuracy: 0.24 - ETA: 2s - loss: 1.6053 - accuracy: 0.24 - ETA: 2s - loss: 1.6053 - accuracy: 0.24 - ETA: 2s - loss: 1.6054 - accuracy: 0.24 - ETA: 1s - loss: 1.6053 - accuracy: 0.24 - ETA: 1s - loss: 1.6053 - accuracy: 0.24 - ETA: 1s - loss: 1.6052 - accuracy: 0.24 - ETA: 1s - loss: 1.6053 - accuracy: 0.24 - ETA: 1s - loss: 1.6053 - accuracy: 0.24 - ETA: 1s - loss: 1.6052 - accuracy: 0.24 - ETA: 1s - loss: 1.6052 - accuracy: 0.24 - ETA: 1s - loss: 1.6052 - accuracy: 0.24 - ETA: 1s - loss: 1.6051 - accuracy: 0.24 - ETA: 1s - loss: 1.6054 - accuracy: 0.24 - ETA: 1s - loss: 1.6054 - accuracy: 0.24 - ETA: 1s - loss: 1.6053 - accuracy: 0.24 - ETA: 0s - loss: 1.6054 - accuracy: 0.24 - ETA: 0s - loss: 1.6053 - accuracy: 0.24 - ETA: 0s - loss: 1.6054 - accuracy: 0.24 - ETA: 0s - loss: 1.6053 - accuracy: 0.24 - ETA: 0s - loss: 1.6052 - accuracy: 0.24 - ETA: 0s - loss: 1.6052 - accuracy: 0.24 - ETA: 0s - loss: 1.6052 - accuracy: 0.24 - ETA: 0s - loss: 1.6053 - accuracy: 0.24 - ETA: 0s - loss: 1.6052 - accuracy: 0.24 - ETA: 0s - loss: 1.6052 - accuracy: 0.24 - ETA: 0s - loss: 1.6052 - accuracy: 0.24 - ETA: 0s - loss: 1.6052 - accuracy: 0.24 - 5s 42ms/step - loss: 1.6052 - accuracy: 0.2455\n",
      "[1.6052242517471313, 0.24550408124923706]\n"
     ]
    }
   ],
   "source": [
    "print(\"----------------- Predict with the best model -----------------\")\n",
    "# Predict with the best model.\n",
    "predicted_y = clf.predict(labeled_ds)\n",
    "# predicted_y = clf.predict(train_ds)\n",
    "# Evaluate the best model with testing data.\n",
    "print(clf.evaluate(labeled_ds))\n",
    "# print(clf.evaluate(train_ds))"
   ]
  },
  {
   "cell_type": "markdown",
   "metadata": {},
   "source": [
    "### 模型的导出"
   ]
  },
  {
   "cell_type": "code",
   "execution_count": 7,
   "metadata": {},
   "outputs": [
    {
     "name": "stdout",
     "output_type": "stream",
     "text": [
      "----------------- Export as a Keras Model -----------------\n",
      "WARNING:tensorflow:Unresolved object in checkpoint: (root).optimizer.iter\n",
      "WARNING:tensorflow:Unresolved object in checkpoint: (root).optimizer.beta_1\n",
      "WARNING:tensorflow:Unresolved object in checkpoint: (root).optimizer.beta_2\n",
      "WARNING:tensorflow:Unresolved object in checkpoint: (root).optimizer.decay\n",
      "WARNING:tensorflow:Unresolved object in checkpoint: (root).optimizer.learning_rate\n",
      "WARNING:tensorflow:A checkpoint was restored (e.g. tf.train.Checkpoint.restore or tf.keras.Model.load_weights) but not all checkpointed values were used. See above for specific issues. Use expect_partial() on the load status object, e.g. tf.train.Checkpoint.restore(...).expect_partial(), to silence these warnings, or use assert_consumed() to make the check explicit. See https://www.tensorflow.org/guide/checkpoint#loading_mechanics for details.\n",
      "WARNING:tensorflow:Unresolved object in checkpoint: (root).optimizer.iter\n",
      "WARNING:tensorflow:Unresolved object in checkpoint: (root).optimizer.beta_1\n",
      "WARNING:tensorflow:Unresolved object in checkpoint: (root).optimizer.beta_2\n",
      "WARNING:tensorflow:Unresolved object in checkpoint: (root).optimizer.decay\n",
      "WARNING:tensorflow:Unresolved object in checkpoint: (root).optimizer.learning_rate\n",
      "WARNING:tensorflow:A checkpoint was restored (e.g. tf.train.Checkpoint.restore or tf.keras.Model.load_weights) but not all checkpointed values were used. See above for specific issues. Use expect_partial() on the load status object, e.g. tf.train.Checkpoint.restore(...).expect_partial(), to silence these warnings, or use assert_consumed() to make the check explicit. See https://www.tensorflow.org/guide/checkpoint#loading_mechanics for details.\n",
      "<class 'tensorflow.python.keras.engine.training.Model'>\n",
      "WARNING:tensorflow:From /home/fonttian/anaconda3/envs/keras/lib/python3.8/site-packages/tensorflow/python/ops/resource_variable_ops.py:1813: calling BaseResourceVariable.__init__ (from tensorflow.python.ops.resource_variable_ops) with constraint is deprecated and will be removed in a future version.\n",
      "Instructions for updating:\n",
      "If using Keras pass *_constraint arguments to layers.\n",
      "INFO:tensorflow:Assets written to: model_autokeras/assets\n",
      "-----------------End of the program -----------------\n"
     ]
    }
   ],
   "source": [
    "print(\"----------------- Export as a Keras Model -----------------\" )\n",
    "# Export as a Keras Model.\n",
    "model = clf.export_model()\n",
    "\n",
    "print(type(model))  # <class 'tensorflow.python.keras.engine.training.Model'>\n",
    "\n",
    "try:\n",
    "    model.save(\"model_autokeras\", save_format=\"tf\")\n",
    "except:\n",
    "    model.save(\"model_autokeras.h5\")\n",
    "\n",
    "print(\"-----------------End of the program -----------------\")"
   ]
  },
  {
   "attachments": {
    "3-1.png": {
     "image/png": "[encoded data removed]"
    }
   },
   "cell_type": "markdown",
   "metadata": {},
   "source": [
    "刚刚的代码就是代码的导出，由于该类库底层使用的仍然是tensorflow，因此保存模型其实调用的是Tensorflow中的模型导出方法。因此如果需要加载或者部署，采用tensorflow中的方法进行模型的保存和加载即可。至于整个文件夹则如下图所示，可以看到底层文件基本与TensorFlow无异。\n",
    "\n",
    "![3-1.png](attachment:3-1.png)"
   ]
  }
 ],
 "metadata": {
  "kernelspec": {
   "display_name": "Python 3 (ipykernel)",
   "language": "python",
   "name": "python3"
  },
  "language_info": {
   "codemirror_mode": {
    "name": "ipython",
    "version": 3
   },
   "file_extension": ".py",
   "mimetype": "text/x-python",
   "name": "python",
   "nbconvert_exporter": "python",
   "pygments_lexer": "ipython3",
   "version": "3.8.12"
  }
 },
 "nbformat": 4,
 "nbformat_minor": 4
}
