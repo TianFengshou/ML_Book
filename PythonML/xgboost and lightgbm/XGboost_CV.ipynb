{
 "cells": [
  {
   "cell_type": "markdown",
   "metadata": {},
   "source": [
    "## 前言\n",
    "Xgboost中内置了交叉验证，如果我们需要使用交叉验证的话，只需要直接调用即可。我们依旧采用部分之前的代码。你可以直接跳到交叉验证部分\n",
    "\n",
    "## 前置代码\n",
    "### 引用类库，添加需要的函数"
   ]
  },
  {
   "cell_type": "code",
   "execution_count": 1,
   "metadata": {
    "ExecuteTime": {
     "end_time": "2018-12-10T03:30:10.303585Z",
     "start_time": "2018-12-10T03:30:09.367159Z"
    }
   },
   "outputs": [],
   "source": [
    "import numpy as np\n",
    "from sklearn.model_selection import train_test_split\n",
    "import xgboost as xgb\n",
    "import pandas as pd"
   ]
  },
  {
   "cell_type": "code",
   "execution_count": 2,
   "metadata": {
    "ExecuteTime": {
     "end_time": "2018-12-10T03:30:10.991578Z",
     "start_time": "2018-12-10T03:30:10.985787Z"
    }
   },
   "outputs": [],
   "source": [
    "def GetNewDataByPandas():\n",
    "    wine = pd.read_csv(\"/home/fonttian/Data/UCI/wine/wine.csv\")\n",
    "    wine['alcohol**2'] = pow(wine[\"alcohol\"], 2)\n",
    "    wine['volatileAcidity*alcohol'] = wine[\"alcohol\"] * wine['volatile acidity']\n",
    "    y = np.array(wine.quality)\n",
    "    X = np.array(wine.drop(\"quality\", axis=1))\n",
    "    # X = np.array(wine)\n",
    "\n",
    "    columns = np.array(wine.columns)\n",
    "\n",
    "    return X, y, columns"
   ]
  },
  {
   "cell_type": "markdown",
   "metadata": {},
   "source": [
    "## 加载数据\n",
    "### 读取数据并分割\n",
    "\n",
    "因为我们这里使用的是交叉验证因此我们也就不再需要，将数据集分割为三份了，只需要分割出百分之十的数据用于预测就好。注意随机数的问题。"
   ]
  },
  {
   "cell_type": "code",
   "execution_count": 3,
   "metadata": {
    "ExecuteTime": {
     "end_time": "2018-12-10T03:30:12.294510Z",
     "start_time": "2018-12-10T03:30:12.258069Z"
    }
   },
   "outputs": [],
   "source": [
    "# Read wine quality data from file\n",
    "X, y, wineNames = GetNewDataByPandas()\n",
    "# X, y, wineNames = GetDataByPandas()\n",
    "# split data to [0.8,0.2,01]\n",
    "x_train, x_predict, y_train, y_predict = train_test_split(X, y, test_size=0.10, random_state=100)"
   ]
  },
  {
   "cell_type": "markdown",
   "metadata": {},
   "source": [
    "### 展示数据"
   ]
  },
  {
   "cell_type": "code",
   "execution_count": 4,
   "metadata": {
    "ExecuteTime": {
     "end_time": "2018-12-10T03:30:14.210953Z",
     "start_time": "2018-12-10T03:30:14.203508Z"
    }
   },
   "outputs": [
    {
     "data": {
      "text/plain": [
       "array(['fixed acidity', 'volatile acidity', 'citric acid',\n",
       "       'residual sugar', 'chlorides', 'free sulfur dioxide',\n",
       "       'total sulfur dioxide', 'density', 'pH', 'sulphates', 'alcohol',\n",
       "       'quality', 'alcohol**2', 'volatileAcidity*alcohol'], dtype=object)"
      ]
     },
     "execution_count": 4,
     "metadata": {},
     "output_type": "execute_result"
    }
   ],
   "source": [
    "wineNames"
   ]
  },
  {
   "cell_type": "code",
   "execution_count": 5,
   "metadata": {
    "ExecuteTime": {
     "end_time": "2018-12-10T03:30:14.825140Z",
     "start_time": "2018-12-10T03:30:14.819182Z"
    }
   },
   "outputs": [
    {
     "name": "stdout",
     "output_type": "stream",
     "text": [
      "1439 1439\n",
      "160\n"
     ]
    }
   ],
   "source": [
    "print(len(x_train),len(y_train))\n",
    "print(len(x_predict))"
   ]
  },
  {
   "cell_type": "markdown",
   "metadata": {
    "ExecuteTime": {
     "end_time": "2018-12-03T02:18:43.319596Z",
     "start_time": "2018-12-03T02:18:43.313062Z"
    }
   },
   "source": [
    "### 加载到DMatrix\n",
    " 1. 其中missing将作为填充缺失数值的默认值，可不填\n",
    " 2. 必要时也可以设置权重"
   ]
  },
  {
   "cell_type": "code",
   "execution_count": 7,
   "metadata": {
    "ExecuteTime": {
     "end_time": "2018-12-10T03:30:23.761355Z",
     "start_time": "2018-12-10T03:30:23.752590Z"
    }
   },
   "outputs": [],
   "source": [
    "dtrain = xgb.DMatrix(data=x_train,label=y_train,missing=-999.0)"
   ]
  },
  {
   "cell_type": "markdown",
   "metadata": {
    "ExecuteTime": {
     "end_time": "2018-12-03T02:20:36.015678Z",
     "start_time": "2018-12-03T02:20:36.007497Z"
    }
   },
   "source": [
    "## 设定参数\n",
    "### Booster参数\n",
    "\n",
    "eval_metric参数也可以在之后设置。"
   ]
  },
  {
   "cell_type": "code",
   "execution_count": 8,
   "metadata": {
    "ExecuteTime": {
     "end_time": "2018-12-10T03:30:25.235608Z",
     "start_time": "2018-12-10T03:30:25.230006Z"
    }
   },
   "outputs": [],
   "source": [
    "param = {'max_depth': 7, 'eta': 1, 'silent': 1, 'objective': 'reg:linear', 'seed':100}\n",
    "param['nthread'] = 4\n",
    "param['seed'] = 619\n",
    "param['eval_metric'] = ['rmse']"
   ]
  },
  {
   "cell_type": "markdown",
   "metadata": {},
   "source": [
    "## 利用交叉验证训练\n",
    "### 训练模型\n",
    "\n",
    "在之前的代码中，我将数据分割为 6:3:1，其分别为，训练数据，性能监视用数据，和最后的预测数据。这个比例只是为了示例用，并不具有代表性。\n",
    "\n",
    "本处则主要介绍交叉验证方法。"
   ]
  },
  {
   "cell_type": "code",
   "execution_count": 10,
   "metadata": {
    "ExecuteTime": {
     "end_time": "2018-12-10T03:30:36.783764Z",
     "start_time": "2018-12-10T03:30:36.298699Z"
    }
   },
   "outputs": [
    {
     "name": "stdout",
     "output_type": "stream",
     "text": [
      "running cross validation\n",
      "[0]\ttrain-rmse:0.685807+0.013638\ttest-rmse:0.731462+0.0235918\n",
      "[1]\ttrain-rmse:0.498956+0.0250755\ttest-rmse:0.711987+0.0161207\n",
      "[2]\ttrain-rmse:0.430987+0.0273151\ttest-rmse:0.717652+0.0249653\n",
      "[3]\ttrain-rmse:0.383161+0.0238077\ttest-rmse:0.720656+0.0246441\n",
      "[4]\ttrain-rmse:0.308969+0.0226345\ttest-rmse:0.724174+0.0263164\n",
      "[5]\ttrain-rmse:0.265569+0.0248556\ttest-rmse:0.7251+0.0281966\n",
      "[6]\ttrain-rmse:0.23472+0.0236373\ttest-rmse:0.730105+0.0281437\n",
      "[7]\ttrain-rmse:0.208329+0.0279188\ttest-rmse:0.737677+0.0317415\n",
      "[8]\ttrain-rmse:0.17889+0.028945\ttest-rmse:0.743078+0.0301012\n",
      "[9]\ttrain-rmse:0.15444+0.0194831\ttest-rmse:0.740954+0.0327966\n",
      "\n",
      "   train-rmse-mean  train-rmse-std  test-rmse-mean  test-rmse-std\n",
      "0         0.685807        0.013638        0.731462       0.023592\n",
      "1         0.498956        0.025075        0.711987       0.016121\n",
      "2         0.430987        0.027315        0.717652       0.024965\n",
      "3         0.383161        0.023808        0.720656       0.024644\n",
      "4         0.308969        0.022635        0.724174       0.026316\n",
      "5         0.265569        0.024856        0.725100       0.028197\n",
      "6         0.234720        0.023637        0.730105       0.028144\n",
      "7         0.208329        0.027919        0.737677       0.031741\n",
      "8         0.178890        0.028945        0.743078       0.030101\n",
      "9         0.154440        0.019483        0.740954       0.032797\n"
     ]
    }
   ],
   "source": [
    "num_round = 10\n",
    "print('running cross validation')\n",
    "# do cross validation, this will print result out as\n",
    "# [iteration]  metric_name:mean_value+std_value\n",
    "# std_value is standard deviation of the metric\n",
    "rsult_table = xgb.cv(param, dtrain, num_round, nfold=5,\n",
    "       callbacks=[xgb.callback.print_evaluation(show_stdv=True)])\n",
    "\n",
    "print()\n",
    "print(rsult_table)"
   ]
  },
  {
   "cell_type": "markdown",
   "metadata": {
    "ExecuteTime": {
     "end_time": "2018-12-05T02:37:20.310101Z",
     "start_time": "2018-12-05T02:37:20.069573Z"
    }
   },
   "source": [
    "从结果来看，虽然训练误差比较小，但是测试误差比较大，并且测试数据集误差也变小再增大，这都是明显的过拟合现象。而事实上，本处数据集使用的是UCI的红酒质量数据集。该数据集确实比较容易过拟合。那么这时候我们就更加的需要早停了。\n",
    "\n",
    "### 在交叉验证中使用早停"
   ]
  },
  {
   "cell_type": "code",
   "execution_count": 11,
   "metadata": {
    "ExecuteTime": {
     "end_time": "2018-12-10T03:30:38.950642Z",
     "start_time": "2018-12-10T03:30:38.728545Z"
    }
   },
   "outputs": [
    {
     "name": "stdout",
     "output_type": "stream",
     "text": [
      "running cross validation, disable standard deviation display\n",
      "[0]\ttrain-rmse:0.685807\ttest-rmse:0.731462\n",
      "Multiple eval metrics have been passed: 'test-rmse' will be used for early stopping.\n",
      "\n",
      "Will train until test-rmse hasn't improved in 3 rounds.\n",
      "[1]\ttrain-rmse:0.498956\ttest-rmse:0.711987\n",
      "[2]\ttrain-rmse:0.430987\ttest-rmse:0.717652\n",
      "[3]\ttrain-rmse:0.383161\ttest-rmse:0.720656\n",
      "[4]\ttrain-rmse:0.308969\ttest-rmse:0.724174\n",
      "Stopping. Best iteration:\n",
      "[1]\ttrain-rmse:0.498956+0.0250755\ttest-rmse:0.711987+0.0161207\n",
      "\n",
      "   train-rmse-mean  train-rmse-std  test-rmse-mean  test-rmse-std\n",
      "0         0.685807        0.013638        0.731462       0.023592\n",
      "1         0.498956        0.025075        0.711987       0.016121\n"
     ]
    }
   ],
   "source": [
    "print('running cross validation, disable standard deviation display')\n",
    "res = xgb.cv(param, dtrain, num_boost_round=10, nfold=5,\n",
    "             callbacks=[xgb.callback.print_evaluation(show_stdv=False),\n",
    "                        xgb.callback.early_stop(3)])\n",
    "print(res)"
   ]
  },
  {
   "cell_type": "markdown",
   "metadata": {},
   "source": [
    "### 定义预处理函数\n",
    "\n",
    "用于返回预处理的训练、测试数据和参数\n",
    "\n",
    "我们可以用它来重新设置权重，等等。\n",
    "\n",
    "例如，我们尝试设置scale_pos_weight，不过因为这里主要是为了展示用法，所以我们将权重全部设置为1"
   ]
  },
  {
   "cell_type": "code",
   "execution_count": 12,
   "metadata": {
    "ExecuteTime": {
     "end_time": "2018-12-10T03:35:21.530623Z",
     "start_time": "2018-12-10T03:35:21.525727Z"
    }
   },
   "outputs": [],
   "source": [
    "def fpreproc(dtrain, dtest, param):\n",
    "    label = dtrain.get_label()\n",
    "    ratio = float(np.sum(label == 0)) / np.sum(label == 1) # xgboost官方指引中的 例子\n",
    "    ratio = 1 # 我的 例子\n",
    "    param['scale_pos_weight'] = ratio\n",
    "    return (dtrain, dtest, param)"
   ]
  },
  {
   "cell_type": "markdown",
   "metadata": {},
   "source": [
    "### 在交叉验证中使用预处理函数"
   ]
  },
  {
   "cell_type": "code",
   "execution_count": 15,
   "metadata": {
    "ExecuteTime": {
     "end_time": "2018-12-10T03:36:21.392147Z",
     "start_time": "2018-12-10T03:36:21.184028Z"
    }
   },
   "outputs": [
    {
     "name": "stdout",
     "output_type": "stream",
     "text": [
      "   train-rmse-mean  train-rmse-std  test-rmse-mean  test-rmse-std\n",
      "0         0.685807        0.013638        0.731462       0.023592\n",
      "1         0.498956        0.025075        0.711987       0.016121\n",
      "2         0.430987        0.027315        0.717652       0.024965\n",
      "3         0.383161        0.023808        0.720656       0.024644\n",
      "4         0.308969        0.022635        0.724174       0.026316\n",
      "5         0.265569        0.024856        0.725100       0.028197\n",
      "6         0.234720        0.023637        0.730105       0.028144\n",
      "7         0.208329        0.027919        0.737677       0.031741\n",
      "8         0.178890        0.028945        0.743078       0.030101\n",
      "9         0.154440        0.019483        0.740954       0.032797\n"
     ]
    },
    {
     "name": "stderr",
     "output_type": "stream",
     "text": [
      "/home/fonttian/anaconda3/lib/python3.6/site-packages/ipykernel_launcher.py:3: RuntimeWarning: invalid value encountered in true_divide\n",
      "  This is separate from the ipykernel package so we can avoid doing imports until\n"
     ]
    }
   ],
   "source": [
    "res = xgb.cv(param, dtrain, num_round, nfold=5, fpreproc=fpreproc)\n",
    "print(res)"
   ]
  },
  {
   "cell_type": "code",
   "execution_count": null,
   "metadata": {},
   "outputs": [],
   "source": []
  }
 ],
 "metadata": {
  "hide_input": false,
  "kernelspec": {
   "display_name": "Python 3 (ipykernel)",
   "language": "python",
   "name": "python3"
  },
  "language_info": {
   "codemirror_mode": {
    "name": "ipython",
    "version": 3
   },
   "file_extension": ".py",
   "mimetype": "text/x-python",
   "name": "python",
   "nbconvert_exporter": "python",
   "pygments_lexer": "ipython3",
   "version": "3.8.12"
  },
  "toc": {
   "base_numbering": 1,
   "nav_menu": {},
   "number_sections": true,
   "sideBar": true,
   "skip_h1_title": false,
   "title_cell": "Table of Contents",
   "title_sidebar": "Contents",
   "toc_cell": false,
   "toc_position": {},
   "toc_section_display": true,
   "toc_window_display": false
  }
 },
 "nbformat": 4,
 "nbformat_minor": 2
}
