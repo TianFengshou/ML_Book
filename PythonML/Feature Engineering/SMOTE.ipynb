{
 "cells": [
  {
   "cell_type": "markdown",
   "metadata": {},
   "source": [
    "## 类别不平衡问题\n",
    "类别不平衡问题，顾名思义，即数据集中存在某一类样本，其数量远多于或远少于其他类样本，从而导致一些机器学习模型失效的问题。例如逻辑回归即不适合处理类别不平衡问题，例如逻辑回归在欺诈检测问题中，因为绝大多数样本都为正常样本，欺诈样本很少，逻辑回归算法会倾向于把大多数样本判定为正常样本，这样能达到很高的准确率，但是达不到很高的召回率。\n",
    "\n",
    " 类别不平衡问题在很多场景中存在，例如欺诈检测，风控识别，在这些样本中，黑样本（一般为存在问题的样本）的数量一般远少于白样本（正常样本）。\n",
    "\n",
    "上采样(过采样)和下采样(负采样）策略是解决类别不平衡问题的基本方法之一。上采样即增加少数类样本的数量，下采样即减少多数类样本以获取相对平衡的数据集。\n",
    "\n",
    "最简单的上采样方法可以直接将少数类样本复制几份后添加到样本集中，最简单的下采样则可以直接只取一定百分比的多数类样本作为训练集。\n",
    "\n",
    "SMOTE算法是用的比较多的一种上采样算法，其全称是Synthetic Minority Oversampling Technique即合成少数类过采样技术，它是基于随机过采样算法的一种改进方案。SMOTE算法的原理并不是太复杂，用python从头实现也只有几十行代码，但是python的imblearn包提供了更方便的接口，在需要快速实现代码的时候可直接调用imblearn。\n",
    "\n",
    "imblearn类别不平衡包提供了上采样和下采样策略中的多种接口，基本调用方式一致，主要介绍一下对应的SMOTE方法和下采样中的RandomUnderSampler方法。imblearn可使用pip install imblearn直接安装。\n",
    "       \n",
    "## 代码示例\n",
    "**生成类别不平衡数据**"
   ]
  },
  {
   "cell_type": "code",
   "execution_count": 1,
   "metadata": {
    "ExecuteTime": {
     "end_time": "2019-01-15T09:02:56.581202Z",
     "start_time": "2019-01-15T09:02:55.608757Z"
    }
   },
   "outputs": [],
   "source": [
    "# 使用sklearn的make_classification生成不平衡数据样本\n",
    "from sklearn.datasets import make_classification\n",
    "# 生成一组0和1比例为9比1的样本，X为特征，y为对应的标签\n",
    "X, y = make_classification(n_classes=2, class_sep=2,\n",
    "                           weights=[0.9, 0.1], n_informative=3, \n",
    "                           n_redundant=1, flip_y=0,\n",
    "                           n_features=20, n_clusters_per_class=1, \n",
    "                           n_samples=1000, random_state=10)\n"
   ]
  },
  {
   "cell_type": "markdown",
   "metadata": {},
   "source": [
    "**查看数据分布**"
   ]
  },
  {
   "cell_type": "code",
   "execution_count": 2,
   "metadata": {
    "ExecuteTime": {
     "end_time": "2019-01-15T09:03:41.143627Z",
     "start_time": "2019-01-15T09:03:41.137263Z"
    }
   },
   "outputs": [
    {
     "name": "stdout",
     "output_type": "stream",
     "text": [
      "Counter({0: 900, 1: 100})\n"
     ]
    }
   ],
   "source": [
    "from collections import Counter\n",
    "# 查看所生成的样本类别分布，0和1样本比例9比1，属于类别不平衡数据\n",
    "print(Counter(y))\n",
    "# Counter({0: 900, 1: 100})\n"
   ]
  },
  {
   "cell_type": "markdown",
   "metadata": {
    "ExecuteTime": {
     "end_time": "2019-01-15T09:03:56.504508Z",
     "start_time": "2019-01-15T09:03:56.496391Z"
    }
   },
   "source": [
    "**SMOTE算法核心语句**"
   ]
  },
  {
   "cell_type": "code",
   "execution_count": 4,
   "metadata": {
    "ExecuteTime": {
     "end_time": "2019-01-15T09:04:05.746876Z",
     "start_time": "2019-01-15T09:04:05.623328Z"
    }
   },
   "outputs": [],
   "source": [
    "# 使用imlbearn库中上采样方法中的SMOTE接口\n",
    "from imblearn.over_sampling import SMOTE\n",
    "# 定义SMOTE模型，random_state相当于随机数种子的作用\n",
    "smo = SMOTE(random_state=42)\n",
    "X_smo, y_smo = smo.fit_sample(X, y)"
   ]
  },
  {
   "cell_type": "markdown",
   "metadata": {},
   "source": [
    "**查看经过SMOTE之后的数据分布**"
   ]
  },
  {
   "cell_type": "code",
   "execution_count": 5,
   "metadata": {
    "ExecuteTime": {
     "end_time": "2019-01-15T09:04:23.547089Z",
     "start_time": "2019-01-15T09:04:23.540541Z"
    }
   },
   "outputs": [
    {
     "name": "stdout",
     "output_type": "stream",
     "text": [
      "Counter({0: 900, 1: 900})\n"
     ]
    }
   ],
   "source": [
    "print(Counter(y_smo))\n",
    "# Counter({0: 900, 1: 900})"
   ]
  },
  {
   "cell_type": "markdown",
   "metadata": {},
   "source": [
    "从上述代码中可以看出，SMOTE模型默认生成一比一的数据，如果想生成其他比例的数据，可以使用radio参数。不仅可以处理二分类问题，同样适用于多分类问题"
   ]
  },
  {
   "cell_type": "code",
   "execution_count": 6,
   "metadata": {
    "ExecuteTime": {
     "end_time": "2019-01-15T09:04:42.535830Z",
     "start_time": "2019-01-15T09:04:42.437255Z"
    }
   },
   "outputs": [
    {
     "name": "stdout",
     "output_type": "stream",
     "text": [
      "Counter({0: 900, 1: 900})\n"
     ]
    }
   ],
   "source": [
    "from imblearn.under_sampling import RandomUnderSampler\n",
    "# 同理，也可使用ratio来指定下采样的比例\n",
    "rus = RandomUnderSampler(ratio={0: 500 }, random_state=0)\n",
    "X_rus, y_rus = rus.fit_sample(X, y)\n",
    "print(Counter(y_smo))\n",
    "# Counter({0: 500, 1: 300})\n"
   ]
  },
  {
   "cell_type": "markdown",
   "metadata": {},
   "source": [
    "## [Python实现](https://blog.csdn.net/jiede1/article/details/70215477)"
   ]
  },
  {
   "cell_type": "code",
   "execution_count": 7,
   "metadata": {
    "ExecuteTime": {
     "end_time": "2019-01-15T09:19:16.632464Z",
     "start_time": "2019-01-15T09:19:16.572042Z"
    }
   },
   "outputs": [
    {
     "name": "stdout",
     "output_type": "stream",
     "text": [
      "neighbors NearestNeighbors(algorithm='auto', leaf_size=30, metric='minkowski',\n",
      "         metric_params=None, n_jobs=None, n_neighbors=5, p=2, radius=1.0)\n",
      "samples [1 2 3]\n",
      "nna [0 4 5 3 2]\n",
      "j 0\n",
      "1\n",
      "j 1\n",
      "2\n",
      "j 2\n",
      "3\n",
      "j 3\n",
      "4\n",
      "j 4\n",
      "5\n",
      "j 5\n",
      "6\n",
      "j 6\n",
      "7\n",
      "j 7\n",
      "8\n",
      "j 8\n",
      "9\n",
      "j 9\n",
      "10\n",
      "samples [4 5 6]\n",
      "nna [1 4 5 0 2]\n",
      "j 0\n",
      "11\n",
      "j 1\n",
      "12\n",
      "j 2\n",
      "13\n",
      "j 3\n",
      "14\n",
      "j 4\n",
      "15\n",
      "j 5\n",
      "16\n",
      "j 6\n",
      "17\n",
      "j 7\n",
      "18\n",
      "j 8\n",
      "19\n",
      "j 9\n",
      "20\n",
      "samples [2 3 1]\n",
      "nna [2 3 0 4 5]\n",
      "j 0\n",
      "21\n",
      "j 1\n",
      "22\n",
      "j 2\n",
      "23\n",
      "j 3\n",
      "24\n",
      "j 4\n",
      "25\n",
      "j 5\n",
      "26\n",
      "j 6\n",
      "27\n",
      "j 7\n",
      "28\n",
      "j 8\n",
      "29\n",
      "j 9\n",
      "30\n",
      "samples [2 1 2]\n",
      "nna [3 0 2 4 5]\n",
      "j 0\n",
      "31\n",
      "j 1\n",
      "32\n",
      "j 2\n",
      "33\n",
      "j 3\n",
      "34\n",
      "j 4\n",
      "35\n",
      "j 5\n",
      "36\n",
      "j 6\n",
      "37\n",
      "j 7\n",
      "38\n",
      "j 8\n",
      "39\n",
      "j 9\n",
      "40\n",
      "samples [2 3 4]\n",
      "nna [4 5 0 3 2]\n",
      "j 0\n",
      "41\n",
      "j 1\n",
      "42\n",
      "j 2\n",
      "43\n",
      "j 3\n",
      "44\n",
      "j 4\n",
      "45\n",
      "j 5\n",
      "46\n",
      "j 6\n",
      "47\n",
      "j 7\n",
      "48\n",
      "j 8\n",
      "49\n",
      "j 9\n",
      "50\n",
      "samples [2 3 4]\n",
      "nna [4 5 0 3 2]\n",
      "j 0\n",
      "51\n",
      "j 1\n",
      "52\n",
      "j 2\n",
      "53\n",
      "j 3\n",
      "54\n",
      "j 4\n",
      "55\n",
      "j 5\n",
      "56\n",
      "j 6\n",
      "57\n",
      "j 7\n",
      "58\n",
      "j 8\n",
      "59\n",
      "j 9\n",
      "60\n"
     ]
    },
    {
     "data": {
      "text/plain": [
       "array([[1.51536415, 2.51536415, 1.96927169],\n",
       "       [1.2444416 , 2.2444416 , 3.2444416 ],\n",
       "       [1.80853472, 2.80853472, 3.80853472],\n",
       "       [1.34279157, 2.34279157, 3.34279157],\n",
       "       [1.28405372, 1.71594628, 2.71594628],\n",
       "       [1.70555158, 2.70555158, 3.70555158],\n",
       "       [1.13646704, 2.13646704, 3.13646704],\n",
       "       [1.88706365, 2.88706365, 3.88706365],\n",
       "       [1.        , 2.        , 3.        ],\n",
       "       [1.        , 2.        , 3.        ],\n",
       "       [3.3977267 , 4.3977267 , 4.49431676],\n",
       "       [2.96741036, 3.96741036, 4.96741036],\n",
       "       [2.40442901, 3.40442901, 4.40442901],\n",
       "       [2.26162005, 3.26162005, 4.26162005],\n",
       "       [3.17815527, 4.17815527, 5.17815527],\n",
       "       [2.86386709, 3.86386709, 4.86386709],\n",
       "       [3.23401579, 4.23401579, 5.23401579],\n",
       "       [3.31403795, 4.31403795, 5.31403795],\n",
       "       [2.20625078, 3.20625078, 1.51562695],\n",
       "       [3.90268461, 4.90268461, 5.90268461],\n",
       "       [2.        , 3.        , 3.18793749],\n",
       "       [2.        , 3.        , 2.12935683],\n",
       "       [2.        , 3.        , 1.65340857],\n",
       "       [2.        , 3.        , 1.07047261],\n",
       "       [1.76872179, 2.76872179, 1.46255643],\n",
       "       [2.        , 3.        , 1.        ],\n",
       "       [2.        , 3.        , 2.41596341],\n",
       "       [2.        , 3.        , 1.44451221],\n",
       "       [2.        , 1.43792577, 1.78103712],\n",
       "       [2.        , 3.        , 2.21876788],\n",
       "       [2.        , 1.4115193 , 1.79424035],\n",
       "       [2.        , 2.22012733, 1.38993633],\n",
       "       [2.        , 2.31602832, 1.34198584],\n",
       "       [1.76745451, 1.23254549, 2.23254549],\n",
       "       [1.290484  , 1.709516  , 2.709516  ],\n",
       "       [2.        , 1.63681801, 2.63681801],\n",
       "       [2.        , 1.45253839, 2.45253839],\n",
       "       [2.        , 1.        , 2.        ],\n",
       "       [2.        , 1.79163008, 1.60418496],\n",
       "       [1.42197406, 1.57802594, 2.57802594],\n",
       "       [2.        , 3.        , 4.        ],\n",
       "       [2.        , 3.        , 4.        ],\n",
       "       [1.5344754 , 2.5344754 , 3.5344754 ],\n",
       "       [1.73932696, 2.73932696, 3.73932696],\n",
       "       [2.        , 3.        , 2.37740467],\n",
       "       [2.        , 3.        , 4.        ],\n",
       "       [2.        , 2.04164905, 3.04164905],\n",
       "       [2.        , 2.13337637, 3.13337637],\n",
       "       [1.10573139, 2.10573139, 3.10573139],\n",
       "       [2.        , 2.37986864, 3.37986864],\n",
       "       [2.        , 3.        , 4.        ],\n",
       "       [2.        , 3.        , 4.        ],\n",
       "       [2.        , 3.        , 4.        ],\n",
       "       [1.04373917, 2.04373917, 3.04373917],\n",
       "       [2.        , 3.        , 2.04136713],\n",
       "       [1.5826321 , 2.5826321 , 3.5826321 ],\n",
       "       [2.        , 2.45635584, 3.45635584],\n",
       "       [2.        , 3.        , 4.        ],\n",
       "       [2.        , 3.        , 4.        ],\n",
       "       [2.        , 1.41093735, 2.41093735]])"
      ]
     },
     "execution_count": 7,
     "metadata": {},
     "output_type": "execute_result"
    }
   ],
   "source": [
    "#SMOTE算法及其python实现\n",
    "import random\n",
    "from sklearn.neighbors import NearestNeighbors\n",
    "import numpy as np\n",
    "class Smote:\n",
    "    def __init__(self,samples,N=10,k=5):\n",
    "        self.n_samples,self.n_attrs=samples.shape\n",
    "        self.N=N\n",
    "        self.k=k\n",
    "        self.samples=samples\n",
    "        self.newindex=0\n",
    "       # self.synthetic=np.zeros((self.n_samples*N,self.n_attrs))\n",
    "\n",
    "    def over_sampling(self):\n",
    "        N=int(self.N/100)\n",
    "        self.synthetic = np.zeros((self.n_samples * N, self.n_attrs))\n",
    "        neighbors=NearestNeighbors(n_neighbors=self.k).fit(self.samples)  \n",
    "        print ('neighbors',neighbors)\n",
    "        for i in range(len(self.samples)):\n",
    "            print('samples',self.samples[i])\n",
    "            nnarray=neighbors.kneighbors(self.samples[i].reshape((1,-1)),return_distance=False)[0]  #Finds the K-neighbors of a point.\n",
    "            print ('nna',nnarray)\n",
    "            self._populate(N,i,nnarray)\n",
    "        return self.synthetic\n",
    "\n",
    "\n",
    "    # for each minority class sample i ,choose N of the k nearest neighbors and generate N synthetic samples.\n",
    "    def _populate(self,N,i,nnarray):\n",
    "        for j in range(N):\n",
    "            print('j',j)\n",
    "            nn=random.randint(0,self.k-1)  #包括end\n",
    "            dif=self.samples[nnarray[nn]]-self.samples[i]\n",
    "            gap=random.random()\n",
    "            self.synthetic[self.newindex]=self.samples[i]+gap*dif\n",
    "            self.newindex+=1\n",
    "            print(self.newindex)\n",
    "a=np.array([[1,2,3],[4,5,6],[2,3,1],[2,1,2],[2,3,4],[2,3,4]])\n",
    "s=Smote(a,N=1000)\n",
    "s.over_sampling()"
   ]
  },
  {
   "cell_type": "markdown",
   "metadata": {},
   "source": []
  },
  {
   "cell_type": "markdown",
   "metadata": {},
   "source": []
  },
  {
   "cell_type": "markdown",
   "metadata": {},
   "source": []
  },
  {
   "cell_type": "markdown",
   "metadata": {},
   "source": []
  },
  {
   "cell_type": "markdown",
   "metadata": {},
   "source": []
  },
  {
   "cell_type": "markdown",
   "metadata": {},
   "source": [
    "## 参考文章\n",
    " 1. [类别不平衡问题之SMOTE算法（Python imblearn极简实现）](https://blog.csdn.net/nlpuser/article/details/81265614)\n",
    " 2. [SMOTE算法(人工合成数据)](https://blog.csdn.net/jiede1/article/details/70215477)"
   ]
  },
  {
   "cell_type": "code",
   "execution_count": null,
   "metadata": {},
   "outputs": [],
   "source": []
  }
 ],
 "metadata": {
  "hide_input": false,
  "kernelspec": {
   "display_name": "Python 3",
   "language": "python",
   "name": "python3"
  },
  "language_info": {
   "codemirror_mode": {
    "name": "ipython",
    "version": 3
   },
   "file_extension": ".py",
   "mimetype": "text/x-python",
   "name": "python",
   "nbconvert_exporter": "python",
   "pygments_lexer": "ipython3",
   "version": "3.8.5"
  },
  "latex_envs": {
   "LaTeX_envs_menu_present": true,
   "autoclose": false,
   "autocomplete": true,
   "bibliofile": "biblio.bib",
   "cite_by": "apalike",
   "current_citInitial": 1,
   "eqLabelWithNumbers": true,
   "eqNumInitial": 1,
   "hotkeys": {
    "equation": "Ctrl-E",
    "itemize": "Ctrl-I"
   },
   "labels_anchors": false,
   "latex_user_defs": false,
   "report_style_numbering": false,
   "user_envs_cfg": false
  },
  "toc": {
   "base_numbering": 1,
   "nav_menu": {},
   "number_sections": true,
   "sideBar": true,
   "skip_h1_title": false,
   "title_cell": "Table of Contents",
   "title_sidebar": "Contents",
   "toc_cell": false,
   "toc_position": {},
   "toc_section_display": true,
   "toc_window_display": false
  },
  "varInspector": {
   "cols": {
    "lenName": 16,
    "lenType": 16,
    "lenVar": 40
   },
   "kernels_config": {
    "python": {
     "delete_cmd_postfix": "",
     "delete_cmd_prefix": "del ",
     "library": "var_list.py",
     "varRefreshCmd": "print(var_dic_list())"
    },
    "r": {
     "delete_cmd_postfix": ") ",
     "delete_cmd_prefix": "rm(",
     "library": "var_list.r",
     "varRefreshCmd": "cat(var_dic_list()) "
    }
   },
   "types_to_exclude": [
    "module",
    "function",
    "builtin_function_or_method",
    "instance",
    "_Feature"
   ],
   "window_display": false
  }
 },
 "nbformat": 4,
 "nbformat_minor": 2
}
