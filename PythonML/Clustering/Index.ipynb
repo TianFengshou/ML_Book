{
 "cells": [
  {
   "cell_type": "markdown",
   "metadata": {},
   "source": [
    "## 聚类\n",
    "### Kmeans\n",
    "\n",
    "**参数:**\n",
    " - n_clusters：int，默认为8;生成的簇数以及生成的质心数\n",
    " - init:{\"k-means++\", \"random\", ndarray, callable}, 默认为\"k-means++\";'k-means++'：以一种聪明的方式为k-mean聚类选择初始聚类中心，以加快收敛速度。有关更多详细信息，请参见https://scikit-learn.org/stable/modules/generated/sklearn.cluster.KMeans.html#sklearn.cluster.KMeans。 “随机(random)”：n_clusters从初始质心的数据中随机选择观察（行）。如果传递了ndarray，则其形状应为（n_clusters，n_features），并给出初始中心。如果传递了callable，则应使用参数X，n_clusters和随机状态并返回初始化。\n",
    " - n_init:int,默认为10;k均值算法将在不同质心种子下运行的次数。就惯性而言，最终结果将是n_init个连续运行的最佳输出。\n",
    " - max_iter:int,默认为300;单次运行的k均值算法的最大迭代次数。\n",
    " - tol:float,默认为1e-4;关于Frobenius范数的相对容差，该范数表示两个连续迭代的聚类中心的差异，以声明收敛。不建议设置该值，tol=0因为可能会由于舍入错误而无法声明收敛。改用一个非常小的数字。\n",
    " - precompute_distances:{\"auto\", True, False}, 默认为\"auto\";预计算距离（更快，但需要更多内存）。0.22版本已经弃用,0.25版本将会删除.\n",
    " - verbose:int, 默认为0;运行时中间结果输出打印的详细程序\n",
    " - random_stateint, RandomState instance, 默认为None;确定质心初始化的随机数生成。使用整数使随机性具有确定性。\n",
    " - copy_x:bool, 默认为True;当预先计算距离时，从数值上更精确地确定数据的中心。如果copy_x为True（默认值），则原始数据不会被修改。如果为False，则会修改原始数据，并在函数返回之前放回原始数据，但是可以通过减去然后加上数据均值来引入小的数值差异。请注意，如果原始数据不是C-contiguous，则即使copy_x为False，也会进行复制。如果原始数据稀疏，但不是CSR格式，则即使copy_x为False，也会进行复制。\n",
    " - n_jobs:int, 默认为None\n",
    " - algorithm:{“auto\", “full\", “elkan\"}, 默认为\"auto\";使用K均值算法。经典的EM风格算法是“完整”的。通过使用三角形不等式，“ elkan”变异对于定义良好的聚类的数据更有效。但是，由于分配了额外的形状数组（n_samples，n_clusters），因此需要更多的内存。目前，“ auto”（保持向后兼容性）选择“ elkan”，但为了更好的启发式，将来可能会更改。\n",
    " \n",
    "### MiniBatchKMeans\n",
    "对于>= 10k的数据,速度可能更快"
   ]
  },
  {
   "cell_type": "code",
   "execution_count": 1,
   "metadata": {},
   "outputs": [
    {
     "data": {
      "text/plain": [
       "array([1, 1, 1, 0, 0, 0], dtype=int32)"
      ]
     },
     "execution_count": 1,
     "metadata": {},
     "output_type": "execute_result"
    }
   ],
   "source": [
    "from sklearn.cluster import KMeans\n",
    "import numpy as np\n",
    "X = np.array([[1, 2], [1, 4], [1, 0],\n",
    "              [10, 2], [10, 4], [10, 0]])\n",
    "kmeans = KMeans(n_clusters=2, random_state=0).fit(X)\n",
    "kmeans.labels_"
   ]
  },
  {
   "cell_type": "code",
   "execution_count": 2,
   "metadata": {},
   "outputs": [
    {
     "data": {
      "text/plain": [
       "array([1, 0], dtype=int32)"
      ]
     },
     "execution_count": 2,
     "metadata": {},
     "output_type": "execute_result"
    }
   ],
   "source": [
    "kmeans.predict([[0, 0], [12, 3]])"
   ]
  },
  {
   "cell_type": "code",
   "execution_count": 3,
   "metadata": {},
   "outputs": [
    {
     "data": {
      "text/plain": [
       "array([[10.,  2.],\n",
       "       [ 1.,  2.]])"
      ]
     },
     "execution_count": 3,
     "metadata": {},
     "output_type": "execute_result"
    }
   ],
   "source": [
    "kmeans.cluster_centers_"
   ]
  },
  {
   "cell_type": "markdown",
   "metadata": {},
   "source": [
    "### AffinityPropagation\n",
    "\n",
    "Affinity Propagation通过在成对的样本之间发送消息直至收敛来创建聚类。然后使用少量示例描述数据集，这些示例被确定为最能代表其他样本的示例。配对之间发送的消息表示一个样本适合作为另一个样本的样本，它会响应于其他样本对的值而更新。此更新迭代进行，直到收敛为止，这时选择了最终的样例，因此给出了最终的聚类。\n",
    "\n",
    "**参数:**\n",
    " - damping:float,默认为0.5;阻尼系数（介于0.5和1之间）是相对于输入值（加权1-阻尼）保持当前值的程度。为了避免在更新这些值（消息）时出现数值振荡。\n",
    " - max_iter:int,默认为200;最大迭代次数\n",
    " - convergence_iter:int,默认为15;停止收敛的估计簇数不变的迭代数。\n",
    " - copy:bool,默认为true;复制输入数据。\n",
    " - preference:array-like of shape (n_samples,) or float, 默认为None;每个点的偏好-具有较大偏好值的点更有可能被选为示例。示例数量（即集群数量）受输入首选项值的影响。如果首选项未作为参数传递，则将其设置为输入相似度的中位数。\n",
    " - affinity:{‘euclidean’, ‘precomputed’}, default=’euclidean’;使用哪个亲和力策略。目前支持“预先计算(precomputed)”和 euclidean。“欧式(euclidean)”使用点之间的负平方欧式距离。\n",
    " - verbose:bool, default=False;运行过程中输出打印的详细程度\n",
    " - random_state:int or np.random.RandomStateInstance, default: 0;随机数种子;"
   ]
  },
  {
   "cell_type": "code",
   "execution_count": 6,
   "metadata": {},
   "outputs": [
    {
     "data": {
      "text/plain": [
       "AffinityPropagation(random_state=5)"
      ]
     },
     "execution_count": 6,
     "metadata": {},
     "output_type": "execute_result"
    }
   ],
   "source": [
    "from sklearn.cluster import AffinityPropagation\n",
    "import numpy as np\n",
    "X = np.array([[1, 2], [1, 4], [1, 0],\n",
    "              [4, 2], [4, 4], [4, 0]])\n",
    "\n",
    "clustering = AffinityPropagation(random_state=5).fit(X)\n",
    "clustering"
   ]
  },
  {
   "cell_type": "code",
   "execution_count": 8,
   "metadata": {},
   "outputs": [
    {
     "data": {
      "text/plain": [
       "array([0, 0, 0, 1, 1, 1])"
      ]
     },
     "execution_count": 8,
     "metadata": {},
     "output_type": "execute_result"
    }
   ],
   "source": [
    "clustering.labels_"
   ]
  },
  {
   "cell_type": "code",
   "execution_count": 9,
   "metadata": {},
   "outputs": [
    {
     "data": {
      "text/plain": [
       "array([0, 1])"
      ]
     },
     "execution_count": 9,
     "metadata": {},
     "output_type": "execute_result"
    }
   ],
   "source": [
    "clustering.predict([[0, 0], [4, 4]])"
   ]
  },
  {
   "cell_type": "code",
   "execution_count": 10,
   "metadata": {},
   "outputs": [
    {
     "data": {
      "text/plain": [
       "array([[1, 2],\n",
       "       [4, 2]])"
      ]
     },
     "execution_count": 10,
     "metadata": {},
     "output_type": "execute_result"
    }
   ],
   "source": [
    "clustering.cluster_centers_"
   ]
  },
  {
   "cell_type": "markdown",
   "metadata": {},
   "source": [
    "### MeanShift\n",
    "MeanShift聚类旨在发现平滑密度的样本中的斑点。 这是基于质心的算法，它通过将质心的候选更新为给定区域内点的均值来工作。 然后，在后处理阶段对这些候选对象进行过滤，以消除几乎重复的部分，从而形成最终的形心集。\n",
    "**参数:**\n",
    " - bandwidth:float,默认为None;RBF内核中使用的带宽(Bandwidth)。\n",
    " - seeds:array, shape=[n_samples, n_features], optional;用于初始化内核的种子。如果未设置，则通过clustering.get_bin_seeds计算种子，并使用带宽作为网格大小以及其他参数的默认值。\n",
    " - bin_seeding:boolean, 可选,默认为False;如果为true，则初始内核位置不是所有点的位置，而是点的离散版本的位置，在此点上，点被合并到其粗糙度与带宽相对应的网格中。将此选项设置为True可以加快算法的速度，因为初始化的种子较少。默认值：False如果Seeds参数不是None则被忽略。\n",
    " - min_bin_freq:int, optional;为了加速算法，仅接受那些至少具有min_bin_freq点的容器作为种子。如果未定义，则设置为1。\n",
    " - cluster_all:boolean, default True;如果为true，则所有点都将聚类，即使那些不在任何内核中的孤立数据(orphans)也是如此。orphans被分配到最近的内核。如果为假，则为orphans分配群集标签-1。\n",
    " - n_jobs:int or None, optional (default=None);用于计算的线程数,-1表示全部,可能会对图像编辑器的监控线程造成影响\n",
    " - max_iter:int, default=300;如果尚未收敛，则在群集操作终止之前（针对该种子点(seed point)）每个种子点(seed point)的最大迭代次数。"
   ]
  },
  {
   "cell_type": "code",
   "execution_count": 11,
   "metadata": {},
   "outputs": [
    {
     "data": {
      "text/plain": [
       "array([1, 1, 1, 0, 0, 0])"
      ]
     },
     "execution_count": 11,
     "metadata": {},
     "output_type": "execute_result"
    }
   ],
   "source": [
    "from sklearn.cluster import MeanShift\n",
    "import numpy as np\n",
    "X = np.array([[1, 1], [2, 1], [1, 0],\n",
    "              [4, 7], [3, 5], [3, 6]])\n",
    "clustering = MeanShift(bandwidth=2).fit(X)\n",
    "clustering.labels_"
   ]
  },
  {
   "cell_type": "code",
   "execution_count": 12,
   "metadata": {},
   "outputs": [
    {
     "data": {
      "text/plain": [
       "array([1, 0])"
      ]
     },
     "execution_count": 12,
     "metadata": {},
     "output_type": "execute_result"
    }
   ],
   "source": [
    "clustering.predict([[0, 0], [5, 5]])"
   ]
  },
  {
   "cell_type": "code",
   "execution_count": 13,
   "metadata": {},
   "outputs": [
    {
     "data": {
      "text/plain": [
       "MeanShift(bandwidth=2)"
      ]
     },
     "execution_count": 13,
     "metadata": {},
     "output_type": "execute_result"
    }
   ],
   "source": [
    "clustering"
   ]
  },
  {
   "cell_type": "markdown",
   "metadata": {},
   "source": [
    "### SpectralClustering\n",
    "\n",
    "SpectralClustering对样本之间的亲和度矩阵进行低维嵌入，然后对低维空间中特征向量的分量进行聚类，例如通过KMeans进行聚类。 如果亲和矩阵稀疏并且amg求解器用于特征值问题，这在计算效率上特别有效（请注意，amg求解器要求安装pyamg模块。）\n",
    "\n",
    "**参数:**\n",
    " - n_clusters:integer，默认为8;投影子空间的尺寸。\n",
    " - eigen_solver:{None, ‘arpack’, ‘lobpcg’, or ‘amg’}:使用特征值分解策略,默认为None。AMG需要安装pyamg。在非常大且稀疏的问题上，它可能会更快，但也可能导致不稳定。\n",
    " - n_components:integer,默认为None等于n_clusters;用于频谱嵌入的本征向量数\n",
    " - random_state:int,随机数种子,默认为None;\n",
    " - n_init:int,默认为10;k均值算法将在不同质心种子下运行的次数。就一般而言，最终结果将是n_init个连续运行的最佳输出。\n",
    " - gamma:float,默认为1;rbf，poly，Sigmoid，laplacian和chi2内核的内核系数。忽略了affinity='nearest_neighbors'。\n",
    " - affinity:string或者其他回调函数,默认为'rbf;该参数用于确定如何构造亲和力矩阵。'nearest_neighbors'：通过计算最近邻居的图来构造亲和矩阵。'rbf'：使用径向基函数（RBF）内核构造亲和矩阵。'precompulated'：解释X为预计算的亲和度矩阵。'precomputed_nearest_neighbors'：解释X为预先计算的最近邻居的稀疏图，并通过选择n_neighbors最近邻居来构造亲和力矩阵。所支持的内核之一 pairwise_kernels。仅应使用产生相似性得分（随相似性增加的非负值）的内核。聚类算法不检查此属性。\n",
    " - neighbors:int,默认为10;使用最近邻居方法构造亲和力矩阵时要使用的邻居数量。忽略了affinity='rbf'。\n",
    " - eigen_tol:float,默认为0;拉普拉斯矩阵特征分解的停止准则eigen_solver='arpack'。\n",
    " - assign_labels:{'kmeans','discretize'},默认为'kmeans';用于在嵌入空间中分配标签的策略。拉普拉斯嵌入后，有两种分配标签的方法。可以应用k均值，它是一种流行的选择。但是它也可能对初始化敏感。离散化是另一种对随机初始化不太敏感的方法\n",
    " - discretize:float.默认为3;多项式内核的度。被其他内核忽略。\n",
    " - coef0;float,默认为1;多项式和S形核的系数为零。被其他内核忽略。\n",
    " - kernel_params:dictionary of string to any;作为可调用对象传递的内核的参数（关键字参数）和值。被其他内核忽略。\n",
    " - n_jobs:int or None,默认为None;用于计算的线程数,-1表示全部,可能会对图像编辑器的监控线程造成影响."
   ]
  },
  {
   "cell_type": "code",
   "execution_count": 14,
   "metadata": {},
   "outputs": [
    {
     "data": {
      "text/plain": [
       "array([1, 1, 1, 0, 0, 0])"
      ]
     },
     "execution_count": 14,
     "metadata": {},
     "output_type": "execute_result"
    }
   ],
   "source": [
    "from sklearn.cluster import SpectralClustering\n",
    "import numpy as np\n",
    "X = np.array([[1, 1], [2, 1], [1, 0],\n",
    "              [4, 7], [3, 5], [3, 6]])\n",
    "clustering = SpectralClustering(n_clusters=2,\n",
    "        assign_labels=\"discretize\",\n",
    "        random_state=0).fit(X)\n",
    "clustering.labels_"
   ]
  },
  {
   "cell_type": "code",
   "execution_count": 15,
   "metadata": {},
   "outputs": [
    {
     "data": {
      "text/plain": [
       "SpectralClustering(assign_labels='discretize', n_clusters=2, random_state=0)"
      ]
     },
     "execution_count": 15,
     "metadata": {},
     "output_type": "execute_result"
    }
   ],
   "source": [
    "clustering"
   ]
  },
  {
   "cell_type": "markdown",
   "metadata": {},
   "source": [
    "## AgglomerativeClustering\n",
    "\n",
    "**参数:**\n",
    " - n_clusters:int默认为2;要查找的集群数\n",
    " - affinity:str or callable, default=’euclidean’;用于计算链接的度量。可以是“欧几里得”，“ l1”，“ l2”，“曼哈顿”，“余弦”或“预先计算”(“euclidean”, “l1”, “l2”, “manhattan”, “cosine”, or “precomputed”)。如果链接为“ward”，则仅接受“欧几里得”。如果是“预先计算”的，则需要距离矩阵（而不是相似度矩阵）作为拟合方法的输入。\n",
    " - connectivity:array-like or callable, default=None;连接矩阵。 为每个样本定义遵循给定数据结构的相邻样本。 这可以是连通性矩阵本身，也可以是将数据转换为连通性矩阵（例如从kneighbors_graph派生）的可调用对象。 默认值为无，即分层聚类算法是非结构化的。\n",
    " - memory:用于缓存树计算的输出。默认情况下，不进行缓存。如果给出了字符串，则它是缓存目录的路径。\n",
    " - compute_full_tree:‘auto’ or bool, default=’auto’;在n_clusters处停止树的构建。 如果簇数与样本数相比不小的话，这对于减少计算时间很有用。 仅当指定连接矩阵时，此选项才有用。 还要注意的是，当改变集群的数量并使用缓存时，计算完整树可能是有利的。 如果distance_threshold不为None，则必须为True。 默认情况下，compute_full_tree为“ auto”，当distance_threshold不为None或n_clusters小于100或0.02 * n_samples的最大值时，等效于True。 否则，“自动”等效于False。\n",
    " - linkage:{“ward”, “complete”, “average”, “single”}, default=”ward”;使用哪个链接标准。链接标准确定要在观察组之间使用的距离。该算法将合并最小化此标准的成对集群。\"ward\"将要合并的群集的方差最小化。“平均值(average)”使用两组的每个观测值的距离平均值。完全链接或最大链接(complete)使用两组的所有观测值之间的最大距离。single使用两组中所有观测值之间的最小距离\n",
    " - distance_threshold:float, default=None;链接距离阈值，超过该距离时，群集将不会合并。如果不是None，n_clusters必须是None并且 compute_full_tree必须是True。"
   ]
  },
  {
   "cell_type": "code",
   "execution_count": 16,
   "metadata": {},
   "outputs": [
    {
     "data": {
      "text/plain": [
       "AgglomerativeClustering()"
      ]
     },
     "execution_count": 16,
     "metadata": {},
     "output_type": "execute_result"
    }
   ],
   "source": [
    "from sklearn.cluster import AgglomerativeClustering\n",
    "import numpy as np\n",
    "X = np.array([[1, 2], [1, 4], [1, 0],\n",
    "              [4, 2], [4, 4], [4, 0]])\n",
    "clustering = AgglomerativeClustering().fit(X)\n",
    "clustering"
   ]
  },
  {
   "cell_type": "code",
   "execution_count": 17,
   "metadata": {},
   "outputs": [
    {
     "data": {
      "text/plain": [
       "array([1, 1, 1, 0, 0, 0])"
      ]
     },
     "execution_count": 17,
     "metadata": {},
     "output_type": "execute_result"
    }
   ],
   "source": [
    "clustering.labels_"
   ]
  },
  {
   "cell_type": "markdown",
   "metadata": {},
   "source": [
    "### DBSCAN\n",
    "从向量数组或距离矩阵执行DBSCAN聚类。DBSCAN-带有噪声的应用程序的基于密度的空间聚类。查找高密度的核心样本并从中扩展聚类。适用于包含相似密度簇的数据。\n",
    "\n",
    "**参数:**\n",
    " - eps:float,默认为0.5;一个样本的两个样本之间的最大距离应视为另一个样本的邻域。这不是群集中点的距离的最大界限。这是为数据集和距离函数适当选择的最重要的DBSCAN参数。\n",
    " - min_samples:int,默认为5;将某个点视为核心点的邻域中的样本数量（或总重量）。包括点本身。\n",
    " - metric:string,或者其他可调用函数,默认为\"euclidean\":计算要素阵列中实例之间的距离时使用的度量。如果metric是字符串或可调用，则它必须是sklearn.metrics.pairwise_distances中metric参数允许的选项之一,具体请参考https://scikit-learn.org/stable/modules/generated/sklearn.metrics.pairwise_distances.html#sklearn.metrics.pairwise_distances。 如果度量是“预先计算的”，则将X假定为距离矩阵，并且必须为平方。X可能是一个词汇表，在这种情况下，只有“非零”元素可以被视为DBSCAN的邻居。\n",
    " - algorithm:{‘auto’, ‘ball_tree’, ‘kd_tree’, ‘brute’}, default=’auto’;NearestNeighbors模块将使用的算法来计算逐点距离并查找最近的邻居。有关详细信息，请参见NearestNeighbors模块文档。\n",
    " - leaf_size:int, default=30;叶大小传递给BallTree或cKDTree。这会影响构造和查询的速度，以及存储树所需的内存。最佳值取决于问题的性质。\n",
    " - p:float, default=None:Minkowski度量标准的功效，用于计算点之间的距离。\n",
    " - n_jobs:int, default=None;用于计算的线程数,-1表示全部,可能会对图像编辑器的监控线程造成影响."
   ]
  },
  {
   "cell_type": "code",
   "execution_count": 18,
   "metadata": {},
   "outputs": [
    {
     "data": {
      "text/plain": [
       "array([ 0,  0,  0,  1,  1, -1])"
      ]
     },
     "execution_count": 18,
     "metadata": {},
     "output_type": "execute_result"
    }
   ],
   "source": [
    "from sklearn.cluster import DBSCAN\n",
    "import numpy as np\n",
    "X = np.array([[1, 2], [2, 2], [2, 3],\n",
    "              [8, 7], [8, 8], [25, 80]])\n",
    "clustering = DBSCAN(eps=3, min_samples=2).fit(X)\n",
    "clustering.labels_"
   ]
  },
  {
   "cell_type": "code",
   "execution_count": 19,
   "metadata": {},
   "outputs": [
    {
     "data": {
      "text/plain": [
       "DBSCAN(eps=3, min_samples=2)"
      ]
     },
     "execution_count": 19,
     "metadata": {},
     "output_type": "execute_result"
    }
   ],
   "source": [
    "clustering"
   ]
  },
  {
   "cell_type": "markdown",
   "metadata": {},
   "source": [
    "### OPTICS\n",
    "OPTICS算法与DBSCAN算法具有许多相似之处，可以被认为是DBSCAN的概括，它可以将eps要求从单个值放宽到一个值范围。 DBSCAN和OPTICS之间的主要区别在于，OPTICS算法构建了可及性图，该图为每个样本分配了可及性距离和群集ordering__属性中的一个点。 在拟合模型时会分配这两个属性，并用于确定集群成员。 如果OPTICS在max_eps的默认值为inf的情况下运行，则可以使用cluster_optics_dbscan方法在线性时间内针对任何给定的eps值重复执行DBSCAN样式簇提取。 将max_eps设置为较低的值将缩短运行时间，可以将其视为从每个点开始寻找其他可能的可到达点的最大邻域半径。\n",
    "\n",
    "**参数:**\n",
    " - min_samples:int> 1或在0和1之间浮动（默认值= 5）;将某个点视为核心点的邻域中的样本数。而且，陡峭的上下区域不能再有超过min_samples数量的连续的非陡峭点。表示为绝对数量或样本数量的分数（四舍五入至少为2）。\n",
    " - max_eps: float，可选（默认值= np.inf）;一个样本的两个样本之间的最大距离应视为另一个样本的邻域。默认值np.inf将标识所有规模的集群;减少max_eps将缩短运行时间。\n",
    " - metric:str 或其他回调函数,默认为’minkowski’;用于距离计算的指标。可以使用scikit-learn或scipy.spatial.distance中的任何度量。来自scikit-learn：['cityblock'，'cosine'，'euclidean'，'l1'，'l2'，'manhattan'],来自scipy.spatial.distance：['braycurtis'，'canberra'，'chebyshev'，'correlation'，'dice，'hamming'，'jaccard'，'kulsinski'，'mahalanobis'，'minkowski'，'rogerstanimoto '，'russellrao'，'seuclidean'，'sokalmichener'，'sokalsneath'，'sqeuclidean'，'yule']\n",
    " - p:int,optional,默认为2;来自的Minkowski度量的参数 sklearn.metrics.pairwise_distances。当p = 1时，这等效于对p = 2使用manhattan_distance（l1）和euclidean_distance（l2）。对于任意p，使用minkowski_distance（l_p）。\n",
    " - metric_params:dict,默认为None;度量功能的其他关键字参数。\n",
    " - cluster_method:字符串.默认为'xi';用于使用计算的可达性和排序来提取群集的提取方法。可能的值为“ xi”和“ dbscan”。\n",
    " - eps:float,默认为None;一个样本的两个样本之间的最大距离应视为另一个样本的邻域。默认情况下，它采用与max_eps相同的值。仅在cluster_method='dbscan'时使用。\n",
    " - xi:浮点数,位于0-1之间,默认为0.5;确定构成群集边界的可及性图上的最小陡度。仅在cluster_method=‘xi’使用。\n",
    " - predecessor_correction:bool,默认为True;\n",
    " - min_cluster_size:int;OPTICS群集中的最小样本数，表示为绝对数或样本数的分数（四舍五入至少为2）。如果None为，则min_samples使用的值。仅在cluster_method='xi'时使用。\n",
    " - algorithm:{‘auto’, ‘ball_tree’, ‘kd_tree’, ‘brute’}, optional;用于计算最近邻居的算法：'ball_tree'将使用 BallTree;'kd_tree'将使用 KDTree;'brute'将使用暴力搜索;“自动”将尝试根据传递给fit方法的值来决定最合适的算法。（默认）\n",
    " - leaf_size:int, optional (default=30);叶大小传递到BallTree或KDTree。这会影响构造和查询的速度，以及存储树所需的内存。最佳值取决于问题的性质。\n",
    " - n_jobs:int or None, optional (default=None):default=None;用于计算的线程数,-1表示全部,可能会对图像编辑器的监控线程造成影响."
   ]
  },
  {
   "cell_type": "code",
   "execution_count": 20,
   "metadata": {},
   "outputs": [
    {
     "data": {
      "text/plain": [
       "array([0, 0, 0, 1, 1, 1])"
      ]
     },
     "execution_count": 20,
     "metadata": {},
     "output_type": "execute_result"
    }
   ],
   "source": [
    "from sklearn.cluster import OPTICS\n",
    "import numpy as np\n",
    "X = np.array([[1, 2], [2, 5], [3, 6],\n",
    "              [8, 7], [8, 8], [7, 3]])\n",
    "clustering = OPTICS(min_samples=2).fit(X)\n",
    "clustering.labels_\n"
   ]
  },
  {
   "cell_type": "markdown",
   "metadata": {},
   "source": [
    "### Birch\n",
    "**参数：**\n",
    " - threshold:float,默认为5;通过合并新样本和最接近的子集群而获得的子集群的半径应小于阈值。否则，将启动一个新的子集群。将此值设置为非常低会促进分裂，反之亦然。\n",
    " - branching_factor:int,默认为50;每个节点中CF子集群的最大数量。如果输入新样本，使得子集群的数量超过branching_factor，则该节点将被分为两个节点，每个子集群都将重新分配。删除了该节点的父子群集，并添加了两个新的子群集作为2个拆分节点的父节点。\n",
    " - n_clusters:int,默认为3;最后的聚类步骤后的聚簇数，该步骤将叶子中的亚簇视为新样本。None:不执行最后的聚类步骤，并且按原样返回子集群。sklearn.cluster 估计器：如果提供了模型，则该模型适合将子簇视为新样本，并且初始数据映射到最接近的子簇的标签。int：模型拟合是AgglomerativeClustering与 n_clusters设定为等于为int。\n",
    " - compute_labels:bool,默认为True;是否为每个拟合计算标签。\n",
    " - copy:bool,默认为True;是否复制给定数据。如果设置为False，则初始数据将被覆盖。"
   ]
  },
  {
   "cell_type": "code",
   "execution_count": 21,
   "metadata": {},
   "outputs": [
    {
     "data": {
      "text/plain": [
       "Birch(n_clusters=None)"
      ]
     },
     "execution_count": 21,
     "metadata": {},
     "output_type": "execute_result"
    }
   ],
   "source": [
    "from sklearn.cluster import Birch\n",
    "X = [[0, 1], [0.3, 1], [-0.3, 1], [0, -1], [0.3, -1], [-0.3, -1]]\n",
    "brc = Birch(n_clusters=None)\n",
    "brc.fit(X)"
   ]
  },
  {
   "cell_type": "code",
   "execution_count": 22,
   "metadata": {},
   "outputs": [
    {
     "data": {
      "text/plain": [
       "array([0, 0, 0, 1, 1, 1])"
      ]
     },
     "execution_count": 22,
     "metadata": {},
     "output_type": "execute_result"
    }
   ],
   "source": [
    "brc.predict(X)"
   ]
  },
  {
   "cell_type": "code",
   "execution_count": null,
   "metadata": {},
   "outputs": [],
   "source": []
  }
 ],
 "metadata": {
  "kernelspec": {
   "display_name": "Python 3",
   "language": "python",
   "name": "python3"
  },
  "language_info": {
   "codemirror_mode": {
    "name": "ipython",
    "version": 3
   },
   "file_extension": ".py",
   "mimetype": "text/x-python",
   "name": "python",
   "nbconvert_exporter": "python",
   "pygments_lexer": "ipython3",
   "version": "3.8.5"
  }
 },
 "nbformat": 4,
 "nbformat_minor": 4
}
