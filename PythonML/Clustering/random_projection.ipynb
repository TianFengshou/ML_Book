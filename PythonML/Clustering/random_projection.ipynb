{
 "cells": [
  {
   "cell_type": "markdown",
   "metadata": {},
   "source": [
    "## 随机投影\n",
    "\n",
    "该sklearn.random_projection模块实现了一种简单且计算高效的方法，通过以可控制的精度（作为附加方差）来交换数据，以缩短处理时间和减小模型尺寸，从而降低了数据的维数。该模块实现两种类型的非结构化随机矩阵： 高斯随机矩阵和 稀疏随机矩阵。\n",
    "\n",
    "控制随机投影矩阵的尺寸和分布，以保留数据集的任何两个样本之间的成对距离。因此，随机投影是基于距离的方法的合适的近似技术。\n",
    "\n",
    "### GaussianRandomProjection\n",
    "该算法通过高斯随机投影降低维数\n",
    "\n",
    "**参数:**\n",
    " - n_components:int或'auto'，可选（默认='auto'）;目标投影空间的尺寸。n_components可以根据数据集中的样本数和Johnson-Lindenstrauss引理给出的边界自动调整。在那种情况下，嵌入的质量由eps参数控制。应当指出，Johnson-Lindenstrauss引理可以对所需的组件数进行非常保守的估计，因为它无需对数据集的结构进行假设。\n",
    " - eps:严格为浮点数(default=0.1);当n_components设置为'auto'时，根据Johnson-Lindenstrauss引理控制嵌入质量的参数。较小的值导致在目标投影空间中更好的嵌入和更多的尺寸（n_components）。\n",
    " - random_state:int，RandomState实例或无，可选（默认值：None）;控制用于在拟合时间生成投影矩阵的伪随机数生成器,也就是随机数种子。"
   ]
  },
  {
   "cell_type": "code",
   "execution_count": 1,
   "metadata": {},
   "outputs": [
    {
     "data": {
      "text/plain": [
       "(100, 3947)"
      ]
     },
     "execution_count": 1,
     "metadata": {},
     "output_type": "execute_result"
    }
   ],
   "source": [
    "import numpy as np\n",
    "from sklearn.random_projection import GaussianRandomProjection\n",
    "rng = np.random.RandomState(42)\n",
    "X = rng.rand(100, 10000)\n",
    "transformer = GaussianRandomProjection(random_state=rng)\n",
    "X_new = transformer.fit_transform(X)\n",
    "X_new.shape"
   ]
  },
  {
   "cell_type": "markdown",
   "metadata": {},
   "source": [
    "### SparseRandomProjection\n",
    "\n",
    "通过稀疏随机投影降低尺寸：稀疏随机矩阵是密集随机投影矩阵的替代，它可以保证相似的嵌入质量，同时具有更高的存储效率并可以更快地计算投影数据。\n",
    "\n",
    "**参数：**\n",
    " - n_components：int或'auto'，可选(默认='auto');目标投影空间的尺寸。n_components可以根据数据集中的样本数和Johnson-Lindenstrauss引理给出的边界自动调整。在那种情况下，嵌入的质量由eps参数控制。应当指出，Johnson-Lindenstrauss引理可以对所需的组件数进行非常保守的估计，因为它无需对数据集的结构进行假设。\n",
    " - density:float 范围为 [0, 1] (default=’auto’);随机投影矩阵中非零分量的比率。如果density ='auto'，则将其值设置为Ping Li等人建议的最小密度：1 / sqrt（n_features）。如果要重现Achlioptas，2001的结果，请使用density = 1 / 3.0。\n",
    "  - eps:严格为浮点数(default=0.1);当n_components设置为'auto'时，根据Johnson-Lindenstrauss引理控制嵌入质量的参数。较小的值导致在目标投影空间中更好的嵌入和更多的尺寸（n_components）。\n",
    "  - density_output:布尔值，可选（默认= False）;如果为True，则即使输入矩阵和随机投影矩阵都很稀疏，也要确保随机投影的输出是密集的numpy数组。实际上，如果组件数量少，则投影数据中零组件的数量将非常小，并且使用密集表示将提高CPU和内存的效率。如果为False，则在输入稀疏的情况下，投影数据将使用稀疏表示。\n",
    "  - random_state:int(默认为None);随机数种子。"
   ]
  },
  {
   "cell_type": "code",
   "execution_count": 2,
   "metadata": {},
   "outputs": [
    {
     "data": {
      "text/plain": [
       "(100, 3947)"
      ]
     },
     "execution_count": 2,
     "metadata": {},
     "output_type": "execute_result"
    }
   ],
   "source": [
    "import numpy as np\n",
    "from sklearn.random_projection import SparseRandomProjection\n",
    "rng = np.random.RandomState(42)\n",
    "X = rng.rand(100, 10000)\n",
    "transformer = SparseRandomProjection(random_state=rng)\n",
    "X_new = transformer.fit_transform(X)\n",
    "X_new.shape"
   ]
  },
  {
   "cell_type": "code",
   "execution_count": 3,
   "metadata": {},
   "outputs": [
    {
     "data": {
      "text/plain": [
       "0.010009070179883443"
      ]
     },
     "execution_count": 3,
     "metadata": {},
     "output_type": "execute_result"
    }
   ],
   "source": [
    "# very few components are non-zero\n",
    "np.mean(transformer.components_ != 0)"
   ]
  },
  {
   "cell_type": "markdown",
   "metadata": {},
   "source": [
    "### johnson_lindenstrauss_min_dim\n",
    "查找一个安全的数量，然后进行随机投影。具体请参考：https://scikit-learn.org/stable/modules/generated/sklearn.random_projection.johnson_lindenstrauss_min_dim.html#sklearn.random_projection.johnson_lindenstrauss_min_dim。\n"
   ]
  }
 ],
 "metadata": {
  "kernelspec": {
   "display_name": "Python 3",
   "language": "python",
   "name": "python3"
  },
  "language_info": {
   "codemirror_mode": {
    "name": "ipython",
    "version": 3
   },
   "file_extension": ".py",
   "mimetype": "text/x-python",
   "name": "python",
   "nbconvert_exporter": "python",
   "pygments_lexer": "ipython3",
   "version": "3.8.5"
  }
 },
 "nbformat": 4,
 "nbformat_minor": 4
}
