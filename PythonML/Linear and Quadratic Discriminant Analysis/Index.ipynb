{
 "cells": [
  {
   "cell_type": "markdown",
   "metadata": {},
   "source": [
    "## 线性和二次判别分析\n",
    "线性判别分析（LinearDiscriminantAnalysis）和二次判别分析（QuadraticDiscriminantAnalysis）是两个经典分类器，顾名思义，它们分别是线性决策面和二次决策面。这些分类器之所以具有吸引力，是因为它们具有易于计算的封闭式解决方案，本质上是多类的，已被证明在实践中能很好地工作并且没有任何超参数可调整。\n",
    "\n",
    "**线性判别:LinearDiscriminantAnalysis**\n",
    "\n",
    "具有线性决策边界的分类器，是通过将类的条件密度拟合到数据并使用贝叶斯规则生成的。假设所有类别共享相同的协方差矩阵，则该模型将高斯密度拟合到每个类别。通过使用该方法，拟合模型还可以通过将输入投影到最有区别的方向来减少输入的维数 transform。\n",
    "\n",
    "**参数:**\n",
    "\n",
    " - solver:{‘svd’, ‘lsqr’, ‘eigen’}, default=’svd’;'svd'：奇异值分解（默认）。不计算协方差矩阵，因此建议将此求解器用于具有大量特征的数据。'lsqr'：最小二乘解，可以与收缩结合使用。'特征'：特征值分解，可以与收缩结合使用。\n",
    " - shrinkage:‘auto’ or float, default=None;None：无收缩（默认）。'auto'：使用Ledoit-Wolf引理自动收缩。float:在0和1之间浮动：固定的收缩参数。\n",
    " - priors:默认为None,类的先验概率。默认情况下，类别比例是根据训练数据得出的。\n",
    " - n_components:默认为None,用于降维的组件数,如果为None,则将设置为min（n_classes-1，n_features）,该函数将会影响模型的预测结果\n",
    " - store_covariance:默认为False,如果为Tue,则在求解器为\"svd\"时显式计算加权的类内协方差矩阵。矩阵始终为其他求解器计算和存储。\n",
    " - tol:默认为1.0e-4;X的奇异值被视为有效的绝对阈值，用于估计X的秩。奇异值不重要的维将被丢弃。仅当求解器为“ svd”时使用。"
   ]
  },
  {
   "cell_type": "code",
   "execution_count": 1,
   "metadata": {},
   "outputs": [
    {
     "data": {
      "text/plain": [
       "LinearDiscriminantAnalysis(n_components=None, priors=None, shrinkage=None,\n",
       "                           solver='svd', store_covariance=False, tol=0.0001)"
      ]
     },
     "execution_count": 1,
     "metadata": {},
     "output_type": "execute_result"
    }
   ],
   "source": [
    "import numpy as np\n",
    "from sklearn.discriminant_analysis import LinearDiscriminantAnalysis\n",
    "X = np.array([[-1, -1], [-2, -1], [-3, -2], [1, 1], [2, 1], [3, 2]])\n",
    "y = np.array([1, 1, 1, 2, 2, 2])\n",
    "clf = LinearDiscriminantAnalysis()\n",
    "clf.fit(X, y)"
   ]
  },
  {
   "cell_type": "code",
   "execution_count": 2,
   "metadata": {},
   "outputs": [
    {
     "name": "stdout",
     "output_type": "stream",
     "text": [
      "[1]\n"
     ]
    }
   ],
   "source": [
    "print(clf.predict([[-0.8, -1]]))"
   ]
  },
  {
   "cell_type": "markdown",
   "metadata": {},
   "source": [
    "**二次判别:QuadraticDiscriminantAnalysis**\n",
    "\n",
    "通过将类别条件密度拟合到数据并使用贝叶斯规则生成具有二次决策边界的分类器。该模型将高斯密度拟合到每个类别。\n",
    "\n",
    "**参数:**\n",
    " - priors:类别的先验,默认为None,根据数据获取\n",
    " - reg_param:默认为0.0,float,通过将S2转换为，对每个类别的协方差估计值进行正则化 ，其中S2对应于给定类别的属性。S2 = (1 - reg_param) * S2 + reg_param * np.eye(n_features)scaling_\n",
    " - store_covariance:默认False,如果为True，则显式计算类协方差矩阵并将其存储在self.covariance_属性中。\n",
    " - tol:默认1e-4;对于奇异值绝对阈值被认为是显著，用于估计的秩Xk，其中Xk是样本的类k的中心矩阵。此参数不影响预测。它仅控制将要素视为共线时引发的警告。"
   ]
  },
  {
   "cell_type": "code",
   "execution_count": 3,
   "metadata": {},
   "outputs": [
    {
     "data": {
      "text/plain": [
       "QuadraticDiscriminantAnalysis(priors=None, reg_param=0.0,\n",
       "                              store_covariance=False, tol=0.0001)"
      ]
     },
     "execution_count": 3,
     "metadata": {},
     "output_type": "execute_result"
    }
   ],
   "source": [
    "from sklearn.discriminant_analysis import QuadraticDiscriminantAnalysis\n",
    "import numpy as np\n",
    "X = np.array([[-1, -1], [-2, -1], [-3, -2], [1, 1], [2, 1], [3, 2]])\n",
    "y = np.array([1, 1, 1, 2, 2, 2])\n",
    "clf = QuadraticDiscriminantAnalysis()\n",
    "clf.fit(X, y)"
   ]
  },
  {
   "cell_type": "code",
   "execution_count": 4,
   "metadata": {},
   "outputs": [
    {
     "name": "stdout",
     "output_type": "stream",
     "text": [
      "[1]\n"
     ]
    }
   ],
   "source": [
    "print(clf.predict([[-0.8, -1]]))"
   ]
  },
  {
   "cell_type": "code",
   "execution_count": null,
   "metadata": {},
   "outputs": [],
   "source": []
  }
 ],
 "metadata": {
  "kernelspec": {
   "display_name": "Python 3",
   "language": "python",
   "name": "python3"
  },
  "language_info": {
   "codemirror_mode": {
    "name": "ipython",
    "version": 3
   },
   "file_extension": ".py",
   "mimetype": "text/x-python",
   "name": "python",
   "nbconvert_exporter": "python",
   "pygments_lexer": "ipython3",
   "version": "3.8.5"
  }
 },
 "nbformat": 4,
 "nbformat_minor": 4
}
