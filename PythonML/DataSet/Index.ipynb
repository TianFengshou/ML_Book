{
 "cells": [
  {
   "cell_type": "markdown",
   "metadata": {},
   "source": [
    "## Toy datasets\n",
    "\n",
    "scikit-learn带有一些小的标准数据集，不需要从某些外部网站下载任何文件。\n",
    "- load_boston:加载并返回波士顿房价数据集（回归）。\n",
    "- load_iris:加载并返回鸢尾花数据集（分类）。\n",
    "- load_diabetes:加载并返回糖尿病数据集（回归）。\n",
    "- load_digits:加载并返回数字数据集（分类）。\n",
    "- load_linnerud:加载并返回linnerud物理锻炼数据集。\n",
    "- load_wine:加载并返回葡萄酒数据集（分类）。\n",
    "- load_breast_cancer:加载并返回乳腺癌威斯康星州数据集（分类）。"
   ]
  },
  {
   "cell_type": "markdown",
   "metadata": {},
   "source": [
    "## Real world datasets\n",
    "scikit-learn提供了加载较大数据集的工具，必要时可以下载它们。\n",
    "\n",
    "- fetch_olivetti_faces:从AT＆T（分类）中加载Olivetti人脸数据集。\n",
    "- fetch_20newsgroups:从20个新闻组数据集中加载文件名和数据（分类）。\n",
    "- fetch_20newsgroups_vectorized:加载20个新闻组数据集并将其向量化为令牌计数（分类）。\n",
    "- fetch_lfw_people:将标签的面孔加载到Wild（LFW）人数据集中（分类）。\n",
    "- fetch_lfw_pairs:在“LFW”（LFW）对数据集中加载标签的面部（分类）。\n",
    "- fetch_covtype:加载covertype数据集（分类）。\n",
    "- fetch_rcv1:加载RCV1多标签数据集（分类）。\n",
    "- fetch_kddcup99:加载kddcup99数据集（分类）。\n",
    "- fetch_california_housing:加载加利福尼亚住房数据集（回归）。"
   ]
  },
  {
   "cell_type": "code",
   "execution_count": 1,
   "metadata": {},
   "outputs": [
    {
     "name": "stdout",
     "output_type": "stream",
     "text": [
      "downloading Olivetti faces from https://ndownloader.figshare.com/files/5976027 to /home/fonttian/scikit_learn_data\n"
     ]
    },
    {
     "data": {
      "text/plain": [
       "array([[0.6694215 , 0.6363636 , 0.6487603 , ..., 0.08677686, 0.08264463,\n",
       "        0.07438017],\n",
       "       [0.76859504, 0.75619835, 0.74380165, ..., 0.48347107, 0.6280992 ,\n",
       "        0.6528926 ],\n",
       "       [0.37190083, 0.34710744, 0.3677686 , ..., 0.7066116 , 0.6818182 ,\n",
       "        0.5495868 ],\n",
       "       ...,\n",
       "       [0.55785125, 0.60330576, 0.6570248 , ..., 0.17768595, 0.20661157,\n",
       "        0.19421488],\n",
       "       [0.5206612 , 0.5206612 , 0.53305787, ..., 0.46694216, 0.43801653,\n",
       "        0.43801653],\n",
       "       [0.3966942 , 0.3677686 , 0.3429752 , ..., 0.37190083, 0.26859504,\n",
       "        0.29752067]], dtype=float32)"
      ]
     },
     "execution_count": 1,
     "metadata": {},
     "output_type": "execute_result"
    }
   ],
   "source": [
    "from sklearn.datasets import fetch_olivetti_faces\n",
    "faces, _ = fetch_olivetti_faces(return_X_y=True, shuffle=True)\n",
    "\n",
    "faces"
   ]
  },
  {
   "cell_type": "code",
   "execution_count": 2,
   "metadata": {},
   "outputs": [
    {
     "data": {
      "text/plain": [
       "array([13, 30, 34, 19, 24,  6, 15, 26, 14, 21,  3, 13, 11, 34,  1,  5, 29,\n",
       "       14, 20, 19, 17, 26, 12, 34, 17, 31,  7,  1, 28, 10, 17, 30, 33, 22,\n",
       "        6,  7,  9, 17, 17, 39, 10, 32,  0,  0, 29,  5, 37, 25, 15, 23, 24,\n",
       "       14, 29, 17, 28, 31,  5,  1,  2,  4,  7, 27,  0, 35, 19, 37, 14,  0,\n",
       "       15, 31,  0, 26,  6,  2, 10,  1, 36, 30, 36, 32, 33,  6,  5, 10, 30,\n",
       "       22, 12, 37, 39, 32, 38, 25,  5,  0, 19, 14, 13, 39, 26, 36, 25,  6,\n",
       "       31, 15, 28, 34,  8, 34, 15, 29,  9,  8, 29,  2, 36, 21, 25,  4, 23,\n",
       "       34,  9, 22, 23, 23, 37, 14,  2, 25, 35, 16, 15, 39,  6, 24, 21, 10,\n",
       "       31, 19, 32,  1, 16, 18,  3, 11, 26, 10, 35, 24, 23, 11, 33, 12, 28,\n",
       "       11, 21, 13, 27, 12, 19, 29, 28, 13,  3, 37, 16,  3, 23,  9,  8,  6,\n",
       "       16, 28, 20, 39, 23, 28, 10,  4, 32, 39, 22,  7, 13, 38, 22, 21,  2,\n",
       "       18, 36, 27,  5, 32, 35,  2,  0, 21, 15, 21, 37, 22, 13, 23, 21, 27,\n",
       "       27, 30, 23,  3, 20, 39,  6,  2, 33,  4, 24, 12,  9, 11, 16, 38, 38,\n",
       "       34,  4,  1, 28,  7, 24, 39,  7,  1, 36, 21, 38, 38, 22, 16, 10, 16,\n",
       "        8, 18, 39, 11, 25, 18, 20, 37, 11, 14, 15, 15,  1, 26,  7, 10, 32,\n",
       "       20, 31, 13, 23, 31, 24, 30,  1, 22, 30,  0, 27, 12,  7, 18, 30, 37,\n",
       "       34, 18, 35,  8, 25,  1, 29,  8, 26,  3, 38,  5,  4, 27,  5, 20, 31,\n",
       "       31, 33, 12, 22,  6, 30, 13, 18,  2,  4,  0, 20, 33,  9, 38, 17, 25,\n",
       "        9, 36,  9, 35, 16,  6, 30,  4, 20, 27, 22, 14, 14, 18, 13, 35, 39,\n",
       "       26, 32, 20,  8, 12, 34, 36,  9,  8, 26, 11, 29,  5, 32, 25, 35,  4,\n",
       "       10, 36, 27, 35,  3,  5, 34, 12, 29,  2, 18, 16, 15, 24, 20,  3,  3,\n",
       "       12, 18, 37, 28, 36, 14, 28, 37, 17,  9, 33, 33, 19, 24, 11, 26,  7,\n",
       "       33,  2, 16, 33, 38, 17, 38,  3, 19, 31,  8,  7,  8, 29, 24, 27, 21,\n",
       "        0, 35, 19, 25, 32, 19, 11,  4, 17])"
      ]
     },
     "execution_count": 2,
     "metadata": {},
     "output_type": "execute_result"
    }
   ],
   "source": [
    "_"
   ]
  },
  {
   "cell_type": "markdown",
   "metadata": {},
   "source": [
    "## 生成的数据集\n",
    "此外，scikit-learn包括各种随机样本生成器，可用于构建大小和复杂度受控的人工数据集。\n",
    "\n",
    "## 加载其他数据集\n",
    "\n",
    "通过名称或数据集ID从openml获取数据集。数据集由整数ID或名称和版本的组合唯一标识（即，“ iris”数据集可能有多个版本）。请输入名称或data_id（不能同时输入两者）。如果提供了名称，也可以提供版本。\n",
    "\n",
    "**参数：**\n",
    "- name：str或者None，默认为None；数据集的字符串标识符。请注意，OpenML可以有多个具有相同名称的数据集。\n",
    "- version：integer or ‘active’, default=’active’；数据集的版本。仅在提供时也name可以提供。如果“活动”，则使用仍处于活动状态的最旧版本。由于一个数据集可能有多个活动版本，并且这些版本在根本上可能彼此不同，因此强烈建议设置一个确切的版本。\n",
    "- data_id：int or None，默认为None；数据集的OpenML ID。检索数据集的最具体方法。如果未提供data_id，则使用名称（和可能的版本）获取数据集。\n",
    "- data_home：string or None, default None；为数据集指定另一个下载和缓存文件夹。默认情况下，所有scikit学习数据都存储在“〜/ scikit_learn_data”子文件夹中。\n",
    "- target_column：string, list or None, default ‘default-target’；在数据中指定要用作目标的列名。如果为“默认目标”，则使用服务器上存储的标准目标列a。如果为None，则所有列均作为数据返回，目标为None。如果使用列表（字符串），则将所有具有这些名称的列作为多目标返回（注意：并非所有scikit-learn分类器都可以处理所有类型的多输出组合）\n",
    "- cache：boolean, default=True；是否使用joblib缓存下载的数据集。\n",
    "- return_X_y：如果为True，则数据为pandas DataFrame，其中包含具有适当dtypes（数字，字符串或类别）的列。 根据target_columns的数量，目标是pandas DataFrame或Series。 Bunch将包含带有目标和数据的frame属性。 如果return_X_y为True，则（数据，目标）将是如上所述的pandas DataFrames或Series。"
   ]
  },
  {
   "cell_type": "code",
   "execution_count": null,
   "metadata": {},
   "outputs": [],
   "source": []
  }
 ],
 "metadata": {
  "kernelspec": {
   "display_name": "Python 3",
   "language": "python",
   "name": "python3"
  },
  "language_info": {
   "codemirror_mode": {
    "name": "ipython",
    "version": 3
   },
   "file_extension": ".py",
   "mimetype": "text/x-python",
   "name": "python",
   "nbconvert_exporter": "python",
   "pygments_lexer": "ipython3",
   "version": "3.8.5"
  }
 },
 "nbformat": 4,
 "nbformat_minor": 4
}
