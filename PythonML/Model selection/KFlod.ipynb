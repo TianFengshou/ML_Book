{
 "cells": [
  {
   "cell_type": "code",
   "execution_count": 1,
   "metadata": {
    "ExecuteTime": {
     "end_time": "2019-03-29T01:59:11.543622Z",
     "start_time": "2019-03-29T01:59:10.934251Z"
    }
   },
   "outputs": [],
   "source": [
    "%matplotlib inline\n",
    "import numpy as np\n",
    "from sklearn.model_selection import train_test_split\n",
    "from sklearn import datasets\n",
    "from sklearn import svm"
   ]
  },
  {
   "cell_type": "markdown",
   "metadata": {},
   "source": [
    "## 交叉验证迭代器\n",
    "#### KFlod\n",
    "KFlod :交叉切分,将数据分成K份,通过参数n_splits,控制"
   ]
  },
  {
   "cell_type": "code",
   "execution_count": 37,
   "metadata": {
    "ExecuteTime": {
     "end_time": "2019-03-29T02:18:41.422041Z",
     "start_time": "2019-03-29T02:18:41.418053Z"
    }
   },
   "outputs": [
    {
     "name": "stdout",
     "output_type": "stream",
     "text": [
      "[1 2 3] [0]\n",
      "[0 2 3] [1]\n",
      "[0 1 3] [2]\n",
      "[0 1 2] [3]\n"
     ]
    }
   ],
   "source": [
    "from sklearn.model_selection import KFold\n",
    "X = [\"a\", \"b\", \"c\", \"d\"]\n",
    "kf = KFold(n_splits=4)\n",
    "for train, test in kf.split(X):\n",
    "    print(\"%s %s\" % (train, test))"
   ]
  },
  {
   "cell_type": "markdown",
   "metadata": {},
   "source": [
    "#### RepeateKFlod 重复性KFlod\n",
    "\n",
    "**重复KFlod函数数次,使用超参数n_repeats进行控制**"
   ]
  },
  {
   "cell_type": "code",
   "execution_count": 3,
   "metadata": {
    "ExecuteTime": {
     "end_time": "2019-03-29T01:59:12.660276Z",
     "start_time": "2019-03-29T01:59:12.654293Z"
    }
   },
   "outputs": [
    {
     "name": "stdout",
     "output_type": "stream",
     "text": [
      "[2 3] [0 1]\n",
      "[0 1] [2 3]\n",
      "[0 2] [1 3]\n",
      "[1 3] [0 2]\n"
     ]
    }
   ],
   "source": [
    "from sklearn.model_selection import RepeatedKFold\n",
    "X = np.array([[1, 2], [3, 4], [1, 2], [3, 4]])\n",
    "random_state = 12883823\n",
    "rkf = RepeatedKFold(n_splits=2, n_repeats=2, random_state=random_state) \n",
    "for train, test in rkf.split(X):\n",
    "    print(\"%s %s\" % (train, test))"
   ]
  },
  {
   "cell_type": "markdown",
   "metadata": {},
   "source": [
    "## 分层交叉切分\n",
    "**Stratified k-fold:实现了分层交叉切分**"
   ]
  },
  {
   "cell_type": "code",
   "execution_count": 29,
   "metadata": {
    "ExecuteTime": {
     "end_time": "2019-03-29T02:14:44.896635Z",
     "start_time": "2019-03-29T02:14:44.887659Z"
    }
   },
   "outputs": [
    {
     "name": "stdout",
     "output_type": "stream",
     "text": [
      "Stratified Train Index: [1 3 4 5 6 7]\n",
      "Stratified Test Index: [0 2]\n",
      "Stratified y_train: [1 0 1 1 0 0]\n",
      "Stratified y_test: [1 0] \n",
      "\n",
      "Stratified Train Index: [0 2 4 5 6 7]\n",
      "Stratified Test Index: [1 3]\n",
      "Stratified y_train: [1 0 1 1 0 0]\n",
      "Stratified y_test: [1 0] \n",
      "\n",
      "Stratified Train Index: [0 1 2 3 5 7]\n",
      "Stratified Test Index: [4 6]\n",
      "Stratified y_train: [1 1 0 0 1 0]\n",
      "Stratified y_test: [1 0] \n",
      "\n",
      "Stratified Train Index: [0 1 2 3 4 6]\n",
      "Stratified Test Index: [5 7]\n",
      "Stratified y_train: [1 1 0 0 1 0]\n",
      "Stratified y_test: [1 0] \n",
      "\n"
     ]
    }
   ],
   "source": [
    "from sklearn.model_selection import StratifiedKFold\n",
    "X = np.array([[1, 2, 3, 4],\n",
    "              [11, 12, 13, 14],\n",
    "              [21, 22, 23, 24],\n",
    "              [31, 32, 33, 34],\n",
    "              [41, 42, 43, 44],\n",
    "              [51, 52, 53, 54],\n",
    "              [61, 62, 63, 64],\n",
    "              [71, 72, 73, 74]])\n",
    "\n",
    "y = np.array([1, 1, 0, 0, 1, 1, 0, 0])\n",
    "\n",
    "stratified_folder = StratifiedKFold(n_splits=4, random_state=0, shuffle=False)\n",
    "for train_index, test_index in stratified_folder.split(X, y):\n",
    "    print(\"Stratified Train Index:\", train_index)\n",
    "    print(\"Stratified Test Index:\", test_index)\n",
    "    print(\"Stratified y_train:\", y[train_index])\n",
    "    print(\"Stratified y_test:\", y[test_index],'\\n')"
   ]
  },
  {
   "cell_type": "code",
   "execution_count": 47,
   "metadata": {
    "ExecuteTime": {
     "end_time": "2019-03-29T02:20:38.933962Z",
     "start_time": "2019-03-29T02:20:38.925022Z"
    }
   },
   "outputs": [
    {
     "name": "stdout",
     "output_type": "stream",
     "text": [
      "Stratified Train Index: [1 3 4 5 6 7]\n",
      "Stratified Test Index: [0 2]\n",
      "Stratified y_train: [1 0 1 1 0 0]\n",
      "Stratified y_test: [1 0] \n",
      "\n",
      "Stratified Train Index: [0 2 4 5 6 7]\n",
      "Stratified Test Index: [1 3]\n",
      "Stratified y_train: [1 0 1 1 0 0]\n",
      "Stratified y_test: [1 0] \n",
      "\n",
      "Stratified Train Index: [0 1 2 3 5 7]\n",
      "Stratified Test Index: [4 6]\n",
      "Stratified y_train: [1 1 0 0 1 0]\n",
      "Stratified y_test: [1 0] \n",
      "\n",
      "Stratified Train Index: [0 1 2 3 4 6]\n",
      "Stratified Test Index: [5 7]\n",
      "Stratified y_train: [1 1 0 0 1 0]\n",
      "Stratified y_test: [1 0] \n",
      "\n"
     ]
    }
   ],
   "source": [
    "from sklearn.model_selection import StratifiedKFold\n",
    "X = np.array([[1, 2, 3, 4],\n",
    "              [11, 12, 13, 14],\n",
    "              [21, 22, 23, 24],\n",
    "              [31, 32, 33, 34],\n",
    "              [41, 42, 43, 44],\n",
    "              [51, 52, 53, 54],\n",
    "              [61, 62, 63, 64],\n",
    "              [71, 72, 73, 74]])\n",
    "\n",
    "y = np.array([1, 1, 0, 0, 1, 1, 0, 0])\n",
    "\n",
    "stratified_folder = StratifiedKFold(n_splits=4, random_state=0, shuffle=False)\n",
    "for train_index, test_index in stratified_folder.split(X, y):\n",
    "    print(\"Stratified Train Index:\", train_index)\n",
    "    print(\"Stratified Test Index:\", test_index)\n",
    "    print(\"Stratified y_train:\", y[train_index])\n",
    "    print(\"Stratified y_test:\", y[test_index],'\\n')"
   ]
  },
  {
   "cell_type": "markdown",
   "metadata": {},
   "source": [
    "**后面的代码则很好的对他们的不同进行了对比**\n",
    "\n",
    "**除了这几种交叉切分KFlod外,还有很多其他的分割方式,比如`StratifiedShuffleSplit`重复分层KFold,实现了每个K中各类别的比例与原数据集大致一致,而`RepeatedStratifiedKFold` 可用于在每次重复中用不同的随机化重复分层 K-Fold n 次。至此基本的KFlod在Sklearn中都实现了**\n",
    "\n",
    "**注意**\n",
    "\n",
    "而 i.i.d 数据是机器学习理论中的一个常见假设，在实践中很少成立。如果知道样本是使用时间相关的过程生成的，则使用 time-series aware cross-validation scheme 更安全。 同样，如果我们知道生成过程具有 group structure （群体结构）（从不同 subjects（主体） ， experiments（实验）， measurement devices （测量设备）收集的样本），则使用 group-wise cross-validation 更安全。\n",
    "\n",
    "下面就是一个分组KFold的例子,分组KFold将会使用我们给予的groups(组)进行分层抽样.在一些特殊情况下,我们可能会使用到这个."
   ]
  },
  {
   "cell_type": "code",
   "execution_count": 24,
   "metadata": {
    "ExecuteTime": {
     "end_time": "2019-03-29T02:10:14.252543Z",
     "start_time": "2019-03-29T02:10:14.245563Z"
    }
   },
   "outputs": [
    {
     "name": "stdout",
     "output_type": "stream",
     "text": [
      "[0 1 2 3 4 5] [6 7 8 9]\n",
      "[0 1 2 6 7 8 9] [3 4 5]\n",
      "[3 4 5 6 7 8 9] [0 1 2]\n"
     ]
    }
   ],
   "source": [
    "from sklearn.model_selection import GroupKFold\n",
    "\n",
    "X = np.array([0.1, 0.2, 2.2, 2.4, 2.3, 4.55, 5.8, 8.8, 9, 10])\n",
    "y = np.array([\"a\", \"b\", \"b\", \"b\", \"c\", \"c\", \"c\", \"d\", \"d\", \"d\"])\n",
    "groups = np.array([1, 1, 1, 2, 2, 2, 3, 3, 3, 3])\n",
    "\n",
    "gkf = GroupKFold(n_splits=3)\n",
    "for train, test in gkf.split(X, y, groups=groups):\n",
    "    print(\"%s %s\" % (train, test))"
   ]
  },
  {
   "cell_type": "markdown",
   "metadata": {},
   "source": [
    "更多内容请参考:[sklearn相应手册](http://scikit-learn.org/stable/modules/cross_validation.html)"
   ]
  },
  {
   "cell_type": "code",
   "execution_count": 25,
   "metadata": {
    "ExecuteTime": {
     "end_time": "2019-03-29T02:10:15.153551Z",
     "start_time": "2019-03-29T02:10:15.147541Z"
    }
   },
   "outputs": [
    {
     "name": "stdout",
     "output_type": "stream",
     "text": [
      "KFold Train Index: [3 4 5 6 7 8 9]\n",
      "KFold Test Index: [0 1 2]\n",
      "KFold y_train: [2 2 2 3 3 3 3]\n",
      "KFold y_test: [1 1 1] \n",
      "\n",
      "KFold Train Index: [0 1 2 6 7 8 9]\n",
      "KFold Test Index: [3 4 5]\n",
      "KFold y_train: [1 1 1 3 3 3 3]\n",
      "KFold y_test: [2 2 2] \n",
      "\n",
      "KFold Train Index: [0 1 2 3 4 5 8 9]\n",
      "KFold Test Index: [6 7]\n",
      "KFold y_train: [1 1 1 2 2 2 3 3]\n",
      "KFold y_test: [3 3] \n",
      "\n",
      "KFold Train Index: [0 1 2 3 4 5 6 7]\n",
      "KFold Test Index: [8 9]\n",
      "KFold y_train: [1 1 1 2 2 2 3 3]\n",
      "KFold y_test: [3 3] \n",
      "\n"
     ]
    }
   ],
   "source": [
    "kFlod_folder = KFold(n_splits=4, random_state=0, shuffle=False)\n",
    "for train_index, test_index in kFlod_folder.split(X, y):\n",
    "    print(\"KFold Train Index:\", train_index)\n",
    "    print(\"KFold Test Index:\", test_index)\n",
    "    print(\"KFold y_train:\", groups[train_index])\n",
    "    print(\"KFold y_test:\", groups[test_index],'\\n')"
   ]
  },
  {
   "cell_type": "code",
   "execution_count": 27,
   "metadata": {
    "ExecuteTime": {
     "end_time": "2019-03-29T02:12:29.291896Z",
     "start_time": "2019-03-29T02:12:29.283907Z"
    }
   },
   "outputs": [
    {
     "name": "stdout",
     "output_type": "stream",
     "text": [
      "RepeatedKFold Train Index: [0 1 3 5 6 7 9]\n",
      "RepeatedKFold Test Index: [2 4 8]\n",
      "KFold y_train: [1 1 2 2 3 3 3]\n",
      "KFold y_test: [1 2 3] \n",
      "\n",
      "RepeatedKFold Train Index: [0 2 3 4 5 7 8]\n",
      "RepeatedKFold Test Index: [1 6 9]\n",
      "KFold y_train: [1 1 2 2 2 3 3]\n",
      "KFold y_test: [1 3 3] \n",
      "\n",
      "RepeatedKFold Train Index: [0 1 2 4 5 6 8 9]\n",
      "RepeatedKFold Test Index: [3 7]\n",
      "KFold y_train: [1 1 1 2 2 3 3 3]\n",
      "KFold y_test: [2 3] \n",
      "\n",
      "RepeatedKFold Train Index: [1 2 3 4 6 7 8 9]\n",
      "RepeatedKFold Test Index: [0 5]\n",
      "KFold y_train: [1 1 2 2 3 3 3 3]\n",
      "KFold y_test: [1 2] \n",
      "\n",
      "RepeatedKFold Train Index: [0 2 4 6 7 8 9]\n",
      "RepeatedKFold Test Index: [1 3 5]\n",
      "KFold y_train: [1 1 2 3 3 3 3]\n",
      "KFold y_test: [1 2 2] \n",
      "\n",
      "RepeatedKFold Train Index: [0 1 3 4 5 6 7]\n",
      "RepeatedKFold Test Index: [2 8 9]\n",
      "KFold y_train: [1 1 2 2 2 3 3]\n",
      "KFold y_test: [1 3 3] \n",
      "\n",
      "RepeatedKFold Train Index: [1 2 3 4 5 7 8 9]\n",
      "RepeatedKFold Test Index: [0 6]\n",
      "KFold y_train: [1 1 2 2 2 3 3 3]\n",
      "KFold y_test: [1 3] \n",
      "\n",
      "RepeatedKFold Train Index: [0 1 2 3 5 6 8 9]\n",
      "RepeatedKFold Test Index: [4 7]\n",
      "KFold y_train: [1 1 1 2 2 3 3 3]\n",
      "KFold y_test: [2 3] \n",
      "\n"
     ]
    }
   ],
   "source": [
    "repeated_folder = RepeatedKFold(n_splits=4, n_repeats = 2 ,random_state=0)\n",
    "for train_index, test_index in repeated_folder.split(X, y):\n",
    "    print(\"RepeatedKFold Train Index:\", train_index)\n",
    "    print(\"RepeatedKFold Test Index:\", test_index)\n",
    "    print(\"KFold y_train:\", groups[train_index])\n",
    "    print(\"KFold y_test:\", groups[test_index],'\\n')"
   ]
  },
  {
   "cell_type": "code",
   "execution_count": null,
   "metadata": {},
   "outputs": [],
   "source": []
  }
 ],
 "metadata": {
  "hide_input": false,
  "kernelspec": {
   "display_name": "Python 3",
   "language": "python",
   "name": "python3"
  },
  "language_info": {
   "codemirror_mode": {
    "name": "ipython",
    "version": 3
   },
   "file_extension": ".py",
   "mimetype": "text/x-python",
   "name": "python",
   "nbconvert_exporter": "python",
   "pygments_lexer": "ipython3",
   "version": "3.8.5"
  },
  "latex_envs": {
   "LaTeX_envs_menu_present": true,
   "autoclose": false,
   "autocomplete": true,
   "bibliofile": "biblio.bib",
   "cite_by": "apalike",
   "current_citInitial": 1,
   "eqLabelWithNumbers": true,
   "eqNumInitial": 1,
   "hotkeys": {
    "equation": "Ctrl-E",
    "itemize": "Ctrl-I"
   },
   "labels_anchors": false,
   "latex_user_defs": false,
   "report_style_numbering": false,
   "user_envs_cfg": false
  },
  "toc": {
   "base_numbering": 1,
   "nav_menu": {},
   "number_sections": true,
   "sideBar": true,
   "skip_h1_title": false,
   "title_cell": "Table of Contents",
   "title_sidebar": "Contents",
   "toc_cell": false,
   "toc_position": {},
   "toc_section_display": true,
   "toc_window_display": false
  },
  "varInspector": {
   "cols": {
    "lenName": 16,
    "lenType": 16,
    "lenVar": 40
   },
   "kernels_config": {
    "python": {
     "delete_cmd_postfix": "",
     "delete_cmd_prefix": "del ",
     "library": "var_list.py",
     "varRefreshCmd": "print(var_dic_list())"
    },
    "r": {
     "delete_cmd_postfix": ") ",
     "delete_cmd_prefix": "rm(",
     "library": "var_list.r",
     "varRefreshCmd": "cat(var_dic_list()) "
    }
   },
   "types_to_exclude": [
    "module",
    "function",
    "builtin_function_or_method",
    "instance",
    "_Feature"
   ],
   "window_display": false
  }
 },
 "nbformat": 4,
 "nbformat_minor": 2
}
