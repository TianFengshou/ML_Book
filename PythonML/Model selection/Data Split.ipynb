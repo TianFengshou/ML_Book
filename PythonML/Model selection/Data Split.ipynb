{
 "cells": [
  {
   "cell_type": "markdown",
   "metadata": {},
   "source": [
    "## 数据集划分问题\n",
    "\n",
    "### 留出法(hold-out)\n",
    "\n",
    "使用 n:m and n + m =1 的形式对原数据进行分割,例如 train : test = 7 : 3 or train : test = 6.5 : 3.5 但是这种相对原始的处理方式效果并不好,缺点如下: \n",
    "\n",
    " - 缺点一:浪费数据\n",
    " - 缺点二:容易过拟合,且矫正方式不方便\n",
    " \n",
    "这时,我们需要使用另外一种分割方式-交叉验证 或者 留P法(leave P out)\n",
    "\n",
    "### LOO 留一法 or LPO 留P法\n",
    "\n",
    "LOO : 对于整个数据集而言,每次选取一个样本作为验证集,其余样本作为训练集\n",
    "LPO : 对于整个数据集而言,每次选取P个样本作为验证集,其余样本作为训练集\n",
    "\n",
    "LOO的好处在于,避免的数据的浪费,但是同时也拥有了,更高的性能开销\n",
    "一般LOO相对于 K-Fold 而言,拥有更高的方差,但是对于方差占主导的情况时,LOO可能拥有比交叉验证更强的能力.\n",
    "\n",
    "### K-Fold \n",
    "\n",
    "KFold 将所有的样例划分为 k 个组，称为折叠 (fold) （如果 k = n， 这等价于 Leave One Out（留一） 策略），都具有相同的大小（如果可能）。预测函数学习时使用 k - 1 个折叠中的数据，最后一个剩下的折叠会用于测试。在集成算法Stacking中就使用了这种方式(Bagging则为子采样,也是很有趣的方式,之前有介绍)\n",
    "\n",
    "注意\n",
    "\n",
    "而 i.i.d 数据是机器学习理论中的一个常见假设，在实践中很少成立。如果知道样本是使用时间相关的过程生成的，则使用 time-series aware cross-validation scheme 更安全。 同样，如果我们知道生成过程具有 group structure （群体结构）（从不同 subjects（主体） ， experiments（实验）， measurement devices （测量设备）收集的样本），则使用 group-wise cross-validation 更安全。\n",
    "\n",
    "### 是否重复试验与分层的问题\n",
    "\n",
    "分层: 对于K-Fold而言,保持每个分组中的train : test 的比例大致相等\n",
    "重复: 即样本的放回采样,比如Bagging,训练集中部分样本会重复,部分样本永远不会出现\n",
    "重复分层: 对于Sklearn中的K-Fold而言,指实现了采样中各个类别的比例与原数据集的各类别比例大致相等.\n",
    "\n",
    "### 交叉验证\n",
    "\n",
    "LOO 与 LPO 的交叉验证就是每个(或者每P个样本)都作为验证集一次,然后计算平均值,得出Score,K-Fold类似,不过不同的地方是分成了K折.\n",
    "\n",
    "Sklearn中实现了便捷方法CV\n",
    "\n",
    "### 快捷简便的使用\n",
    "\n",
    "#### 加载数据"
   ]
  },
  {
   "cell_type": "code",
   "execution_count": 1,
   "metadata": {
    "ExecuteTime": {
     "end_time": "2019-03-29T01:47:32.110809Z",
     "start_time": "2019-03-29T01:47:30.402301Z"
    }
   },
   "outputs": [
    {
     "data": {
      "text/plain": [
       "((150, 4), (150,))"
      ]
     },
     "execution_count": 1,
     "metadata": {},
     "output_type": "execute_result"
    }
   ],
   "source": [
    "from sklearn.model_selection import train_test_split,LeaveOneOut,LeavePOut\n",
    "from sklearn import datasets\n",
    "from sklearn import svm\n",
    "from sklearn.metrics import accuracy_score\n",
    "import numpy as np\n",
    "\n",
    "iris = datasets.load_iris()\n",
    "clf_svc = svm.SVC(kernel='linear')\n",
    "iris.data.shape,iris.target.shape"
   ]
  },
  {
   "cell_type": "markdown",
   "metadata": {},
   "source": [
    "#### hold out"
   ]
  },
  {
   "cell_type": "code",
   "execution_count": 2,
   "metadata": {
    "ExecuteTime": {
     "end_time": "2019-03-29T01:47:35.356054Z",
     "start_time": "2019-03-29T01:47:35.350070Z"
    }
   },
   "outputs": [
    {
     "data": {
      "text/plain": [
       "0.9666666666666667"
      ]
     },
     "execution_count": 2,
     "metadata": {},
     "output_type": "execute_result"
    }
   ],
   "source": [
    "X_train, X_test, y_train, y_test = train_test_split(iris.data, iris.target, test_size=0.4, random_state=0) \n",
    "\n",
    "clf_svc.fit(X_train,y_train)\n",
    "accuracy_score(clf_svc.predict(X_test),y_test)"
   ]
  },
  {
   "cell_type": "markdown",
   "metadata": {},
   "source": [
    "### Leave One Out"
   ]
  },
  {
   "cell_type": "code",
   "execution_count": 3,
   "metadata": {
    "ExecuteTime": {
     "end_time": "2019-03-29T01:47:36.798782Z",
     "start_time": "2019-03-29T01:47:36.735895Z"
    }
   },
   "outputs": [
    {
     "name": "stdout",
     "output_type": "stream",
     "text": [
      "0.98\n"
     ]
    }
   ],
   "source": [
    "loo = LeaveOneOut()\n",
    "loo.get_n_splits(iris.data)\n",
    "mean_accuracy_score_list = []\n",
    "for train_index, test_index in loo.split(iris.data):\n",
    "    clf_svc.fit(iris.data[train_index], iris.target[train_index])\n",
    "    prediction = clf_svc.predict(iris.data[test_index])\n",
    "    mean_accuracy_score_list.append(accuracy_score(iris.target[test_index], prediction))\n",
    "print(np.average(mean_accuracy_score_list))"
   ]
  },
  {
   "cell_type": "markdown",
   "metadata": {},
   "source": [
    "### Leave P Out\n",
    "LeavePOut 与 LeaveOneOut 非常相似，因为它通过从整个集合中删除 p 个样本来创建所有可能的 训练/测试集。对于 n 个样本，这产生了 m 个 训练-测试 对, m 等于 n个样本中 任意选取 p 个样本不计顺序自由组合的个数 。值得注意的是这种方式会导致计算开销大幅增加,下面的例子要比上面的例子,多花费 m-n 的时间.从时间复杂度上看,在数据量较大时,而P较小时,时间复杂度为：T(n) = O(n^p),所以请慎用."
   ]
  },
  {
   "cell_type": "code",
   "execution_count": 10,
   "metadata": {
    "ExecuteTime": {
     "end_time": "2019-03-29T01:54:40.693924Z",
     "start_time": "2019-03-29T01:54:36.363473Z"
    }
   },
   "outputs": [
    {
     "name": "stdout",
     "output_type": "stream",
     "text": [
      "0.9796420581655481\n"
     ]
    }
   ],
   "source": [
    "loo = LeavePOut(p=2)\n",
    "mean_accuracy_score_list = []\n",
    "for train_index, test_index in loo.split(iris.data):\n",
    "    clf_svc.fit(iris.data[train_index], iris.target[train_index])\n",
    "    prediction = clf_svc.predict(iris.data[test_index])\n",
    "    mean_accuracy_score_list.append(accuracy_score(iris.target[test_index], prediction))\n",
    "print(np.average(mean_accuracy_score_list))"
   ]
  },
  {
   "cell_type": "markdown",
   "metadata": {},
   "source": [
    "下面的例子更好地展示了,其效果:"
   ]
  },
  {
   "cell_type": "code",
   "execution_count": 11,
   "metadata": {
    "ExecuteTime": {
     "end_time": "2019-03-29T01:56:34.420117Z",
     "start_time": "2019-03-29T01:56:34.415091Z"
    }
   },
   "outputs": [
    {
     "name": "stdout",
     "output_type": "stream",
     "text": [
      "[2 3] [0 1]\n",
      "[1 3] [0 2]\n",
      "[1 2] [0 3]\n",
      "[0 3] [1 2]\n",
      "[0 2] [1 3]\n",
      "[0 1] [2 3]\n"
     ]
    }
   ],
   "source": [
    "X = np.ones(4)\n",
    "lpo = LeavePOut(p=2)\n",
    "for train, test in lpo.split(X):\n",
    "    print(\"%s %s\" % (train, test))"
   ]
  },
  {
   "cell_type": "markdown",
   "metadata": {},
   "source": [
    "### K-Fold\n",
    "\n",
    "普通的K-Fold仅仅是折叠,除此之外,还有分层K-Fold则,则进行的分层K-Fold."
   ]
  },
  {
   "cell_type": "code",
   "execution_count": 12,
   "metadata": {
    "ExecuteTime": {
     "end_time": "2019-03-29T01:56:35.559505Z",
     "start_time": "2019-03-29T01:56:35.555516Z"
    }
   },
   "outputs": [
    {
     "name": "stdout",
     "output_type": "stream",
     "text": [
      "[1 2 3] [0]\n",
      "[0 2 3] [1]\n",
      "[0 1 3] [2]\n",
      "[0 1 2] [3]\n"
     ]
    }
   ],
   "source": [
    "from sklearn.model_selection import KFold,StratifiedKFold\n",
    "X = [\"a\", \"b\", \"c\", \"d\"]\n",
    "kf = KFold(n_splits=4)\n",
    "for train, test in kf.split(X):\n",
    "    print(\"%s %s\" % (train, test))"
   ]
  },
  {
   "cell_type": "code",
   "execution_count": 13,
   "metadata": {
    "ExecuteTime": {
     "end_time": "2019-03-29T01:56:36.200007Z",
     "start_time": "2019-03-29T01:56:36.193026Z"
    }
   },
   "outputs": [
    {
     "name": "stdout",
     "output_type": "stream",
     "text": [
      "Stratified Train Index: [1 3 4 5 6 7]\n",
      "Stratified Test Index: [0 2]\n",
      "Stratified y_train: [1 0 1 1 0 0]\n",
      "Stratified y_test: [1 0] \n",
      "\n",
      "Stratified Train Index: [0 2 4 5 6 7]\n",
      "Stratified Test Index: [1 3]\n",
      "Stratified y_train: [1 0 1 1 0 0]\n",
      "Stratified y_test: [1 0] \n",
      "\n",
      "Stratified Train Index: [0 1 2 3 5 7]\n",
      "Stratified Test Index: [4 6]\n",
      "Stratified y_train: [1 1 0 0 1 0]\n",
      "Stratified y_test: [1 0] \n",
      "\n",
      "Stratified Train Index: [0 1 2 3 4 6]\n",
      "Stratified Test Index: [5 7]\n",
      "Stratified y_train: [1 1 0 0 1 0]\n",
      "Stratified y_test: [1 0] \n",
      "\n"
     ]
    }
   ],
   "source": [
    "X = np.array([[1, 2, 3, 4],\n",
    "              [11, 12, 13, 14],\n",
    "              [21, 22, 23, 24],\n",
    "              [31, 32, 33, 34],\n",
    "              [41, 42, 43, 44],\n",
    "              [51, 52, 53, 54],\n",
    "              [61, 62, 63, 64],\n",
    "              [71, 72, 73, 74]])\n",
    "\n",
    "y = np.array([1, 1, 0, 0, 1, 1, 0, 0])\n",
    "\n",
    "stratified_folder = StratifiedKFold(n_splits=4, random_state=0, shuffle=False)\n",
    "for train_index, test_index in stratified_folder.split(X, y):\n",
    "    print(\"Stratified Train Index:\", train_index)\n",
    "    print(\"Stratified Test Index:\", test_index)\n",
    "    print(\"Stratified y_train:\", y[train_index])\n",
    "    print(\"Stratified y_test:\", y[test_index],'\\n')"
   ]
  },
  {
   "cell_type": "markdown",
   "metadata": {},
   "source": [
    "不过在实际的使用中我们更常用的是`cross_val_score`,一个封装好的交叉验证方法,来进行模型选择,其中默认的方法即为K-Fold,除此之外,我们还可以使用`cross_val_predict`来获取预测结果,不过效果不一定是最好偶."
   ]
  },
  {
   "cell_type": "code",
   "execution_count": 14,
   "metadata": {
    "ExecuteTime": {
     "end_time": "2019-03-29T01:56:37.338561Z",
     "start_time": "2019-03-29T01:56:37.329610Z"
    }
   },
   "outputs": [
    {
     "name": "stdout",
     "output_type": "stream",
     "text": [
      "[0.96666667 1.         0.96666667 0.96666667 1.        ]\n",
      "Accuracy: 0.98 (+/- 0.03)\n"
     ]
    }
   ],
   "source": [
    "from sklearn.model_selection import cross_val_score\n",
    "scores_clf_svc_cv = cross_val_score(clf_svc,iris.data,iris.target,cv=5)\n",
    "print(scores_clf_svc_cv)\n",
    "print(\"Accuracy: %0.2f (+/- %0.2f)\" % (scores_clf_svc_cv.mean(), scores_clf_svc_cv.std() * 2))\n"
   ]
  },
  {
   "cell_type": "code",
   "execution_count": 15,
   "metadata": {
    "ExecuteTime": {
     "end_time": "2019-03-29T01:56:37.837993Z",
     "start_time": "2019-03-29T01:56:37.824983Z"
    }
   },
   "outputs": [
    {
     "data": {
      "text/plain": [
       "0.9733333333333334"
      ]
     },
     "execution_count": 15,
     "metadata": {},
     "output_type": "execute_result"
    }
   ],
   "source": [
    "from sklearn.model_selection import cross_val_predict\n",
    "predicted = cross_val_predict(clf_svc, iris.data, iris.target, cv=10)\n",
    "accuracy_score(iris.target, predicted)"
   ]
  },
  {
   "cell_type": "markdown",
   "metadata": {},
   "source": [
    "### 参考\n",
    " - [Sklearn中文文档:交叉验证](http://sklearn.apachecn.org/cn/0.19.0/modules/cross_validation.html)\n",
    " - [Sklearn官方文档:数据分割器](http://sklearn.apachecn.org/cn/0.19.0/modules/classes.html#module-sklearn.model_selection)\n"
   ]
  },
  {
   "cell_type": "code",
   "execution_count": null,
   "metadata": {},
   "outputs": [],
   "source": []
  }
 ],
 "metadata": {
  "hide_input": false,
  "kernelspec": {
   "display_name": "Python 3",
   "language": "python",
   "name": "python3"
  },
  "language_info": {
   "codemirror_mode": {
    "name": "ipython",
    "version": 3
   },
   "file_extension": ".py",
   "mimetype": "text/x-python",
   "name": "python",
   "nbconvert_exporter": "python",
   "pygments_lexer": "ipython3",
   "version": "3.8.5"
  },
  "latex_envs": {
   "LaTeX_envs_menu_present": true,
   "autoclose": false,
   "autocomplete": true,
   "bibliofile": "biblio.bib",
   "cite_by": "apalike",
   "current_citInitial": 1,
   "eqLabelWithNumbers": true,
   "eqNumInitial": 1,
   "hotkeys": {
    "equation": "Ctrl-E",
    "itemize": "Ctrl-I"
   },
   "labels_anchors": false,
   "latex_user_defs": false,
   "report_style_numbering": false,
   "user_envs_cfg": false
  },
  "toc": {
   "base_numbering": 1,
   "nav_menu": {},
   "number_sections": true,
   "sideBar": true,
   "skip_h1_title": false,
   "title_cell": "Table of Contents",
   "title_sidebar": "Contents",
   "toc_cell": false,
   "toc_position": {},
   "toc_section_display": true,
   "toc_window_display": false
  },
  "varInspector": {
   "cols": {
    "lenName": 16,
    "lenType": 16,
    "lenVar": 40
   },
   "kernels_config": {
    "python": {
     "delete_cmd_postfix": "",
     "delete_cmd_prefix": "del ",
     "library": "var_list.py",
     "varRefreshCmd": "print(var_dic_list())"
    },
    "r": {
     "delete_cmd_postfix": ") ",
     "delete_cmd_prefix": "rm(",
     "library": "var_list.r",
     "varRefreshCmd": "cat(var_dic_list()) "
    }
   },
   "types_to_exclude": [
    "module",
    "function",
    "builtin_function_or_method",
    "instance",
    "_Feature"
   ],
   "window_display": false
  }
 },
 "nbformat": 4,
 "nbformat_minor": 2
}
