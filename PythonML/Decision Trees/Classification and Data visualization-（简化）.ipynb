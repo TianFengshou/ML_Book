{
 "cells": [
  {
   "cell_type": "markdown",
   "metadata": {},
   "source": [
    "## 决策树简介\n",
    "\n",
    "从本质上来说，决策树是一种使用if-then-else的决策规则的监督学习方法.\n",
    "\n",
    "**其三要素为,枝节点,叶节点与分支条件,同时为了减少过拟合还有剪枝方法**\n",
    "**为了便于记忆,可以称其为一方法三要素**\n",
    "\n",
    "在上个例子中，枝节点就是蓝色的未分类的西瓜集合，红色和绿色就是叶节点，分支条件则是三个判断条件。\n",
    "对于真正的决策树而言，目前只有分支条件是不同的，因为对于机器学习而言，我们肯定不能一个个的去添加判断条件。这对于成百上千条数据而言就已经足够复杂了，何况目前已经是大数据时代了。\n",
    "而借助数学武器，我们确实拥有更好地方式编写自动化的分支条件。\n",
    "\n",
    "### 信息熵\n",
    "\n",
    "*有一半的人认为香农和爱因斯坦一样是世界上最伟大的科学家,而另外一半人认为香农比爱因斯坦更加伟大(在香农实验室里)*\n",
    "\n",
    "对于数据而言我们有一个更好地方式来描绘信息的复杂程度,那就是**信息熵**.这是香农所创建的信息论中一个极其重要的概念。\n",
    "\n",
    "#### 以信息论的角度来说说信息熵\n",
    "\n",
    "通常，一个信源发送出什么符号是不确定的，衡量它可以根据其出现的概率来度量。概率大，出现机会多，不确定性小；反之不确定性就大。不确定性函数f是概率P的减函数；**两个独立符号所产生的不确定性应等于各自不确定性之和**，即f(P1,P2)=f(P1)+f(P2)，这称为可加性。同时满足这两个条件的函数f是对数函数，即$f(p) = log \\frac{1}{p} = -logp $ 。\n",
    "\n",
    "在信源中，考虑的不是某一单个符号发生的不确定性，而是要考虑这个信源所有可能发生情况的平均不确定性。若信源符号有n种取值：U1…Ui…Un，对应概率为：P1…Pi…Pn，且各种符号的出现彼此独立。这时，信源的平均不确定性应当为单个符号不确定性-logPi的统计平均值（E），可称为**信息熵**，即 $$H(U)=- \\sum_{i=1}^n P(x_i ) log_2 P(x_i )   $$ ，式中对数一般取2为底，单位为比特。但是，也可以取其它对数底，采用其它相应的单位，它们间可用换底公式换算。\n",
    "\n",
    "\n",
    "而既然要选择对信息混乱程度减少贡献最大的特征，我们就需要对选择该特征划分前后，信息熵的变化进行计算\n",
    "\n",
    "因此得到信息熵公式:\n",
    "\n",
    "$g(D,A)=H(D)-H(D│A)$求出。\n",
    "\n",
    "\n",
    "其中$g(D,A)$表示信息增益，H(D)表示经验熵，H(D│A)表示在给定条件下的经验熵。（这里采用的是李航的公式写法）"
   ]
  },
  {
   "cell_type": "markdown",
   "metadata": {},
   "source": [
    "### 其他划分方式\n",
    "#### 信息增益比\n",
    "根据最佳特征选择方式的不同，我们将决策树分为不同的决策树算法。\n",
    "假如我们在构建决策树的过程中使用了刚刚介绍的划分方式：信息增益，那么决策树构建算法则被称为ID3。\n",
    "\n",
    "不过思考一下，我们其实还可以对信息增益进行一定的改进,比如使用信息增益相对原信息熵的比值: $ G_R(D│A)= \\frac{(H(D)-H(D│A))}{H(\n",
    "D)} $,从一个角度来说单纯的信息增益只是个相对值，它过度依赖于H(D)的大小，所以信息增益比能够比信息增益更客观地反映划分前后信息熵的变化。\n",
    "#### 基尼系数\n",
    "基尼不纯度是指将来自集合中的某种结果随机应用于集合中某一数据项的预期误差率。如何集合中的每一个数据项都属于同一分类，那么推测的结果总会是正确的，因此误差率是 0；如果有 2种可能的结果均匀分布在集合内，出错可能性是50%，基尼不纯度为 0.50。该值越高，说明拆分的越不理想，如果该值为 0，说明完美拆分。具体公式如下:\n",
    "$$Gini=\\sum_{i=1}^n P_i (1-p_i ) $$\n",
    "\n",
    "#### 比较\n",
    "**信息增益 vs 信息增益比**\n",
    "\n",
    "之所以引入了信息增益比，是由于信息增益的一个缺点。那就是：信息增益总是偏向于选择取值较多的属性。信息增益比在此基础上增加了一个罚项，解决了这个问题。\n",
    "\n",
    "**Gini 指数 vs 熵**\n",
    "\n",
    "既然这两个都可以表示数据的不确定性，不纯度。那么这两个有什么区别那？\n",
    "\n",
    "Gini 指数的计算不需要对数运算，更加高效；\n",
    "\n",
    "Gini 指数更偏向于连续属性，熵更偏向于离散属性。"
   ]
  },
  {
   "cell_type": "markdown",
   "metadata": {},
   "source": [
    "## 带入数值计算\n",
    "\n",
    "三种计算方法分别对应着三种决策树：信息增益（ID3 算法）、信息增益率（C4.5 算法）以及基尼指数（Cart 算法）。\n",
    "\n",
    "假如我们目前有六百个西瓜对于三个条件：\n",
    "\n",
    " 1. 声音响亮：声音响亮的三百个，不响亮的三百个\n",
    " 2. 瓜蒂饱满：瓜蒂饱满的四百个，瓜蒂不饱满的两百个\n",
    " 3. 光泽漂亮：光泽漂亮的两百个，不漂亮的四百个\n",
    " \n",
    " 信息熵：\n",
    " \n",
    "$$H(U)=- \\sum_{i=1}^n P(x_i ) log_2 P(x_i )   $$\n"
   ]
  },
  {
   "cell_type": "code",
   "execution_count": 4,
   "metadata": {},
   "outputs": [
    {
     "name": "stdout",
     "output_type": "stream",
     "text": [
      "entropy_1 :  1.0\n",
      "entropy_2 :  0.9182958340544896\n",
      "entropy_2 :  0.9182958340544896\n"
     ]
    }
   ],
   "source": [
    "import math\n",
    "\n",
    "entropy_1 = -(1/2)*math.log(0.5,2)-(1/2)*math.log(0.5,2)\n",
    "print(\"entropy_1 : \",entropy_1)\n",
    "\n",
    "entropy_2 = -(2/3)*math.log(2/3,2)-(1/3)*math.log(1/3,2)\n",
    "print(\"entropy_2 : \",entropy_2)\n",
    "\n",
    "entropy_3 = -(2/3)*math.log(2/3,2)-(1/3)*math.log(1/3,2)\n",
    "print(\"entropy_2 : \",entropy_3)"
   ]
  },
  {
   "cell_type": "markdown",
   "metadata": {},
   "source": [
    "- 声音响亮的西瓜中，好瓜有十个，不响亮的有零个\n",
    "- 瓜地饱满的西瓜中，好瓜有十个，不饱满的有零个\n",
    "- 光泽漂亮的西瓜中，好瓜有十个，不饱满的有零个"
   ]
  },
  {
   "cell_type": "code",
   "execution_count": 8,
   "metadata": {},
   "outputs": [
    {
     "name": "stdout",
     "output_type": "stream",
     "text": [
      "entropy_1_1 :  0.21084230031853213\n",
      "gain_1 : 0.8945788498407339\n"
     ]
    }
   ],
   "source": [
    "entropy_1_1 = - (1/30)*math.log(1/30,2) - (29/30)*math.log(29/30,2)\n",
    "entropy_1_2 = 0\n",
    "print(\"entropy_1_1 : \",entropy_1_1)\n",
    "\n",
    "gain_1 = entropy_1-(1/2*(entropy_1_1)+1/2*(entropy_1_2))\n",
    "print(\"gain_1 :\",gain_1)"
   ]
  },
  {
   "cell_type": "code",
   "execution_count": 9,
   "metadata": {},
   "outputs": [
    {
     "name": "stdout",
     "output_type": "stream",
     "text": [
      "entropy_2_1 :  0.16866093149667025\n",
      "gain_2 : 0.8058552130567094\n"
     ]
    }
   ],
   "source": [
    "entropy_2_1 = - (1/40)*math.log(1/40,2) - (39/40)*math.log(39/40,2)\n",
    "entropy_2_2 = 0\n",
    "print(\"entropy_2_1 : \",entropy_2_1)\n",
    "\n",
    "gain_2 = entropy_2-(2/3*(entropy_2_1)+1/3*(entropy_2_2))\n",
    "print(\"gain_2 :\",gain_2)"
   ]
  },
  {
   "cell_type": "code",
   "execution_count": 10,
   "metadata": {},
   "outputs": [
    {
     "name": "stdout",
     "output_type": "stream",
     "text": [
      "entropy_3_1 :  0.28639695711595625\n",
      "gain_3 : 0.8228301816825041\n"
     ]
    }
   ],
   "source": [
    "entropy_3_1 = - (1/20)*math.log(1/20,2) - (19/20)*math.log(19/20,2)\n",
    "entropy_3_2 = 0\n",
    "print(\"entropy_3_1 : \",entropy_3_1)\n",
    "\n",
    "gain_3 = entropy_3-(1/3*(entropy_3_1)+2/3*(entropy_3_2))\n",
    "print(\"gain_3 :\",gain_3)"
   ]
  },
  {
   "cell_type": "markdown",
   "metadata": {},
   "source": [
    "**信息增益比：**"
   ]
  },
  {
   "cell_type": "code",
   "execution_count": 11,
   "metadata": {},
   "outputs": [
    {
     "name": "stdout",
     "output_type": "stream",
     "text": [
      "Gain_ratio_1 : 0.8945788498407339\n",
      "Gain_ratio_2 : 0.8775551224039331\n",
      "Gain_ratio_3 : 0.896040416571986\n"
     ]
    }
   ],
   "source": [
    "Gain_ratio_1 = gain_1/entropy_1\n",
    "Gain_ratio_2 = gain_2/entropy_2\n",
    "Gain_ratio_3 = gain_3/entropy_3\n",
    "\n",
    "print(\"Gain_ratio_1 :\",Gain_ratio_1)\n",
    "print(\"Gain_ratio_2 :\",Gain_ratio_2)\n",
    "print(\"Gain_ratio_3 :\",Gain_ratio_3)"
   ]
  },
  {
   "cell_type": "markdown",
   "metadata": {},
   "source": [
    "**基尼系数：**"
   ]
  },
  {
   "cell_type": "code",
   "execution_count": 5,
   "metadata": {},
   "outputs": [
    {
     "name": "stdout",
     "output_type": "stream",
     "text": [
      "gini_1 :  0.03222222222222222\n",
      "gini_2 :  0.024375\n",
      "gini_3 :  0.0475\n"
     ]
    }
   ],
   "source": [
    "gini_1 =  10/300 * (1-10/300) + 0*0\n",
    "gini_2 =  10/400 * (1-10/400) + 0*0\n",
    "gini_3 =  10/200 * (1-10/200) + 0*0\n",
    "print(\"gini_1 : \",gini_1)\n",
    "print(\"gini_2 : \",gini_2)\n",
    "print(\"gini_3 : \",gini_3)"
   ]
  },
  {
   "cell_type": "markdown",
   "metadata": {},
   "source": [
    "## 分类决策树"
   ]
  },
  {
   "cell_type": "code",
   "execution_count": 15,
   "metadata": {
    "ExecuteTime": {
     "end_time": "2019-08-01T07:56:24.615762Z",
     "start_time": "2019-08-01T07:56:24.300561Z"
    }
   },
   "outputs": [],
   "source": [
    "%matplotlib inline\n",
    "import numpy as np\n",
    "from sklearn import tree\n",
    "X = [[0, 0], [1, 1]]\n",
    "Y = [0, 1]\n",
    "clf = tree.DecisionTreeClassifier()\n",
    "clf = clf.fit(X, Y)"
   ]
  },
  {
   "cell_type": "markdown",
   "metadata": {},
   "source": [
    "**predict the class of samples**"
   ]
  },
  {
   "cell_type": "code",
   "execution_count": 2,
   "metadata": {
    "ExecuteTime": {
     "end_time": "2019-08-01T07:56:26.859751Z",
     "start_time": "2019-08-01T07:56:26.855761Z"
    }
   },
   "outputs": [
    {
     "name": "stdout",
     "output_type": "stream",
     "text": [
      "[1]\n"
     ]
    }
   ],
   "source": [
    "print(clf.predict([[2,2]]))"
   ]
  },
  {
   "cell_type": "markdown",
   "metadata": {},
   "source": [
    "**show the probability and log_probability of each class be predicted**"
   ]
  },
  {
   "cell_type": "markdown",
   "metadata": {},
   "source": [
    "在刚开始的时候我提出了三要素一方法,其中三要素不仅对应着决策树的构成方式,还对应着一方法也就是剪枝\n",
    "\n",
    "决策树因为其实算法的特殊性,除非存在不同的两个点或者以上在完全一致的特征下,分类标签不一致的情况,\n",
    "决策树可以做到对数据集的完全拟合.也正是决策树的这一特性,使得完全的决策树会产生严重的过拟合.\n",
    "\n",
    "因此我们需要减掉过多的分支,从而提高决策树的泛化能力.其中的方法虽然很多,但是整体而言都是围绕着枝节点与叶节点展开的\n",
    "\n",
    "在sklearn中我们可以用来提高决策树泛化能力的超参数主要有\n",
    " - max_depth:树的最大深度,也就是说当树的深度到达max_depth的时候无论还有多少可以分支的特征,决策树都会停止运算.\n",
    " - min_samples_split: 分裂所需的最小数量的节点数.当叶节点的样本数量小于该参数后,则不再生成分支.该分支的标签分类以该分支下标签最多的类别为准\n",
    " - min_samples_leaf; 一个分支所需要的最少样本数,如果在分支之后,某一个新增叶节点的特征样本数小于该超参数,则退回,不再进行剪枝.退回后的叶节点的标签以该叶节点中最多的标签你为准\n",
    " - min_weight_fraction_leaf: 最小的权重系数\n",
    " - max_leaf_nodes:最大叶节点数,None时无限制,取整数时,忽略max_depth\n",
    "    \n",
    "\n",
    "## 分支方式\n",
    "对于决策树而言,常见的决策树分支方式一共有三种,前两种是基于信息熵的,ID3(信息增益),C4.5(信息增益比),以及基于基尼系数的CART决策树\n",
    "\n",
    "但是因为到目前为止,sklearn中只实现了ID3与CART决策树,所以我们暂时只能使用这两种决策树,分支方式由超参数criterion决定:\n",
    "\n",
    "  - gini:默认参数,基于基尼系数\n",
    "  - entropy: 基于信息熵,也就是我们的ID3\n",
    "     \n",
    "**下面在鸢尾花数据集上使用分类决策树**\n",
    "\n",
    "**加载数据**\n",
    "\n",
    "首先使用随机分割方法来创建数据集："
   ]
  },
  {
   "cell_type": "code",
   "execution_count": 13,
   "metadata": {
    "ExecuteTime": {
     "end_time": "2019-08-01T07:56:29.115774Z",
     "start_time": "2019-08-01T07:56:29.109789Z"
    }
   },
   "outputs": [],
   "source": [
    "from sklearn import datasets, model_selection\n",
    "\n",
    "iris = datasets.load_iris()  # scikit-learn 自带的 iris 数据集\n",
    "X_train = iris.data\n",
    "y_train = iris.target\n",
    "\n",
    "\n",
    "# 随机分割\n",
    "X_train,X_test,y_train,y_test = model_selection.train_test_split(  \\\n",
    "     X_train, y_train,test_size=0.25, random_state=0, stratify=y_train)"
   ]
  },
  {
   "cell_type": "markdown",
   "metadata": {},
   "source": [
    "之后使用fit方法来训练，predict来进行预测。"
   ]
  },
  {
   "cell_type": "code",
   "execution_count": 22,
   "metadata": {},
   "outputs": [
    {
     "name": "stdout",
     "output_type": "stream",
     "text": [
      "0.9473684210526315\n"
     ]
    }
   ],
   "source": [
    "clf = tree.DecisionTreeClassifier()\n",
    "clf.fit(X_train, y_train)\n",
    "y_pre = clf.predict(X_test)\n",
    "\n",
    "right = 0\n",
    "for i in range(len(y_pre)):\n",
    "    if y_pre[i]==y_test[i]:\n",
    "        right+=1\n",
    "        \n",
    "print(right/len(y_pre))"
   ]
  },
  {
   "cell_type": "markdown",
   "metadata": {},
   "source": [
    "**使用基尼(CART决策树)与信息熵(ID3)进行测试,可以发现在iris dataset上,gini的表现要好一些**\n",
    "    \n",
    "**同时可以发现,对于决策树而言,完全拟合数据并不困难,最多只需要 log(n_samples)即可,对于iris的150个样本而言,只需要max_depth就足够了,但是max_depth的过度提高一般代表着泛化能力的降低**\n",
    "\n",
    "这里我们可以使用内置的函数score（一般翻译为分数，实际调用的是决定系数，不等于概率），该函数是所有sklearn机器学习模型都有的一个函数。"
   ]
  },
  {
   "cell_type": "code",
   "execution_count": 24,
   "metadata": {
    "ExecuteTime": {
     "end_time": "2019-08-01T07:56:30.081223Z",
     "start_time": "2019-08-01T07:56:30.070264Z"
    }
   },
   "outputs": [
    {
     "name": "stdout",
     "output_type": "stream",
     "text": [
      "gini Training score:1.000000\n",
      "gini Testing score:0.973684\n",
      "entropy Training score:1.000000\n",
      "entropy Testing score:0.947368\n"
     ]
    }
   ],
   "source": [
    "criterions=['gini','entropy']\n",
    "for criterion in criterions:\n",
    "    clf = tree.DecisionTreeClassifier(criterion=criterion)\n",
    "    clf.fit(X_train, y_train)\n",
    "    print(criterion,\"Training score:%f\"%(clf.score(X_train,y_train)))\n",
    "    print(criterion,\"Testing score:%f\"%(clf.score(X_test,y_test)))"
   ]
  },
  {
   "cell_type": "markdown",
   "metadata": {},
   "source": [
    "### 评估函数\n",
    "\n",
    "我们可以像之前一样自己来编写评估函数，也可以直接调用sklearn中各种已经封装好的评估函数，位于metrics模块。\n",
    "\n",
    "metrics模块中用于分类的评估函数\n",
    "\n",
    "- accuracy_score\n",
    "- balanced_accuracy_score\n",
    "- classification_report\n",
    "- cohen_kappa_score\n",
    "- confusion_matrix\n",
    "- f1_score\n",
    "- fbeta_score\n",
    "- hamming_loss\n",
    "- hinge_loss\n",
    "- jaccard_score\n",
    "- log_loss\n",
    "- matthews_corrcoef\n",
    "- precision_recall_fscore_support\n",
    "- precision_score\n",
    "- recall_score\n",
    "- zero_one_loss\n",
    "- brier_score_loss\n",
    "- multilabel_confusion_matrix\n",
    "\n",
    "具体的使用方法为function_name(test_target, prediction)"
   ]
  },
  {
   "cell_type": "code",
   "execution_count": 34,
   "metadata": {},
   "outputs": [
    {
     "name": "stdout",
     "output_type": "stream",
     "text": [
      "accuracy_score：  0.9473684210526315\n",
      "zero_one_loss：  0.052631578947368474\n"
     ]
    }
   ],
   "source": [
    "from sklearn.metrics import accuracy_score, zero_one_loss\n",
    "import numpy as np\n",
    "\n",
    "test_target = y_test\n",
    "prediction = y_pre\n",
    "\n",
    "print(\"accuracy_score： \", accuracy_score(test_target, prediction))\n",
    "print(\"zero_one_loss： \", zero_one_loss(test_target, prediction))"
   ]
  },
  {
   "cell_type": "markdown",
   "metadata": {},
   "source": [
    "### 分类决策树的参数\n",
    "\n",
    "使用算法很容易，用好算法很困难。对于单个模型而言，当数据确定是，真正决定模型好坏的便是超参数。\n",
    "\n",
    "sklearn中分类决策树所带有的超参数如下：\n",
    "\n",
    " - criterion{“gini”, “entropy”}, 默认为”gini”;分割判断标准,基尼或者信息熵\n",
    " \n",
    " - splitter{“best”, “random”}, 默认为”best”;分割策略,最佳或者随机\n",
    " \n",
    " - max_depth:int, 默认为None;树的最大深度,直到所有叶子都是纯净的,或者直到所有叶子都包含至少min_samples_split个样本。\n",
    " \n",
    " - min_samples_split:int or float, 默认为2;拆分内部节点所需的最少样本数,如果为整数则表示最小样本数,如果为float则表示百分比,ceil(min_samples_split * n_samples)\n",
    " \n",
    " - min_samples_leaf:int or float, 默认为1;在叶节点处需要的最小样本数。仅在任何深度的分裂点在min_samples_leaf左分支和右分支中的每个分支上至少留下训练样本时，才考虑。这可能具有平滑模型的效果，尤其是在回归中。如果为整数则表示最小样本数,如果为float则表示百分比ceil(min_samples_leaf*min_samples_leaf)\n",
    " \n",
    " - min_weight_fraction_leaf:float, 默认为0.0;在所有叶节点处（所有输入样本）的权重总和中的最小加权分数。如果未提供sample_weight，则样本的权重相等。\n",
    " \n",
    " - max_features:int, float or {“auto”, “sqrt”, “log2”}, 默认为None;寻找最佳分割时要考虑的功能数量：如果为int，则max_features在每个拆分处考虑要素。如果为float，max_features则为小数，并 在每次拆分时考虑要素。int(max_features * n_features)。如果“自动”，则max_features=sqrt(n_features)。如果是“ sqrt”，则max_features=sqrt(n_features)。如果为“ log2”，则为max_features=log2(n_features)。如果没有，则max_features=n_features。注意：直到找到至少一个有效的节点样本分区，分割的搜索才会停止，即使它需要有效检查多个max_features要素也是如此。\n",
    " \n",
    " - random_state:int, RandomState instance, 默认为None;随机数种子\n",
    " \n",
    " - max_leaf_nodes:int, 默认为None;以最佳的方式建立树。最佳节点定义为杂质的相对减少。如果为None，则叶节点数不受限制。\n",
    " \n",
    " - min_impurity_decrease:float, 默认为0.0;如果节点分裂导致杂质减少大于或等于该值，则该节点将分裂。\n",
    " \n",
    " - min_impurity_split：float, 默认为0;树木生长尽早停止的阈值。如果节点的杂质高于阈值，则该节点将分裂，否则为叶。将于0.25删除\n",
    " \n",
    " - class_weight:dict, list of dict or “balanced”, 默认为None。与形式的类有关的权重。“平衡”模式使用y的值来自动调整与输入数据中的类频率成反比的权重，如下所示： n_samples / (n_classes * np.bincount(y))。对于多输出，y的每一列的权重将相乘。请注意，如果指定了sample_weight，则这些权重将与sample_weight（通过fit方法传递）相乘。\n",
    " \n",
    " - presort:deprecated, 默认为’deprecated’;弃用，并将在v0.24删除\n",
    " \n",
    " - ccp_alpha:non-negative float, 默认为0.0;用于最小化成本复杂性修剪的复杂性参数。具有最大成本复杂度的子树小于ccp_alpha所选择的子树 。默认情况下，不执行修剪。"
   ]
  },
  {
   "cell_type": "markdown",
   "metadata": {},
   "source": [
    "**现在我们控制其中的一个超参数，来看一下，随着超参数变化，模型结果是否会随之改变。**\n",
    "\n",
    "*下面是绘制的train_error 与test_error曲线,你也可容易通过修改其他几个可以控制枝节点与叶节点的超参数对决策树的生成进行控制**"
   ]
  },
  {
   "cell_type": "code",
   "execution_count": 6,
   "metadata": {
    "ExecuteTime": {
     "end_time": "2019-08-01T03:06:54.431923Z",
     "start_time": "2019-08-01T03:06:54.228466Z"
    }
   },
   "outputs": [
    {
     "data": {
      "image/png": "[encoded data removed]",
      "text/plain": [
       "<Figure size 432x288 with 1 Axes>"
      ]
     },
     "metadata": {
      "needs_background": "light"
     },
     "output_type": "display_data"
    }
   ],
   "source": [
    "import matplotlib.pyplot as plt\n",
    "maxdepth = 40\n",
    "\n",
    "X_train,X_test,y_train,y_test=load_data()\n",
    "depths=np.arange(1,maxdepth)\n",
    "training_scores=[]\n",
    "testing_scores=[]\n",
    "for depth in depths:\n",
    "    clf = tree.DecisionTreeClassifier(max_depth=depth)\n",
    "    clf.fit(X_train, y_train)\n",
    "    training_scores.append(clf.score(X_train,y_train))\n",
    "    testing_scores.append(clf.score(X_test,y_test))\n",
    "\n",
    "## 绘图\n",
    "fig=plt.figure()\n",
    "ax=fig.add_subplot(1,1,1)\n",
    "ax.plot(depths,training_scores,label=\"traing score\",marker='o')\n",
    "ax.plot(depths,testing_scores,label=\"testing score\",marker='*')\n",
    "ax.set_xlabel(\"maxdepth\")\n",
    "ax.set_ylabel(\"score\")\n",
    "ax.set_title(\"Decision Tree Classification\")\n",
    "ax.legend(framealpha=0.5,loc='best')\n",
    "plt.show()"
   ]
  }
 ],
 "metadata": {
  "hide_input": false,
  "kernelspec": {
   "display_name": "Python 3 (ipykernel)",
   "language": "python",
   "name": "python3"
  },
  "language_info": {
   "codemirror_mode": {
    "name": "ipython",
    "version": 3
   },
   "file_extension": ".py",
   "mimetype": "text/x-python",
   "name": "python",
   "nbconvert_exporter": "python",
   "pygments_lexer": "ipython3",
   "version": "3.12.3"
  },
  "latex_envs": {
   "LaTeX_envs_menu_present": true,
   "autoclose": false,
   "autocomplete": true,
   "bibliofile": "biblio.bib",
   "cite_by": "apalike",
   "current_citInitial": 1,
   "eqLabelWithNumbers": true,
   "eqNumInitial": 1,
   "hotkeys": {
    "equation": "Ctrl-E",
    "itemize": "Ctrl-I"
   },
   "labels_anchors": false,
   "latex_user_defs": false,
   "report_style_numbering": false,
   "user_envs_cfg": false
  },
  "toc": {
   "base_numbering": 1,
   "nav_menu": {},
   "number_sections": true,
   "sideBar": true,
   "skip_h1_title": false,
   "title_cell": "Table of Contents",
   "title_sidebar": "Contents",
   "toc_cell": false,
   "toc_position": {},
   "toc_section_display": true,
   "toc_window_display": false
  },
  "varInspector": {
   "cols": {
    "lenName": 16,
    "lenType": 16,
    "lenVar": 40
   },
   "kernels_config": {
    "python": {
     "delete_cmd_postfix": "",
     "delete_cmd_prefix": "del ",
     "library": "var_list.py",
     "varRefreshCmd": "print(var_dic_list())"
    },
    "r": {
     "delete_cmd_postfix": ") ",
     "delete_cmd_prefix": "rm(",
     "library": "var_list.r",
     "varRefreshCmd": "cat(var_dic_list()) "
    }
   },
   "types_to_exclude": [
    "module",
    "function",
    "builtin_function_or_method",
    "instance",
    "_Feature"
   ],
   "window_display": false
  }
 },
 "nbformat": 4,
 "nbformat_minor": 4
}
