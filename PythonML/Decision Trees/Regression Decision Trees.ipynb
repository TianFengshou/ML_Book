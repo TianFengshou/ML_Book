{
 "cells": [
  {
   "cell_type": "markdown",
   "metadata": {},
   "source": [
    "# 回归决策树\n",
    "决策树通过使用 DecisionTreeRegressor 类也可以用来解决回归问题。\n",
    "\n",
    "\n",
    "## 原理\n",
    "\n",
    "所谓回归，就是根据特征向量来决定对应的输出值。回归树就是将特征空间划分成若干单元，每一个划分单元有一个特定的输出。因为每个结点都是“是”和“否”的判断，所以划分的边界是平行于坐标轴的。对于测试数据，我们只要按照特征将其归到某个单元，便得到对应的输出值\n",
    "\n",
    "如在分类设置中，拟合方法将数组X和数组y作为参数，只有在这种情况下，y数组预期才是浮点值:\n",
    "![回归决策树](../images/回归决策树.png)\n",
    "\n",
    "如现在对一个新的向量(6,6)决定它对应的输出。第一维分量6介于5和8之间，第二维分量6小于8，根据此决策树很容易判断(6,6)所在的划分单元，其对应的输出值为c3.\n",
    "\n",
    "划分的过程也就是建立树的过程，每划分一次，随即确定划分单元对应的输出，也就多了一个结点。当根据停止条件划分终止的时候，最终每个单元的输出也就确定了，也就是叶结点。"
   ]
  },
  {
   "cell_type": "markdown",
   "metadata": {},
   "source": [
    "## 回归决策树的构建举例\n",
    "下表为训练数据集，特征向量只有一维，根据此数据表建立回归决策树。\n",
    "\n",
    "|x | 1 | 2 |  3 | 4 | 5| 6 | 7 | 8 |9 | 10|\n",
    "|-|-|-|-|-|-|-|-|-|-|-|\n",
    "|y |5.56 | 5.7|5.91| 6.4 | 6.8| 7.05| 8.9|8.7 | 9| 9.05|\n",
    "\n",
    "在本数据集中，只有一个特征变量，最优切分变量自然是x。接下来考虑9个切分点（切分变量两个相邻取值区间内任一点均可），\n",
    "\n",
    "根据式(1.2)计算每个待切分点的损失函数值：\n",
    "\n",
    "损失函数为\n",
    "\n",
    " \n",
    "$$ L(j,s) = \\sum_{x_i\\in R_1(j,s)} (y_i-\\hat{c_1})^2 + \\sum_{x_i\\in R_2(j,s)} (y_i-\\hat{c_2})^2 $$\n",
    " \n",
    "\n",
    "其中 \n",
    "\n",
    " $$ \\hat{c_1} = \\frac{1}{N_1} \\sum_{x_i\\in R_1(j,s)} y_i $$\n",
    "\n",
    "当s=1.5时，两个子区域 $\\small R_1=\\left \\{ 1 \\right \\}$，$  \\small R_2=\\left \\{ 2,3,4,5,6,7,8,9,10 \\right \\}$，$   \\small c_1=5.56 $，$  \\small c_2=\\frac{1}{9}(5.7+5.91+6.4+6.8+7.05+8.9+8.7+9+9.05)=7.5$。\n",
    "\n",
    "同理，得到其他各切分点的子区域输出值，列表如下\n",
    "\n",
    "|s |1.5 | 2.5| 3.5 |4.5 | 5.5 | 6.5 |7.5 | 8.5| 9.5|\n",
    "|-|-|-|-|-|-|-|-|-|-|\n",
    "|c1|5.56.|5.63| 5.72.| 5.89.| 6.07.| 6.24.| 6.62| 6.88| 7.11|\n",
    "|c2| 7.5.|7.73| 7.99| 8.25 | 8.54| 8.91| 8.92 | 9.03| 9.05|\n",
    "\n",
    "计算损失函数值，找到最优切分点\n",
    "\n",
    "当s=1.5时， $L(1.5) = (5.56-5.56)^2+[(5.7-7.5)^2+(5.991-7.5)^2+...(9.05-7.5)^2]$   \n",
    "\n",
    "同理，计算得到其他各切分点的损失函数值，列表如下\n",
    "\n",
    "|s.|1.5|2.5 |3.5| 4.5|5.5|6.5|7.5| 8.5| 9.5|\n",
    "|-|-|-|-|-|-|-|-|-|-|\n",
    "|L(s).|15.72.|12.07.|8.36.| 5.78.| 3.91.|1.93.| 8.01 | 11.73|15.74|\n",
    "\n",
    "易知，取s=6.5时，损失函数值最小。因此，第一个划分点为(j=x,s=6.5).后面同理\n",
    "\n",
    " 假设两次划分后即停止，则最终生成的回归树为：\n",
    " \n",
    " $$ T=\\begin{cases}\n",
    "5.72  ,\\quad x\\leq 3.5\\\\\n",
    "6.75 , \\quad 3.5<x\\leq6.5\\\\\n",
    "8.91 , \\quad x>6.5\n",
    "\\end{cases}$$\n",
    "\n",
    "## 代码中调用\n",
    "下面是在代码中的简单使用"
   ]
  },
  {
   "cell_type": "code",
   "execution_count": 1,
   "metadata": {
    "ExecuteTime": {
     "end_time": "2019-08-01T08:04:00.956583Z",
     "start_time": "2019-08-01T08:04:00.438001Z"
    }
   },
   "outputs": [
    {
     "data": {
      "text/plain": [
       "array([0.5])"
      ]
     },
     "execution_count": 1,
     "metadata": {},
     "output_type": "execute_result"
    }
   ],
   "source": [
    "%matplotlib inline\n",
    "from sklearn import tree\n",
    "X = [[0, 0], [2, 2]]\n",
    "y = [0.5, 2.5]\n",
    "clf = tree.DecisionTreeRegressor()\n",
    "clf = clf.fit(X, y)\n",
    "clf.predict([[1, 1]])"
   ]
  },
  {
   "cell_type": "markdown",
   "metadata": {},
   "source": [
    "## 详细介绍\n",
    "sklearn中DecisionTreeRegressor的主要参数与分类决策树差异不大.\n",
    "唯一不太一样的是,在回归决策树中只实现了优化的gini决策树,而无法使用基于信息熵的决策树\n",
    "\n",
    "**关于超参数的介绍,我们可以直接借用在分类决策树中的介绍**\n",
    "**在sklearn中我们可以用来提高决策树泛化能力的超参数主要有**\n",
    " - max_depth:树的最大深度,也就是说当树的深度到达max_depth的时候无论还有多少可以分支的特征,决策树都会停止运算.\n",
    " - min_samples_split: 分裂所需的最小数量的节点数.当叶节点的样本数量小于该参数后,则不再生成分支.该分支的标签分类以该分支下标签最多的类别为准\n",
    " - min_samples_leaf; 一个分支所需要的最少样本数,如果在分支之后,某一个新增叶节点的特征样本数小于该超参数,则退回,不再进行剪枝.退回后的叶节点的标签以该叶节点中最多的标签你为准\n",
    " - min_weight_fraction_leaf: 最小的权重系数\n",
    " - max_leaf_nodes:最大叶节点数,None时无限制,取整数时,忽略max_depth\n",
    "    \n",
    "    \n",
    "下面的代码主要是对决策树最大深度与过拟合之间关系的探讨,可以看出对于最大深度对拟合关系影响.\n",
    "与分类决策树一样的地方在于,最大深度的增加虽然可以增加对训练集拟合能力的增强,但这也就可能意味着其泛化能力的下降"
   ]
  },
  {
   "cell_type": "code",
   "execution_count": 2,
   "metadata": {
    "ExecuteTime": {
     "end_time": "2019-08-01T08:04:09.585556Z",
     "start_time": "2019-08-01T08:04:09.389065Z"
    }
   },
   "outputs": [
    {
     "data": {
      "image/png": "[encoded data removed]",
      "text/plain": [
       "<Figure size 432x288 with 1 Axes>"
      ]
     },
     "metadata": {
      "needs_background": "light"
     },
     "output_type": "display_data"
    }
   ],
   "source": [
    "import numpy as np\n",
    "from sklearn.tree import DecisionTreeRegressor\n",
    "import matplotlib.pyplot as plt\n",
    "%matplotlib inline\n",
    "\n",
    "# Create a random dataset\n",
    "rng = np.random.RandomState(1)\n",
    "X = np.sort(10 * rng.rand(160, 1), axis=0)\n",
    "y = np.sin(X).ravel()\n",
    "y[::5] += 2 * (0.5 - rng.rand(32)) # 每五个点增加一次噪音\n",
    "\n",
    "# Fit regression model\n",
    "regr_1 = DecisionTreeRegressor(max_depth=2)\n",
    "regr_2 = DecisionTreeRegressor(max_depth=5)\n",
    "regr_3 = DecisionTreeRegressor(max_depth=8)\n",
    "regr_1.fit(X, y)\n",
    "regr_2.fit(X, y)\n",
    "regr_3.fit(X, y)\n",
    "\n",
    "# Predict\n",
    "X_test = np.arange(0.0, 10.0, 0.01)[:, np.newaxis]\n",
    "y_1 = regr_1.predict(X_test)\n",
    "y_2 = regr_2.predict(X_test)\n",
    "y_3 = regr_3.predict(X_test)\n",
    "\n",
    "# Plot the results\n",
    "plt.figure()\n",
    "plt.scatter(X, y, s=20, edgecolor=\"black\",\n",
    "            c=\"darkorange\", label=\"data\")\n",
    "plt.plot(X_test, y_1, color=\"cornflowerblue\",\n",
    "         label=\"max_depth=2\", linewidth=2)\n",
    "plt.plot(X_test, y_2, color=\"yellowgreen\", label=\"max_depth=5\", linewidth=2)\n",
    "plt.plot(X_test, y_3, color=\"r\", label=\"max_depth=8\", linewidth=2)\n",
    "plt.xlabel(\"data\")\n",
    "plt.ylabel(\"target\")\n",
    "plt.title(\"Decision Tree Regression\")\n",
    "plt.legend()\n",
    "plt.show()"
   ]
  },
  {
   "cell_type": "markdown",
   "metadata": {},
   "source": [
    "从上面的测试可以看出随着决策树最大深度的增加,决策树的拟合能力不断上升。\n",
    "\n",
    "在这个例子中一共有160个样本,对于最简单的max_dpeth = 2 的决策树而言,其明显不能很好的拟合我们的已有数据。\n",
    "但是当最大深度为8(大于lg(200))时,我们的决策树已经不仅仅拟合了我们的正确样本,同时也拟合了**我们添加的噪音**,这导致了其泛化能力的下降。\n",
    "因此对于决策树而言，选择合适的最大深度十分重要\n",
    "\n",
    "## 最大深度与训练误差测试误差的关系\n",
    "\n",
    "下面我们进行对于不同的最大深度决策树的训练误差与测试误差进行绘制.\n",
    "当然你也可以通过改变其他可以控制决策树生成的超参数进行相关测试."
   ]
  },
  {
   "cell_type": "code",
   "execution_count": 3,
   "metadata": {
    "ExecuteTime": {
     "end_time": "2019-07-31T15:06:50.894694Z",
     "start_time": "2019-07-31T15:06:50.758058Z"
    }
   },
   "outputs": [
    {
     "data": {
      "image/png": "[encoded data removed]",
      "text/plain": [
       "<Figure size 432x288 with 1 Axes>"
      ]
     },
     "metadata": {
      "needs_background": "light"
     },
     "output_type": "display_data"
    }
   ],
   "source": [
    "from sklearn import model_selection\n",
    "def creat_data(n):\n",
    "    np.random.seed(0)\n",
    "    X = 5 * np.random.rand(n, 1)\n",
    "    y = np.sin(X).ravel()\n",
    "    noise_num=(int)(n/5)\n",
    "    y[::5] += 3 * (0.5 - np.random.rand(noise_num)) # 每第5个样本，就在该样本的值上添加噪音\n",
    "    return model_selection.train_test_split(X, y,test_size=0.25,random_state=1)\n",
    "def test_DecisionTreeRegressor_depth(*data,maxdepth):\n",
    "    X_train,X_test,y_train,y_test=data\n",
    "    depths=np.arange(1,maxdepth)\n",
    "    training_scores=[]\n",
    "    testing_scores=[]\n",
    "    for depth in depths:\n",
    "        regr = DecisionTreeRegressor(max_depth=depth)\n",
    "        regr.fit(X_train, y_train)\n",
    "        training_scores.append(regr.score(X_train,y_train))\n",
    "        testing_scores.append(regr.score(X_test,y_test))\n",
    "\n",
    "    ## 绘图\n",
    "    fig=plt.figure()\n",
    "    ax=fig.add_subplot(1,1,1)\n",
    "    ax.plot(depths,training_scores,label=\"traing score\")\n",
    "    ax.plot(depths,testing_scores,label=\"testing score\")\n",
    "    ax.set_xlabel(\"maxdepth\")\n",
    "    ax.set_ylabel(\"score\")\n",
    "    ax.set_title(\"Decision Tree Regression\")\n",
    "    ax.legend(framealpha=0.5)\n",
    "    plt.show()\n",
    "X_train,X_test,y_train,y_test=creat_data(200)    \n",
    "test_DecisionTreeRegressor_depth(X_train,X_test,y_train,y_test,maxdepth=12)"
   ]
  },
  {
   "cell_type": "markdown",
   "metadata": {},
   "source": [
    "由上图我们可以看出,当我们使用train_test进行数据集的分割的时候,最大深度2即为我们需要的最佳超参数.\n",
    "同样的你也可以对其他超参数进行测试,或者换用cv进行测试,再或者使用hyperopt or auto-sklearn等神器.\n",
    "刚刚提到的其他有关内容,我会在之后的[CSDN专栏-剑指数据科学](https://fonttian.blog.csdn.net/column/info/16266)中进行介绍,你可以关注我的博客并接收相关推送。\n",
    "\n",
    "## 参考资料\n",
    " - [sklearn官方文档:决策树](http://scikit-learn.org/stable/modules/tree.html)\n",
    " - [sklearn官方文档:不同最大深度决策树拟合能力的比较](http://scikit-learn.org/stable/auto_examples/tree/plot_tree_regression.html#sphx-glr-auto-examples-tree-plot-tree-regression-py)\n",
    " - [决策树-回归问题](https://www.cnblogs.com/diyigechengxu/p/10690621.html)\n",
    " - 《python大战机器学习 数据科学家的一个小目标》 华校专,王正林编著"
   ]
  }
 ],
 "metadata": {
  "hide_input": false,
  "kernelspec": {
   "display_name": "Python 3",
   "language": "python",
   "name": "python3"
  },
  "language_info": {
   "codemirror_mode": {
    "name": "ipython",
    "version": 3
   },
   "file_extension": ".py",
   "mimetype": "text/x-python",
   "name": "python",
   "nbconvert_exporter": "python",
   "pygments_lexer": "ipython3",
   "version": "3.8.5"
  },
  "latex_envs": {
   "LaTeX_envs_menu_present": true,
   "autoclose": false,
   "autocomplete": true,
   "bibliofile": "biblio.bib",
   "cite_by": "apalike",
   "current_citInitial": 1,
   "eqLabelWithNumbers": true,
   "eqNumInitial": 1,
   "hotkeys": {
    "equation": "Ctrl-E",
    "itemize": "Ctrl-I"
   },
   "labels_anchors": false,
   "latex_user_defs": false,
   "report_style_numbering": false,
   "user_envs_cfg": false
  },
  "toc": {
   "base_numbering": 1,
   "nav_menu": {},
   "number_sections": true,
   "sideBar": true,
   "skip_h1_title": false,
   "title_cell": "Table of Contents",
   "title_sidebar": "Contents",
   "toc_cell": false,
   "toc_position": {},
   "toc_section_display": true,
   "toc_window_display": false
  },
  "varInspector": {
   "cols": {
    "lenName": 16,
    "lenType": 16,
    "lenVar": 40
   },
   "kernels_config": {
    "python": {
     "delete_cmd_postfix": "",
     "delete_cmd_prefix": "del ",
     "library": "var_list.py",
     "varRefreshCmd": "print(var_dic_list())"
    },
    "r": {
     "delete_cmd_postfix": ") ",
     "delete_cmd_prefix": "rm(",
     "library": "var_list.r",
     "varRefreshCmd": "cat(var_dic_list()) "
    }
   },
   "types_to_exclude": [
    "module",
    "function",
    "builtin_function_or_method",
    "instance",
    "_Feature"
   ],
   "window_display": false
  }
 },
 "nbformat": 4,
 "nbformat_minor": 2
}
