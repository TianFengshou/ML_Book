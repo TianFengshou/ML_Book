{
 "cells": [
  {
   "cell_type": "markdown",
   "metadata": {},
   "source": [
    "## 简介\n",
    "\n",
    "管道机制实现了对全部步骤的流式化封装和管理（streaming workflows with pipelines）。\n",
    "\n",
    "管道机制(也有人翻译为流水线学习器?这样翻译可能更有利于后面内容的理解)在机器学习算法中得以应用的根源在于，参数集在新数据集（比如测试集）上的重复使用。使用管道机制可以大幅度减少代码量.总的来说这是一个非常实用而有趣的方法\n",
    "\n",
    "\n",
    "注意：管道机制更像是编程技巧的创新，而非算法的创新。\n",
    "\n",
    "\n",
    "> 通常流水线学习器的通常步骤\n",
    "> 数据标准化学习器=>特征选取学习器=>执行预测的学习器\n",
    "> 除了最后一个学习器之外,所有学习器必须提供transform算法,该方法用于数据转换\n",
    "\n",
    "## 常用方法与属性\n",
    "[sklearn官方文档](http://scikit-learn.org/stable/modules/generated/sklearn.pipeline.Pipeline.html#sklearn.pipeline.Pipeline)\n",
    "\n",
    "#### Parameters\n",
    " - steps : 步骤：列表(list)\n",
    "被连接的（名称，变换）元组（实现拟合/变换）的列表，按照它们被连接的顺序，最后一个对象是估计器(estimator)。\n",
    "\n",
    " - memory:内存参数,Instance of sklearn.external.joblib.Memory or string, optional (default=None)\n",
    " - 属性,name_steps:bunch object，具有属性访问权限的字典\n",
    "只读属性以用户给定的名称访问任何步骤参数。键是步骤名称，值是步骤参数。或者也可以直接通过\".步骤名称\"获取\n",
    "\n",
    "#### funcution\n",
    "\n",
    " - Pipline的方法都是执行各个学习器中对应的方法,如果该学习器没有该方法,会报错\n",
    " - 假设该Pipline共有n个学习器\n",
    "\n",
    " - transform,依次执行各个学习器的transform方法\n",
    " - inverse_transform,依次执行各个学习器的inverse_transform方法\n",
    "\n",
    " - fit,依次对前n-1个学习器执行fit和transform方法,第n个学习器(最后一个学习器)执行fit方法\n",
    " - predict,执行第n个学习器的predict方法\n",
    " - score,执行第n个学习器的score方法\n",
    "\n",
    "\n",
    "\n",
    " - set_params,设置第n个学习器的参数\n",
    " - get_param,获取第n个学习器的参数\n",
    "\n",
    "\n",
    "## 例子\n",
    "\n",
    "### 一般步骤\n",
    "\n",
    "- 首先对数据进行预处理,比如缺失值的处理\n",
    "- 数据的标准化\n",
    "- 降维\n",
    "- 特征选择算法\n",
    "- 分类或者预测算法(估计器,estimator)\n",
    "\n",
    "## 流程图\n",
    "\n",
    "![Pipline流程图](https://img-blog.csdnimg.cn/img_convert/330cc3a69e27a879c1aa07b16813c4ec.png)\n",
    "\n",
    "### 加载数据"
   ]
  },
  {
   "cell_type": "code",
   "execution_count": 1,
   "metadata": {},
   "outputs": [],
   "source": [
    "import pandas as pd\n",
    "from sklearn.model_selection import train_test_split\n",
    "from sklearn.preprocessing import LabelEncoder\n",
    "\n",
    "df = pd.read_csv('https://archive.ics.uci.edu/ml/machine-learning-databases/'\n",
    "                 'breast-cancer-wisconsin/wdbc.data', header=None)\n",
    "                                 # Breast Cancer Wisconsin dataset\n",
    "\n",
    "X, y = df.values[:, 2:], df.values[:, 1]\n",
    "                                # y为字符型标签\n",
    "                                # 使用LabelEncoder类将其转换为0开始的数值型\n",
    "                                \n",
    "encoder = LabelEncoder()\n",
    "y = encoder.fit_transform(y)\n",
    "X_train, X_test, y_train, y_test = train_test_split(X, y, test_size=.2, random_state=0)"
   ]
  },
  {
   "cell_type": "markdown",
   "metadata": {},
   "source": [
    "### 利用Pipline合并算法流程\n",
    "\n",
    "#### Pipline"
   ]
  },
  {
   "cell_type": "code",
   "execution_count": 3,
   "metadata": {},
   "outputs": [
    {
     "name": "stdout",
     "output_type": "stream",
     "text": [
      "score_train : 0.9648351648351648\n",
      "score_test : 0.9210526315789473\n",
      "[ True  True]\n",
      "[ True  True]\n"
     ]
    }
   ],
   "source": [
    "def Examples_SklearnOrg_Pipline(X_train, X_test, y_train, y_test):\n",
    "    from sklearn import svm\n",
    "    from sklearn.feature_selection import SelectKBest\n",
    "    from sklearn.feature_selection import f_regression\n",
    "    from sklearn.pipeline import Pipeline\n",
    "    from sklearn.preprocessing import StandardScaler\n",
    "    from sklearn.decomposition import PCA\n",
    "\n",
    "    anova_filter = SelectKBest(f_regression, k=5)\n",
    "    # clf = svm.LinearSVR(kernel='linear')\n",
    "    clf = svm.LinearSVC()\n",
    "    anova_svm = Pipeline([('sc', StandardScaler()),\n",
    "                        ('pca', PCA(n_components=2)),('anova', anova_filter), ('svc', clf)])\n",
    "    # You can set the parameters using the names issued\n",
    "    # For instance, fit using a k of all in the SelectKBest\n",
    "    # Because the PCA,we only have 2 features\n",
    "    # and a parameter 'C' of the svm\n",
    "    anova_svm.set_params(anova__k=\"all\", svc__C=.1).fit(X_train, y_train)\n",
    "\n",
    "    # prediction_trian = anova_svm.predict(X_train)\n",
    "    # prediction_test = anova_svm.predict( X_test)\n",
    "    score_train = anova_svm.score(X_train, y_train)\n",
    "    score_test = anova_svm.score(X_test, y_test)\n",
    "\n",
    "    # print(\"prediction_train :\", prediction_trian)\n",
    "    # print(\"prediction_test :\", prediction_test)\n",
    "    print(\"score_train :\", score_train)\n",
    "    print(\"score_test :\", score_test)\n",
    "    # getting the selected features chosen by anova_filter\n",
    "    Pri_nameed_steps00 = anova_svm.named_steps['anova'].get_support()\n",
    "    print(Pri_nameed_steps00)\n",
    "\n",
    "    # Another way to get selected features chosen by anova_filter\n",
    "    Pri_nameed_steps01 = anova_svm.named_steps.anova.get_support()\n",
    "    print(Pri_nameed_steps01)\n",
    "\n",
    "# UCI_sc_pca_logisticRe(X_train, X_test, y_train, y_test)\n",
    "Examples_SklearnOrg_Pipline(X_train, X_test, y_train, y_test)"
   ]
  },
  {
   "cell_type": "markdown",
   "metadata": {},
   "source": [
    "## 参考\n",
    "- [sklearn 中的 Pipeline 机制 - Inside_Zhang](http://blog.csdn.net/lanchunhui/article/details/50521648)\n",
    "-  << Python 大战机器学习 数据科学家的一个小目标 >> 华校专,王正林 2017.03\n",
    "- sklearn:官方网站:[http://scikit-learn.org/stable/modules/generated/sklearn.pipeline.Pipeline.html#sklearn.pipeline.Pipeline](http://scikit-learn.org/stable/modules/generated/sklearn.pipeline.Pipeline.html#sklearn.pipeline.Pipeline)"
   ]
  }
 ],
 "metadata": {
  "kernelspec": {
   "display_name": "Python 3",
   "language": "python",
   "name": "python3"
  },
  "language_info": {
   "codemirror_mode": {
    "name": "ipython",
    "version": 3
   },
   "file_extension": ".py",
   "mimetype": "text/x-python",
   "name": "python",
   "nbconvert_exporter": "python",
   "pygments_lexer": "ipython3",
   "version": "3.7.7"
  }
 },
 "nbformat": 4,
 "nbformat_minor": 4
}
