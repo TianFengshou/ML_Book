{
 "cells": [
  {
   "cell_type": "markdown",
   "metadata": {},
   "source": [
    "# sklearn中的朴素贝叶斯分类器\n",
    "之前[理解朴素贝叶斯](http://blog.csdn.net/fontthrone/article/details/78751452)中的结尾对sklearn中的朴素贝叶斯进行了简单的介绍.\n",
    "此处对sklearn中的则对sklearn中的朴素贝叶斯算法进行比较详细介绍.不过手下还是对朴素贝叶斯本身进行一些补充.\n",
    "\n",
    "## 朴素贝叶斯算法\n",
    "\n",
    "朴素贝叶斯算法的数学基础都是围绕贝叶斯定理展开的,因此这一类算法都被称为朴素贝叶斯算法.\n",
    "\n",
    "朴素贝叶斯的分类原理是通过对象的先验概率,利用贝叶斯公式计算出后验概率.即对象属于某一类的概率.\n",
    "选择具有后验概率最大的类作为该对象所属的类.同时朴素--'特征为独同分布',\n",
    "同时因为先验概率需要我们先假设一个事件分布的概率分布方式(三种),因此也就有了我们在sklearn中对应的三种朴素贝叶斯算法\n",
    " - 高斯朴素贝叶斯分类器(默认条件概率分布概率符合高斯分布)\n",
    " - 多项式朴素贝叶斯分类器(条件概率符合多项式分布)\n",
    " - 伯努利朴素贝叶斯分类器(条件概率符合二项分布)\n",
    "\n",
    "尽管其假设过于简单，但是在很多实际情况下，朴素贝叶斯工作得很好，特别是文档分类和垃圾邮件过滤。\n",
    "这些工作都要求一个小的训练集来估计必需参数。\n",
    "\n",
    "同时相比于其他更复杂的方法，朴素贝叶斯学习器和分类器非常快。 \n",
    "分类条件分布的解耦意味着可以独立单独地把每个特征视为一维分布来估计。**这样反过来有助于缓解维度灾难带来的问题。**\n",
    "\n",
    "** 最后总结其特点有以下几个 **\n",
    " - 属性可以离散可以连续\n",
    " - 数学基础扎实,分类效率稳定\n",
    " - 对噪音数据与缺失数据不太敏感\n",
    " - 属性如果不相关,分类效果很好;如果相关,则不低于决策树\n",
    " - 假设简单,但是在很多实际情况下表现很好\n",
    " - 速度较快,一定程度上缓解了维度灾难"
   ]
  },
  {
   "cell_type": "code",
   "execution_count": 1,
   "metadata": {
    "collapsed": true
   },
   "outputs": [],
   "source": [
    "%matplotlib inline\n",
    "from sklearn import datasets, model_selection, naive_bayes\n",
    "import matplotlib.pyplot as plt\n",
    "import numpy as np"
   ]
  },
  {
   "cell_type": "code",
   "execution_count": 3,
   "metadata": {
    "collapsed": true
   },
   "outputs": [],
   "source": [
    "def load_data(datasets_name='iris'):\n",
    "    if datasets_name == 'iris':\n",
    "        data = datasets.load_iris()  # 加载 scikit-learn 自带的 iris 鸢尾花数据集-分类\n",
    "    elif datasets_name == 'wine': # 0.18.2 没有\n",
    "        data = datasets.load_wine()  # 加载 scikit-learn 自带的 wine 红酒起源数据集-分类\n",
    "    elif datasets_name == 'cancer':\n",
    "        data = datasets.load_breast_cancer()  # 加载 scikit-learn 自带的 乳腺癌数据集-分类\n",
    "    elif datasets_name == 'digits':\n",
    "        data = datasets.load_digits()  # 加载 scikit-learn 自带的 digits 糖尿病数据集-回归\n",
    "    elif datasets_name == 'boston':\n",
    "        data = datasets.load_boston()  # 加载 scikit-learn 自带的 boston 波士顿房价数据集-回归\n",
    "    else:\n",
    "        pass\n",
    "\n",
    "    return model_selection.train_test_split(data.data, data.target,test_size=0.25, random_state=0,stratify=data.target) \n",
    "    # 分层采样拆分成训练集和测试集，测试集大小为原始数据集大小的 1/4"
   ]
  },
  {
   "cell_type": "markdown",
   "metadata": {},
   "source": [
    "## 测试sklearn中的朴素贝叶斯算法,sklearn中朴素贝叶斯算法比较简单,只有三种\n",
    "\n",
    "也正是因为朴素贝叶斯算法比较简单,下面的代码已经基本给出了sklearn中朴素贝叶斯算法的所以有关内容.\n",
    "你可以运行下面的代码进行测试,同时下面也包括一定的可视化内容.\n",
    "\n",
    "\n",
    "**朴素贝叶斯模型可以解决整个训练集不能导入内存的大规模分类问题。 为了解决这个问题， MultinomialNB, BernoulliNB, 和 GaussianNB 实现了 partial_fit 方法，可以动态的增加数据，使用方法与其他分类器的一样，使用示例见 Out-of-core classification of text documents 。所有的朴素贝叶斯分类器都支持样本权重。**\n",
    "\n",
    "与 fit 方法不同，首次调用 partial_fit 方法需要传递一个所有期望的类标签的列表,之后只需要调用数据即可."
   ]
  },
  {
   "cell_type": "code",
   "execution_count": 17,
   "metadata": {
    "collapsed": true
   },
   "outputs": [],
   "source": [
    "def test_GaussianNB(*data, show=False):\n",
    "    X_train, X_test, y_train, y_test = data\n",
    "    cls = naive_bayes.GaussianNB()\n",
    "    cls.fit(X_train, y_train)\n",
    "    # print('GaussianNB Training Score: %.2f' % cls.score(X_train, y_train))\n",
    "    print('GaussianNB Testing Score: %.2f' % cls.score(X_test, y_test))"
   ]
  },
  {
   "cell_type": "code",
   "execution_count": 18,
   "metadata": {
    "collapsed": true
   },
   "outputs": [],
   "source": [
    "def test_MultinomialNB(*data, show=False):\n",
    "    X_train, X_test, y_train, y_test = data\n",
    "    cls = naive_bayes.MultinomialNB()\n",
    "    cls.fit(X_train, y_train)\n",
    "    # print('MultinomialNB Training Score: %.2f' % cls.score(X_train, y_train))\n",
    "    print('MultinomialNB Testing Score: %.2f' % cls.score(X_test, y_test))"
   ]
  },
  {
   "cell_type": "code",
   "execution_count": 19,
   "metadata": {
    "collapsed": true
   },
   "outputs": [],
   "source": [
    "def test_MultinomialNB_alpha(*data, show=False):\n",
    "    X_train, X_test, y_train, y_test = data\n",
    "    alphas = np.logspace(-2, 5, num=200)\n",
    "    train_scores = []\n",
    "    test_scores = []\n",
    "    for alpha in alphas:\n",
    "        cls = naive_bayes.MultinomialNB(alpha=alpha)\n",
    "        cls.fit(X_train, y_train)\n",
    "        train_scores.append(cls.score(X_train, y_train))\n",
    "        test_scores.append(cls.score(X_test, y_test))\n",
    "\n",
    "    if show:\n",
    "        ## 绘图:MultinomialNB 的预测性能随 alpha 参数的影响\n",
    "        fig = plt.figure()\n",
    "        ax = fig.add_subplot(1, 1, 1)\n",
    "        ax.plot(alphas, train_scores, label='Training Score')\n",
    "        ax.plot(alphas, test_scores, label='Testing Score')\n",
    "        ax.set_xlabel(r'$\\alpha$')\n",
    "        ax.set_ylabel('score')\n",
    "        ax.set_ylim(0, 1.0)\n",
    "        ax.set_title('MultinomialNB')\n",
    "        ax.set_xscale('log')\n",
    "        plt.show()\n",
    "\n",
    "    # print('MultinomialNB_alpha best train_scores %.2f' % (max(train_scores)))\n",
    "    print('MultinomialNB_alpha best test_scores %.2f' % (max(test_scores)))"
   ]
  },
  {
   "cell_type": "code",
   "execution_count": 20,
   "metadata": {
    "collapsed": true
   },
   "outputs": [],
   "source": [
    "def test_BernoulliNB(*data, show=False):\n",
    "    X_train, X_test, y_train, y_test = data\n",
    "    cls = naive_bayes.BernoulliNB()\n",
    "    cls.fit(X_train, y_train)\n",
    "    # print('BernoulliNB Training Score: %.2f' % cls.score(X_train, y_train))\n",
    "    print('BernoulliNB Testing Score: %.2f' % cls.score(X_test, y_test))"
   ]
  },
  {
   "cell_type": "code",
   "execution_count": 21,
   "metadata": {
    "collapsed": true
   },
   "outputs": [],
   "source": [
    "def test_BernoulliNB_alpha(*data, show=False):\n",
    "    X_train, X_test, y_train, y_test = data\n",
    "    alphas = np.logspace(-2, 5, num=200)\n",
    "    train_scores = []\n",
    "    test_scores = []\n",
    "    for alpha in alphas:\n",
    "        cls = naive_bayes.BernoulliNB(alpha=alpha)\n",
    "        cls.fit(X_train, y_train)\n",
    "        train_scores.append(cls.score(X_train, y_train))\n",
    "        test_scores.append(cls.score(X_test, y_test))\n",
    "\n",
    "    if show:\n",
    "        ## 绘图-展示BernoulliNB 的预测性能随 alpha 参数的影响\n",
    "        fig = plt.figure()\n",
    "        ax = fig.add_subplot(1, 1, 1)\n",
    "        ax.plot(alphas, train_scores, label='Training Score')\n",
    "        ax.plot(alphas, test_scores, label='Testing Score')\n",
    "        ax.set_xlabel(r'$\\alpha$')\n",
    "        ax.set_ylabel('score')\n",
    "        ax.set_ylim(0, 1.0)\n",
    "        ax.set_title('BernoulliNB')\n",
    "        ax.set_xscale('log')\n",
    "        ax.legend(loc='best')\n",
    "        plt.show()\n",
    "\n",
    "    # print('BernoulliNB_alpha best train_scores %.2f' % (max(train_scores)))\n",
    "    print('BernoulliNB_alpha best test_scores %.2f' % (max(test_scores)))"
   ]
  },
  {
   "cell_type": "code",
   "execution_count": 22,
   "metadata": {
    "collapsed": true
   },
   "outputs": [],
   "source": [
    "def test_BernoulliNB_binarize(*data, show=False):\n",
    "    X_train, X_test, y_train, y_test = data\n",
    "    min_x = min(np.min(X_train.ravel()), np.min(X_test.ravel())) - 0.1\n",
    "    max_x = max(np.max(X_train.ravel()), np.max(X_test.ravel())) + 0.1\n",
    "    binarizes = np.linspace(min_x, max_x, endpoint=True, num=100)\n",
    "    train_scores = []\n",
    "    test_scores = []\n",
    "    for binarize in binarizes:\n",
    "        cls = naive_bayes.BernoulliNB(binarize=binarize)\n",
    "        cls.fit(X_train, y_train)\n",
    "        train_scores.append(cls.score(X_train, y_train))\n",
    "        test_scores.append(cls.score(X_test, y_test))\n",
    "\n",
    "    if show:\n",
    "        ## 绘图-展示BernoulliNB 的预测性能随 binarize 参数的影响\n",
    "        fig = plt.figure()\n",
    "        ax = fig.add_subplot(1, 1, 1)\n",
    "        ax.plot(binarizes, train_scores, label='Training Score')\n",
    "        ax.plot(binarizes, test_scores, label='Testing Score')\n",
    "        ax.set_xlabel('binarize')\n",
    "        ax.set_ylabel('score')\n",
    "        ax.set_ylim(0, 1.0)\n",
    "        ax.set_xlim(min_x - 1, max_x + 1)\n",
    "        ax.set_title('BernoulliNB')\n",
    "        ax.legend(loc='best')\n",
    "        plt.show()\n",
    "\n",
    "    # print('BernoulliNB_binarize best train_scores %.2f' % (max(train_scores)))\n",
    "    print('BernoulliNB_binarize best test_scores %.2f' % (max(test_scores)))"
   ]
  },
  {
   "cell_type": "code",
   "execution_count": 29,
   "metadata": {
    "collapsed": true
   },
   "outputs": [],
   "source": [
    "def testFuc(fuc,show = False,no_all = True):\n",
    "    for i in ['iris', 'wine', 'cancer', 'digits', ]:\n",
    "            print('\\n====== %s ======\\n' % i)          \n",
    "            X_train, X_test, y_train, y_test = load_data(datasets_name=i)  # 产生用于分类问题的数据集\n",
    "            if no_all:\n",
    "                fuc(X_train, X_test, y_train, y_test,show = show) \n",
    "            else:\n",
    "                test_GaussianNB(X_train, X_test, y_train, y_test,show = show)  # 调用 test_GaussianNB\n",
    "                test_MultinomialNB(X_train,X_test,y_train,y_test,show = show) # 调用 test_MultinomialNB\n",
    "                test_MultinomialNB_alpha(X_train, X_test, y_train, y_test,show = show)  # 调用 test_MultinomialNB_alpha\n",
    "                test_BernoulliNB(X_train,X_test,y_train,y_test,show = show) # 调用 test_BernoulliNB\n",
    "                test_BernoulliNB_alpha(X_train, X_test, y_train, y_test,show = show)  # 调用 test_BernoulliNB_alpha\n",
    "                test_BernoulliNB_binarize(X_train, X_test, y_train, y_test,show = show)  # 调用 test_BernoulliNB_binarize"
   ]
  },
  {
   "cell_type": "markdown",
   "metadata": {},
   "source": [
    "** 下面是前面我们定义的用来测试的函数**\n",
    "\n",
    "\n",
    "`\n",
    "test_GaussianNB(X_train, X_test, y_train, y_test)  # 调用 test_GaussianNB\n",
    "test_MultinomialNB(X_train,X_test,y_train,y_test) # 调用 test_MultinomialNB\n",
    "test_MultinomialNB_alpha(X_train, X_test, y_train, y_test)  # 调用 test_MultinomialNB_alpha\n",
    "test_BernoulliNB(X_train,X_test,y_train,y_test) # 调用 test_BernoulliNB\n",
    "test_BernoulliNB_alpha(X_train, X_test, y_train, y_test)  # 调用 test_BernoulliNB_alpha\n",
    "test_BernoulliNB_binarize(X_train, X_test, y_train, y_test)  # 调用 test_BernoulliNB_binarize\n",
    "`"
   ]
  },
  {
   "cell_type": "code",
   "execution_count": 26,
   "metadata": {},
   "outputs": [
    {
     "name": "stdout",
     "output_type": "stream",
     "text": [
      "\n",
      "====== iris ======\n",
      "\n",
      "GaussianNB Testing Score: 0.97\n",
      "\n",
      "====== wine ======\n",
      "\n",
      "GaussianNB Testing Score: 0.96\n",
      "\n",
      "====== cancer ======\n",
      "\n",
      "GaussianNB Testing Score: 0.92\n",
      "\n",
      "====== digits ======\n",
      "\n",
      "GaussianNB Testing Score: 0.84\n"
     ]
    }
   ],
   "source": [
    "testFuc(test_GaussianNB)"
   ]
  },
  {
   "cell_type": "code",
   "execution_count": 31,
   "metadata": {},
   "outputs": [
    {
     "name": "stdout",
     "output_type": "stream",
     "text": [
      "\n",
      "====== iris ======\n",
      "\n",
      "GaussianNB Testing Score: 0.97\n",
      "MultinomialNB Testing Score: 1.00\n",
      "MultinomialNB_alpha best test_scores 1.00\n",
      "BernoulliNB Testing Score: 0.32\n",
      "BernoulliNB_alpha best test_scores 0.32\n",
      "BernoulliNB_binarize best test_scores 0.92\n",
      "\n",
      "====== wine ======\n",
      "\n",
      "GaussianNB Testing Score: 0.96\n",
      "MultinomialNB Testing Score: 0.82\n",
      "MultinomialNB_alpha best test_scores 0.84\n",
      "BernoulliNB Testing Score: 0.40\n",
      "BernoulliNB_alpha best test_scores 0.40\n",
      "BernoulliNB_binarize best test_scores 0.69\n",
      "\n",
      "====== cancer ======\n",
      "\n",
      "GaussianNB Testing Score: 0.92\n",
      "MultinomialNB Testing Score: 0.90\n",
      "MultinomialNB_alpha best test_scores 0.91\n",
      "BernoulliNB Testing Score: 0.63\n",
      "BernoulliNB_alpha best test_scores 0.63\n",
      "BernoulliNB_binarize best test_scores 0.91\n",
      "\n",
      "====== digits ======\n",
      "\n",
      "GaussianNB Testing Score: 0.84\n",
      "MultinomialNB Testing Score: 0.90\n",
      "MultinomialNB_alpha best test_scores 0.91\n",
      "BernoulliNB Testing Score: 0.87\n",
      "BernoulliNB_alpha best test_scores 0.87\n",
      "BernoulliNB_binarize best test_scores 0.91\n"
     ]
    }
   ],
   "source": [
    "testFuc(test_MultinomialNB,no_all = False)"
   ]
  },
  {
   "cell_type": "markdown",
   "metadata": {},
   "source": [
    "**不同的朴素贝叶斯算法的差异在于其假设的先验概率的不同**\n",
    "\n",
    "**数据的先验概率越贴近我们假设的先验概率的时候,我们的模型结果也就越准确**\n",
    "\n",
    "** 对于同一个算法,不同的超参数也有一定的影响,这个你可以通过改变我写的test_fun中的超参数show来进行绘图操作,查看不同超参数的区别 **\n",
    "\n",
    "## 参考资料\n",
    "\n",
    "对于朴素贝叶斯原理性的理解可以参考\n",
    " - [理解朴素贝叶斯](http://blog.csdn.net/fontthrone/article/details/78751452)\n",
    " - [sklearn中文文档-朴素贝叶斯](http://sklearn.apachecn.org/cn/0.19.0/modules/naive_bayes.html)\n",
    " - 《python大战机器学习 数据科学家的一个小目标》 华校专,王正林编著"
   ]
  }
 ],
 "metadata": {
  "anaconda-cloud": {},
  "kernelspec": {
   "display_name": "Python 3",
   "language": "python",
   "name": "python3"
  },
  "language_info": {
   "codemirror_mode": {
    "name": "ipython",
    "version": 3
   },
   "file_extension": ".py",
   "mimetype": "text/x-python",
   "name": "python",
   "nbconvert_exporter": "python",
   "pygments_lexer": "ipython3",
   "version": "3.8.5"
  },
  "latex_envs": {
   "LaTeX_envs_menu_present": true,
   "autoclose": false,
   "autocomplete": true,
   "bibliofile": "biblio.bib",
   "cite_by": "apalike",
   "current_citInitial": 1,
   "eqLabelWithNumbers": true,
   "eqNumInitial": 1,
   "hotkeys": {
    "equation": "Ctrl-E",
    "itemize": "Ctrl-I"
   },
   "labels_anchors": false,
   "latex_user_defs": false,
   "report_style_numbering": false,
   "user_envs_cfg": false
  },
  "varInspector": {
   "cols": {
    "lenName": 16,
    "lenType": 16,
    "lenVar": 40
   },
   "kernels_config": {
    "python": {
     "delete_cmd_postfix": "",
     "delete_cmd_prefix": "del ",
     "library": "var_list.py",
     "varRefreshCmd": "print(var_dic_list())"
    },
    "r": {
     "delete_cmd_postfix": ") ",
     "delete_cmd_prefix": "rm(",
     "library": "var_list.r",
     "varRefreshCmd": "cat(var_dic_list()) "
    }
   },
   "types_to_exclude": [
    "module",
    "function",
    "builtin_function_or_method",
    "instance",
    "_Feature"
   ],
   "window_display": false
  }
 },
 "nbformat": 4,
 "nbformat_minor": 2
}
