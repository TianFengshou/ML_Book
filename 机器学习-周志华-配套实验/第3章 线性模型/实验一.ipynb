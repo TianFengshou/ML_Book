{
 "cells": [
  {
   "cell_type": "markdown",
   "metadata": {},
   "source": [
    "# 配套实验一\n",
    "## 实验要求\n",
    "在《西瓜书》的习题3.4中这样写道：选择两个UCI数据集，比较10折交叉验证法与留一法所估计出的对数回归的错误率。\n",
    "\n",
    "我们这里通过sklearn获取【鸢尾花数据集】与【葡萄酒数据集】数据集进行具体实验，这两组数据集都存在于UCI。\n",
    "\n",
    "## 实验步骤\n",
    "\n",
    "（1）使用sklearn加载数据集\n",
    "\n",
    "（2）使用linear_model模块创建逻辑回归模型，注意参数选择和随机变量控制\n",
    "\n",
    "（3）创建交叉验证（cross_val_score）\n",
    "\n",
    "（4）将数据集与模型带入交叉验证，并得出结果\n",
    "\n",
    "（5）创建留一法（LeaveOneOut）\n",
    "\n",
    "（6）将数据集与模型带入使用留一法，并得出结果\n",
    "\n",
    "## 参考答案\n",
    "### 数据加载与分割"
   ]
  },
  {
   "cell_type": "code",
   "execution_count": 2,
   "metadata": {},
   "outputs": [],
   "source": [
    "from sklearn import datasets\n",
    "\n",
    "iris = datasets.load_iris() # scikit-learn 自带的 iris 数据集"
   ]
  },
  {
   "cell_type": "markdown",
   "metadata": {},
   "source": [
    "### 十折交叉验证"
   ]
  },
  {
   "cell_type": "code",
   "execution_count": 41,
   "metadata": {},
   "outputs": [
    {
     "name": "stdout",
     "output_type": "stream",
     "text": [
      "Accuracy: 0.9533 (+/- 0.0600)\n"
     ]
    }
   ],
   "source": [
    "from sklearn.model_selection import cross_val_score\n",
    "from sklearn.linear_model import LogisticRegression\n",
    "\n",
    "clf_lr = LogisticRegression(solver=\"liblinear\",random_state=0)\n",
    "\n",
    "scores_clf_lr_cv_acc = cross_val_score(clf_lr,iris.data,iris.target,cv=10,scoring='accuracy')\n",
    "print(\"Accuracy: %0.4f (+/- %0.4f)\" % (scores_clf_lr_cv_acc.mean(), scores_clf_lr_cv_acc.std()))"
   ]
  },
  {
   "cell_type": "markdown",
   "metadata": {},
   "source": [
    "### LOO"
   ]
  },
  {
   "cell_type": "code",
   "execution_count": 42,
   "metadata": {},
   "outputs": [
    {
     "name": "stdout",
     "output_type": "stream",
     "text": [
      "Accuracy: 0.9533 (+/- 0.2109)\n"
     ]
    }
   ],
   "source": [
    "from sklearn.model_selection import LeaveOneOut\n",
    "from sklearn.metrics import accuracy_score\n",
    "import numpy as np\n",
    "\n",
    "loo = LeaveOneOut()\n",
    "loo.get_n_splits(iris.data)\n",
    "mean_accuracy_score_list = []\n",
    "for train_index, test_index in loo.split(iris.data):\n",
    "    clf_lr.fit(iris.data[train_index], iris.target[train_index])\n",
    "    prediction = clf_lr.predict(iris.data[test_index])\n",
    "    mean_accuracy_score_list.append(accuracy_score(iris.target[test_index], prediction))\n",
    "print(\"Accuracy: %0.4f (+/- %0.4f)\" % (np.average(mean_accuracy_score_list),np.std(mean_accuracy_score_list)))"
   ]
  },
  {
   "cell_type": "markdown",
   "metadata": {},
   "source": [
    "### 结果对比\n",
    "\n",
    "从预测结果上来说，十折交叉验证与LOO（留一法）平均正确率一样，都是0.9533。\n",
    "因此又额外对比了标准差，从结果上来看可以看出交叉验证的标准差更小。\n",
    "\n",
    "\n",
    "### 更换数据集并对别结果"
   ]
  },
  {
   "cell_type": "code",
   "execution_count": 43,
   "metadata": {},
   "outputs": [
    {
     "name": "stdout",
     "output_type": "stream",
     "text": [
      "Accuracy: 0.9556 (+/- 0.0544)\n"
     ]
    }
   ],
   "source": [
    "wine = datasets.load_wine() # scikit-learn 自带的 wine 数据集\n",
    "\n",
    "scores_clf_lr_cv_acc = cross_val_score(clf_lr,wine.data,wine.target,cv=10,scoring='accuracy')\n",
    "print(\"Accuracy: %0.4f (+/- %0.4f)\" % (scores_clf_lr_cv_acc.mean(), scores_clf_lr_cv_acc.std()))"
   ]
  },
  {
   "cell_type": "code",
   "execution_count": 44,
   "metadata": {},
   "outputs": [
    {
     "name": "stdout",
     "output_type": "stream",
     "text": [
      "Accuracy: 0.9551 (+/- 0.2072)\n"
     ]
    }
   ],
   "source": [
    "loo = LeaveOneOut()\n",
    "loo.get_n_splits(wine.data)\n",
    "mean_accuracy_score_list = []\n",
    "for train_index, test_index in loo.split(wine.data):\n",
    "    clf_lr.fit(wine.data[train_index], wine.target[train_index])\n",
    "    prediction = clf_lr.predict(wine.data[test_index])\n",
    "    mean_accuracy_score_list.append(accuracy_score(wine.target[test_index], prediction))\n",
    "print(\"Accuracy: %0.4f (+/- %0.4f)\" % (np.average(mean_accuracy_score_list),np.std(mean_accuracy_score_list)))"
   ]
  },
  {
   "cell_type": "markdown",
   "metadata": {},
   "source": [
    "### 结果对比\n",
    "交叉验证比留一法正确率与标准差都更好一些。"
   ]
  },
  {
   "cell_type": "code",
   "execution_count": null,
   "metadata": {},
   "outputs": [],
   "source": []
  }
 ],
 "metadata": {
  "kernelspec": {
   "display_name": "Python 3 (ipykernel)",
   "language": "python",
   "name": "python3"
  },
  "language_info": {
   "codemirror_mode": {
    "name": "ipython",
    "version": 3
   },
   "file_extension": ".py",
   "mimetype": "text/x-python",
   "name": "python",
   "nbconvert_exporter": "python",
   "pygments_lexer": "ipython3",
   "version": "3.8.12"
  }
 },
 "nbformat": 4,
 "nbformat_minor": 4
}
